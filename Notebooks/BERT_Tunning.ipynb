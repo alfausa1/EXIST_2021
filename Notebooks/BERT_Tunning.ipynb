{
 "cells": [
  {
   "cell_type": "markdown",
   "metadata": {
    "id": "MSe1bhGW5fFz"
   },
   "source": [
    "# EXIST 2021 - BERT tunning <a class=\"anchor\" id=\"bert-tunning\"></a>\n",
    "\n",
    "    ÁLVARO FAUBEL SANCHIS\n",
    "    CLARA MARTÍ TORREGROSA"
   ]
  },
  {
   "cell_type": "markdown",
   "metadata": {},
   "source": [
    "#####  Table of contents :\n",
    "- [Requiered functions](#functions)\n",
    " * [Required libraries and configuration](#libraries)\n",
    " * [Train, Val, Test split](#split)\n",
    " * [Cleaning](#cleaning)\n",
    " * [BERT](#bert)\n",
    "     \n",
    "- [EXIST Task](#exist)\n",
    " * [Data load](#data-load)\n",
    " * [Fine Tunning Models](#fine-tunning)\n",
    "     - [Spanish](#tunning-sp)\n",
    "         - [Task 1](#sp-t1)\n",
    "         - [Task 2](#sp-t2)\n",
    "     - [English](#tunning-en)\n",
    "         - [Task 1](#en-t1)\n",
    "         - [Task 2](#en-t2)\n",
    "\n"
   ]
  },
  {
   "cell_type": "markdown",
   "metadata": {},
   "source": [
    "---"
   ]
  },
  {
   "cell_type": "markdown",
   "metadata": {
    "id": "kPa_TpLF5fF7"
   },
   "source": [
    "### Requiered functions <a class=\"anchor\" id=\"functions\"></a>"
   ]
  },
  {
   "cell_type": "markdown",
   "metadata": {},
   "source": [
    "#### Required libraries and configuration <a class=\"anchor\" id=\"libraries\"></a>"
   ]
  },
  {
   "cell_type": "code",
   "execution_count": null,
   "metadata": {},
   "outputs": [],
   "source": [
    "# Data & visualization\n",
    "import numpy as np\n",
    "import pandas as pd\n",
    "import seaborn as sns\n",
    "from collections import defaultdict\n",
    "import matplotlib.pyplot as plt\n",
    "\n",
    "# Pytoch \n",
    "import torch\n",
    "from torch import nn, optim\n",
    "from torch.utils.data import Dataset, DataLoader\n",
    "from torch.nn.utils.rnn import pack_padded_sequence\n",
    "\n",
    "# BERT Hugging Face\n",
    "import transformers\n",
    "from transformers import BertModel, BertTokenizer, AutoTokenizer, AutoModel\n",
    "from transformers import  AdamW, get_linear_schedule_with_warmup\n",
    "\n",
    "# Sklearn: methods & metrics \n",
    "from sklearn.model_selection import train_test_split\n",
    "from sklearn.utils.class_weight import compute_class_weight\n",
    "from sklearn.metrics import confusion_matrix, classification_report, f1_score\n",
    "\n",
    "# Configuration: seed & display\n",
    "RANDOM_SEED = 45\n",
    "np.random.seed(RANDOM_SEED)\n",
    "torch.manual_seed(RANDOM_SEED)\n",
    "device = torch.device(\"cuda:0\" if torch.cuda.is_available() else \"cpu\")"
   ]
  },
  {
   "cell_type": "markdown",
   "metadata": {
    "id": "r_hHmQjQ5fF7"
   },
   "source": [
    "####  Train, val, test split <a class=\"anchor\" id=\"split\"></a>"
   ]
  },
  {
   "cell_type": "code",
   "execution_count": 2,
   "metadata": {
    "id": "y7bm-16R5fF8"
   },
   "outputs": [],
   "source": [
    "def data_split(df, size = 0.1, stratify = None, seed = RANDOM_SEED):\n",
    "    if stratify != None:\n",
    "        df_train, df_test = train_test_split(df, test_size=size, random_state=seed, stratify=df[stratify])\n",
    "        df_val, df_test = train_test_split(df_test, test_size=0.5, random_state=seed, stratify=df_test[stratify])\n",
    "    else:\n",
    "        df_train, df_test = train_test_split(df, test_size=size, random_state=seed)\n",
    "        df_val, df_test = train_test_split(df_test, test_size=0.5, random_state=seed)\n",
    "    return df_train, df_val, df_test"
   ]
  },
  {
   "cell_type": "markdown",
   "metadata": {
    "id": "EkgQe4y75fF8"
   },
   "source": [
    "#### Cleaning (optional) <a class=\"anchor\" id=\"cleaning\"></a>"
   ]
  },
  {
   "cell_type": "code",
   "execution_count": 3,
   "metadata": {
    "id": "GXAACMw85fF8"
   },
   "outputs": [],
   "source": [
    "import preprocessor as p\n",
    "import re\n",
    "\n",
    "emoji_pattern = re.compile(\"[\"\n",
    "                            u\"\\U0001F600-\\U0001F64F\"  \n",
    "                            u\"\\U0001F300-\\U0001F5FF\"  \n",
    "                            u\"\\U0001F680-\\U0001F6FF\"  \n",
    "                            u\"\\U0001F1E0-\\U0001F1FF\"  \n",
    "                            \"]+\", flags=re.UNICODE)\n",
    "\n",
    "def clean_tweet(tweet, special_tokens = True, emoji_pattern = emoji_pattern):\n",
    "    if special_tokens:\n",
    "        text_clean = p.tokenize(tweet)\n",
    "    else:\n",
    "        text_clean = p.clean(tweet)\n",
    "    text_clean_emoji = emoji_pattern.sub(r'', text_clean)\n",
    "    return text_clean_emoji"
   ]
  },
  {
   "cell_type": "markdown",
   "metadata": {
    "id": "U7Qygtx-5fF9"
   },
   "source": [
    "#### BERT <a class=\"anchor\" id=\"bert\"></a>"
   ]
  },
  {
   "cell_type": "markdown",
   "metadata": {
    "id": "RCRQDXYU5fF9"
   },
   "source": [
    "*  Plot the chosen pre-trained tokenizer distribution"
   ]
  },
  {
   "cell_type": "code",
   "execution_count": 4,
   "metadata": {
    "id": "JytUxV3T5fF9"
   },
   "outputs": [],
   "source": [
    "def plot_tokens_distrib(df, column, tokenizer):\n",
    "    token_lens = []\n",
    "    for i, txt in enumerate(df[column]):\n",
    "        tokens = tokenizer.encode(txt)\n",
    "        token_lens.append(len(tokens))\n",
    "    sns.displot(token_lens)\n",
    "    plt.xlabel('Token count');"
   ]
  },
  {
   "cell_type": "markdown",
   "metadata": {
    "id": "i3fSaJLn5fF-"
   },
   "source": [
    "* Class for structure the data"
   ]
  },
  {
   "cell_type": "code",
   "execution_count": 5,
   "metadata": {
    "id": "SYP6ciUX5fF-"
   },
   "outputs": [],
   "source": [
    "class TweetsDataset(Dataset):\n",
    "    def __init__(self, tweets, targets, tokenizer, max_len):\n",
    "        self.tweets = tweets\n",
    "        self.targets = targets\n",
    "        self.tokenizer = tokenizer\n",
    "        self.max_len = max_len\n",
    "    \n",
    "    def __len__(self):\n",
    "        return len(self.tweets)\n",
    "    \n",
    "    def __getitem__(self, item):\n",
    "        tweet = str(self.tweets[item])\n",
    "        target = self.targets[item]\n",
    "        encoding = self.tokenizer.encode_plus(tweet,\n",
    "                                              add_special_tokens=True,\n",
    "                                              max_length=self.max_len,\n",
    "                                              return_token_type_ids=False,\n",
    "                                              pad_to_max_length=True,\n",
    "                                              return_attention_mask=True,\n",
    "                                              return_tensors='pt')\n",
    "    \n",
    "        return {'tweet_text': tweet,\n",
    "                'input_ids': encoding['input_ids'].flatten(),\n",
    "                'attention_mask': encoding['attention_mask'].flatten(),\n",
    "                'targets': torch.tensor(target, dtype=torch.long)}"
   ]
  },
  {
   "cell_type": "markdown",
   "metadata": {
    "id": "ob1m72uO5fF-"
   },
   "source": [
    "* Creation of data loaders objects for the segmentation in packets (batch)"
   ]
  },
  {
   "cell_type": "code",
   "execution_count": 6,
   "metadata": {
    "id": "XxhBCEqr5fF-"
   },
   "outputs": [],
   "source": [
    "def create_data_loader(df, column, target, tokenizer, max_len, batch_size):\n",
    "    ds = TweetsDataset(tweets=df[column].to_numpy(),\n",
    "                       targets=df[target].to_numpy(),\n",
    "                       tokenizer=tokenizer,\n",
    "                       max_len=max_len)\n",
    "    return DataLoader(ds, batch_size=batch_size, num_workers=0)"
   ]
  },
  {
   "cell_type": "markdown",
   "metadata": {
    "id": "1OLVNFpI5fF_"
   },
   "source": [
    "* Custom classifiers from pre-trained BERT model"
   ]
  },
  {
   "cell_type": "code",
   "execution_count": 7,
   "metadata": {
    "id": "YohMK4w25fF_"
   },
   "outputs": [],
   "source": [
    "class BERTClassifier(nn.Module):\n",
    "    def __init__(self, n_classes, model_name):\n",
    "        super(BERTClassifier, self).__init__()\n",
    "        self.bert = AutoModel.from_pretrained(model_name)\n",
    "        self.drop = nn.Dropout(p=0.1)\n",
    "        self.out = nn.Linear(self.bert.config.hidden_size, n_classes)\n",
    "        \n",
    "    def forward(self, input_ids, attention_mask):\n",
    "        last_hidden_states = self.bert(input_ids=input_ids,\n",
    "                                       attention_mask=attention_mask, return_dict=False)\n",
    "        output = self.drop(last_hidden_states[0][:,0,:])\n",
    "        return self.out(output)"
   ]
  },
  {
   "cell_type": "code",
   "execution_count": 8,
   "metadata": {
    "id": "NAZJPofr5fGA"
   },
   "outputs": [],
   "source": [
    "class BERTClassifier2(nn.Module):\n",
    "    def __init__(self, n_classes, model_name):\n",
    "        super(BERTClassifier2, self).__init__()\n",
    "        self.bert = AutoModel.from_pretrained(model_name) \n",
    "        self.dropout = nn.Dropout(0.1)\n",
    "        self.relu =  nn.ReLU()\n",
    "        self.fc1 = nn.Linear(768,512)\n",
    "        self.fc2 = nn.Linear(512,n_classes)\n",
    "        self.softmax = nn.LogSoftmax(dim=1)\n",
    "        \n",
    "    def forward(self, input_ids, attention_mask):\n",
    "        _,cls_hs = self.bert(input_ids, attention_mask=attention_mask, return_dict=False)   \n",
    "        x = self.fc1(cls_hs)\n",
    "        x = self.relu(x)\n",
    "        x = self.dropout(x)\n",
    "        x = self.fc2(x)\n",
    "        x = self.softmax(x)\n",
    "        return x"
   ]
  },
  {
   "cell_type": "markdown",
   "metadata": {
    "id": "ti1_SmQa5fGB"
   },
   "source": [
    "* Optimizer and planner"
   ]
  },
  {
   "cell_type": "code",
   "execution_count": 10,
   "metadata": {
    "id": "Gw_KkBJt5fGB"
   },
   "outputs": [],
   "source": [
    "def create_op_sch(model, data_loader, epochs, lr=1e-5, eps=1e-8):\n",
    "    optimizer = AdamW(model.parameters(), lr=lr, eps=eps, correct_bias=False)\n",
    "    scheduler = get_linear_schedule_with_warmup(optimizer,\n",
    "                                                num_warmup_steps=0,\n",
    "                                                num_training_steps=len(data_loader) * epochs)\n",
    "    return optimizer, scheduler"
   ]
  },
  {
   "cell_type": "markdown",
   "metadata": {
    "id": "_8Wh_6515fGB"
   },
   "source": [
    "* Class weights and loss function"
   ]
  },
  {
   "cell_type": "code",
   "execution_count": 11,
   "metadata": {
    "id": "B6C4pNHA5fGB"
   },
   "outputs": [],
   "source": [
    "def calc_class_weigths(df, target):\n",
    "    weights = compute_class_weight('balanced', np.unique(df[target]), df[target])\n",
    "    return torch.FloatTensor(weights)"
   ]
  },
  {
   "cell_type": "code",
   "execution_count": 12,
   "metadata": {
    "id": "FI0f2HVb5fGB"
   },
   "outputs": [],
   "source": [
    "def get_loss_function(weights = None):\n",
    "    if weights != None:\n",
    "        loss_fn = nn.CrossEntropyLoss(weight=weights)\n",
    "    else:\n",
    "        loss_fn = nn.CrossEntropyLoss()\n",
    "    return loss_fn"
   ]
  },
  {
   "cell_type": "markdown",
   "metadata": {
    "id": "6QtnhGPX5fGC"
   },
   "source": [
    "* One-stage training and model evaluation function"
   ]
  },
  {
   "cell_type": "code",
   "execution_count": 13,
   "metadata": {
    "id": "aBizraWH5fGC"
   },
   "outputs": [],
   "source": [
    "def train_epoch(model, data_loader, loss_fn, optimizer, device, scheduler, n_examples):\n",
    "    model = model.train()\n",
    "    losses = []\n",
    "    correct_predictions = 0\n",
    "    \n",
    "    for d in data_loader:\n",
    "        input_ids = d[\"input_ids\"].to(device)\n",
    "        attention_mask = d[\"attention_mask\"].to(device)\n",
    "        targets = d[\"targets\"].to(device)\n",
    "        \n",
    "        outputs = model(input_ids, attention_mask=attention_mask)\n",
    "        #probabilities = torch.nn.functional.softmax(outputs, dim=1)\n",
    "        #preds = (probabilities[:,1] > 0.75).float()\n",
    "        \n",
    "        _, preds = torch.max(outputs, dim=1)\n",
    "        loss = loss_fn(outputs, targets)\n",
    "\n",
    "        correct_predictions += torch.sum(preds == targets)\n",
    "        losses.append(loss.item())\n",
    "        \n",
    "        loss.backward()\n",
    "        nn.utils.clip_grad_norm_(model.parameters(), max_norm=1.0)\n",
    "        optimizer.step()\n",
    "        scheduler.step()\n",
    "        optimizer.zero_grad()\n",
    "    \n",
    "    return correct_predictions.double() / n_examples, np.mean(losses)"
   ]
  },
  {
   "cell_type": "code",
   "execution_count": 14,
   "metadata": {
    "id": "4jGDbJ3-5fGC"
   },
   "outputs": [],
   "source": [
    "def eval_model(model, data_loader, loss_fn, device, n_examples):\n",
    "    model = model.eval()\n",
    "    losses = []\n",
    "    correct_predictions = 0\n",
    "    \n",
    "    with torch.no_grad():\n",
    "        for d in data_loader:\n",
    "            input_ids = d[\"input_ids\"].to(device)\n",
    "            attention_mask = d[\"attention_mask\"].to(device)\n",
    "            targets = d[\"targets\"].to(device)\n",
    "            \n",
    "            outputs = model(input_ids, attention_mask=attention_mask)\n",
    "            #probabilities = torch.nn.functional.softmax(outputs, dim=1)\n",
    "            #preds = (probabilities[:,1] > 0.75).float()\n",
    "            \n",
    "            _, preds = torch.max(outputs, dim=1)\n",
    "            \n",
    "            loss = loss_fn(outputs, targets)\n",
    "        \n",
    "            correct_predictions += torch.sum(preds == targets)\n",
    "            losses.append(loss.item())\n",
    "    return correct_predictions.double() / n_examples, np.mean(losses)"
   ]
  },
  {
   "cell_type": "markdown",
   "metadata": {
    "id": "tk9bCzgB5fGD"
   },
   "source": [
    "* Training and validation loop"
   ]
  },
  {
   "cell_type": "code",
   "execution_count": 15,
   "metadata": {
    "id": "NOx61WoD5fGD"
   },
   "outputs": [],
   "source": [
    "def train_eval_model(model, data_dic, tools_dic, epochs, name_model, device=device):\n",
    "\n",
    "    history = defaultdict(list)\n",
    "    best_accuracy, best_loss = 0, 100\n",
    "    \n",
    "    train_data_loader = data_dic['train_data_loader']\n",
    "    val_data_loader = data_dic['val_data_loader']\n",
    "    \n",
    "    df_train = data_dic['df_train']\n",
    "    df_val = data_dic['df_val']\n",
    "    \n",
    "    loss_fn = tools_dic['loss_fn']\n",
    "    optimizer = tools_dic['optimizer']\n",
    "    scheduler = tools_dic['scheduler']\n",
    "\n",
    "    for epoch in range(epochs):\n",
    "        print(f'Epoch {epoch + 1}/{epochs}')\n",
    "        print('-' * 10)\n",
    "\n",
    "        train_acc, train_loss = train_epoch(model,\n",
    "                                            train_data_loader,\n",
    "                                            loss_fn,    \n",
    "                                            optimizer,\n",
    "                                            device,\n",
    "                                            scheduler,\n",
    "                                            len(df_train))\n",
    "\n",
    "        print(f'Train loss {train_loss} accuracy {train_acc}')\n",
    "\n",
    "        val_acc, val_loss = eval_model(model,\n",
    "                                       val_data_loader, \n",
    "                                       loss_fn, \n",
    "                                       device, \n",
    "                                       len(df_val))\n",
    "\n",
    "        print(f'Val   loss {val_loss} accuracy {val_acc}')\n",
    "        print()\n",
    "\n",
    "        history['train_acc'].append(train_acc)\n",
    "        history['train_loss'].append(train_loss)\n",
    "        history['val_acc'].append(val_acc)\n",
    "        history['val_loss'].append(val_loss)\n",
    "\n",
    "        if val_acc >= best_accuracy: \n",
    "            torch.save(model.state_dict(), '../Models/{}.bin'.format(name_model))\n",
    "            best_accuracy = val_acc\n",
    "\n",
    "        #if epoch + 1 == 10:\n",
    "        #    torch.save(model.state_dict(), 'best_model_state.bin')"
   ]
  },
  {
   "cell_type": "markdown",
   "metadata": {
    "id": "971hWVzj5fGD"
   },
   "source": [
    "* Get the predictions"
   ]
  },
  {
   "cell_type": "code",
   "execution_count": 16,
   "metadata": {
    "id": "LfgRk0_J5fGD"
   },
   "outputs": [],
   "source": [
    "def get_predictions(model, data_loader):\n",
    "    model = model.eval()\n",
    "    \n",
    "    tweets_texts = []\n",
    "    predictions = []\n",
    "    prediction_probs = []\n",
    "    real_values = []\n",
    "  \n",
    "    with torch.no_grad():\n",
    "        for d in data_loader:\n",
    "            \n",
    "            texts = d[\"tweet_text\"]\n",
    "            input_ids = d[\"input_ids\"].to(device)\n",
    "            attention_mask = d[\"attention_mask\"].to(device)\n",
    "            targets = d[\"targets\"].to(device)\n",
    "            \n",
    "            outputs = model(input_ids, attention_mask=attention_mask)\n",
    "            #probabilities = torch.nn.functional.softmax(outputs, dim=1)\n",
    "            #preds = (probabilities[:,1] > 0.7).float()\n",
    "            \n",
    "            _, preds = torch.max(outputs, dim=1)\n",
    "            \n",
    "            tweets_texts.extend(texts)\n",
    "            predictions.extend(preds)\n",
    "            prediction_probs.extend(outputs)\n",
    "            real_values.extend(targets)\n",
    "    \n",
    "    predictions = torch.stack(predictions).cpu()\n",
    "    prediction_probs = torch.stack(prediction_probs).cpu()\n",
    "    real_values = torch.stack(real_values).cpu()\n",
    "    return tweets_texts, predictions, prediction_probs, real_values"
   ]
  },
  {
   "cell_type": "markdown",
   "metadata": {
    "id": "CzxYTQwi5fGE"
   },
   "source": [
    "---"
   ]
  },
  {
   "cell_type": "markdown",
   "metadata": {
    "id": "PjnYFFB95fGE"
   },
   "source": [
    "# EXIST Task <a class=\"anchor\" id=\"exist\"></a>"
   ]
  },
  {
   "cell_type": "markdown",
   "metadata": {
    "id": "-Zn1Ux3k5fGE"
   },
   "source": [
    "## Data load <a class=\"anchor\" id=\"data-load\"></a>"
   ]
  },
  {
   "cell_type": "markdown",
   "metadata": {
    "id": "iMIr2Mp35fGE"
   },
   "source": [
    "#### Train data"
   ]
  },
  {
   "cell_type": "code",
   "execution_count": 17,
   "metadata": {
    "colab": {
     "base_uri": "https://localhost:8080/",
     "height": 204
    },
    "id": "6oinR4tl5fGE",
    "outputId": "268f737d-d893-439d-967e-404df799cdd1"
   },
   "outputs": [
    {
     "data": {
      "text/html": [
       "<div>\n",
       "<style scoped>\n",
       "    .dataframe tbody tr th:only-of-type {\n",
       "        vertical-align: middle;\n",
       "    }\n",
       "\n",
       "    .dataframe tbody tr th {\n",
       "        vertical-align: top;\n",
       "    }\n",
       "\n",
       "    .dataframe thead th {\n",
       "        text-align: right;\n",
       "    }\n",
       "</style>\n",
       "<table border=\"1\" class=\"dataframe\">\n",
       "  <thead>\n",
       "    <tr style=\"text-align: right;\">\n",
       "      <th></th>\n",
       "      <th>test_case</th>\n",
       "      <th>id</th>\n",
       "      <th>source</th>\n",
       "      <th>language</th>\n",
       "      <th>text</th>\n",
       "      <th>task1</th>\n",
       "      <th>task2</th>\n",
       "      <th>task1_encoding</th>\n",
       "    </tr>\n",
       "  </thead>\n",
       "  <tbody>\n",
       "    <tr>\n",
       "      <th>0</th>\n",
       "      <td>EXIST2021</td>\n",
       "      <td>1</td>\n",
       "      <td>twitter</td>\n",
       "      <td>en</td>\n",
       "      <td>She calls herself \"anti-feminazi\" how about sh...</td>\n",
       "      <td>sexist</td>\n",
       "      <td>ideological-inequality</td>\n",
       "      <td>1</td>\n",
       "    </tr>\n",
       "    <tr>\n",
       "      <th>1</th>\n",
       "      <td>EXIST2021</td>\n",
       "      <td>2</td>\n",
       "      <td>twitter</td>\n",
       "      <td>en</td>\n",
       "      <td>Now, back to these women, the brave and the be...</td>\n",
       "      <td>non-sexist</td>\n",
       "      <td>non-sexist</td>\n",
       "      <td>0</td>\n",
       "    </tr>\n",
       "    <tr>\n",
       "      <th>2</th>\n",
       "      <td>EXIST2021</td>\n",
       "      <td>3</td>\n",
       "      <td>twitter</td>\n",
       "      <td>en</td>\n",
       "      <td>@CurvyBandida @Xalynne_B Wow, your skirt is ve...</td>\n",
       "      <td>sexist</td>\n",
       "      <td>objectification</td>\n",
       "      <td>1</td>\n",
       "    </tr>\n",
       "    <tr>\n",
       "      <th>3</th>\n",
       "      <td>EXIST2021</td>\n",
       "      <td>4</td>\n",
       "      <td>twitter</td>\n",
       "      <td>en</td>\n",
       "      <td>@AurelieGuiboud Incredible!  Beautiful!But I l...</td>\n",
       "      <td>non-sexist</td>\n",
       "      <td>non-sexist</td>\n",
       "      <td>0</td>\n",
       "    </tr>\n",
       "    <tr>\n",
       "      <th>4</th>\n",
       "      <td>EXIST2021</td>\n",
       "      <td>5</td>\n",
       "      <td>twitter</td>\n",
       "      <td>en</td>\n",
       "      <td>i find it extremely hard to believe that kelly...</td>\n",
       "      <td>non-sexist</td>\n",
       "      <td>non-sexist</td>\n",
       "      <td>0</td>\n",
       "    </tr>\n",
       "  </tbody>\n",
       "</table>\n",
       "</div>"
      ],
      "text/plain": [
       "   test_case  id   source language  \\\n",
       "0  EXIST2021   1  twitter       en   \n",
       "1  EXIST2021   2  twitter       en   \n",
       "2  EXIST2021   3  twitter       en   \n",
       "3  EXIST2021   4  twitter       en   \n",
       "4  EXIST2021   5  twitter       en   \n",
       "\n",
       "                                                text       task1  \\\n",
       "0  She calls herself \"anti-feminazi\" how about sh...      sexist   \n",
       "1  Now, back to these women, the brave and the be...  non-sexist   \n",
       "2  @CurvyBandida @Xalynne_B Wow, your skirt is ve...      sexist   \n",
       "3  @AurelieGuiboud Incredible!  Beautiful!But I l...  non-sexist   \n",
       "4  i find it extremely hard to believe that kelly...  non-sexist   \n",
       "\n",
       "                    task2  task1_encoding  \n",
       "0  ideological-inequality               1  \n",
       "1              non-sexist               0  \n",
       "2         objectification               1  \n",
       "3              non-sexist               0  \n",
       "4              non-sexist               0  "
      ]
     },
     "execution_count": 17,
     "metadata": {},
     "output_type": "execute_result"
    }
   ],
   "source": [
    "df = pd.read_csv('../EXIST2021_dataset/training/EXIST2021_training.tsv', sep='\\t')\n",
    "df['task1_encoding'] = df['task1'].replace({'sexist': 1, 'non-sexist':  0})      # Codificamos la variable a numérica\n",
    "\n",
    "df.head()"
   ]
  },
  {
   "cell_type": "markdown",
   "metadata": {
    "id": "KPyWiBcB5fGF"
   },
   "source": [
    "* Separated a set with only the sexist tweets for task 2"
   ]
  },
  {
   "cell_type": "code",
   "execution_count": 18,
   "metadata": {
    "colab": {
     "base_uri": "https://localhost:8080/",
     "height": 204
    },
    "id": "hersO1on5fGG",
    "outputId": "1835a428-d6d5-4538-b7d9-52e2c8fbfa44"
   },
   "outputs": [
    {
     "data": {
      "text/html": [
       "<div>\n",
       "<style scoped>\n",
       "    .dataframe tbody tr th:only-of-type {\n",
       "        vertical-align: middle;\n",
       "    }\n",
       "\n",
       "    .dataframe tbody tr th {\n",
       "        vertical-align: top;\n",
       "    }\n",
       "\n",
       "    .dataframe thead th {\n",
       "        text-align: right;\n",
       "    }\n",
       "</style>\n",
       "<table border=\"1\" class=\"dataframe\">\n",
       "  <thead>\n",
       "    <tr style=\"text-align: right;\">\n",
       "      <th></th>\n",
       "      <th>test_case</th>\n",
       "      <th>id</th>\n",
       "      <th>source</th>\n",
       "      <th>language</th>\n",
       "      <th>text</th>\n",
       "      <th>task1</th>\n",
       "      <th>task2</th>\n",
       "      <th>task1_encoding</th>\n",
       "      <th>task2_encoding</th>\n",
       "    </tr>\n",
       "  </thead>\n",
       "  <tbody>\n",
       "    <tr>\n",
       "      <th>0</th>\n",
       "      <td>EXIST2021</td>\n",
       "      <td>1</td>\n",
       "      <td>twitter</td>\n",
       "      <td>en</td>\n",
       "      <td>She calls herself \"anti-feminazi\" how about sh...</td>\n",
       "      <td>sexist</td>\n",
       "      <td>ideological-inequality</td>\n",
       "      <td>1</td>\n",
       "      <td>0</td>\n",
       "    </tr>\n",
       "    <tr>\n",
       "      <th>2</th>\n",
       "      <td>EXIST2021</td>\n",
       "      <td>3</td>\n",
       "      <td>twitter</td>\n",
       "      <td>en</td>\n",
       "      <td>@CurvyBandida @Xalynne_B Wow, your skirt is ve...</td>\n",
       "      <td>sexist</td>\n",
       "      <td>objectification</td>\n",
       "      <td>1</td>\n",
       "      <td>4</td>\n",
       "    </tr>\n",
       "    <tr>\n",
       "      <th>5</th>\n",
       "      <td>EXIST2021</td>\n",
       "      <td>6</td>\n",
       "      <td>twitter</td>\n",
       "      <td>en</td>\n",
       "      <td>@Smithcouple971 Hello....m raj....m with good ...</td>\n",
       "      <td>sexist</td>\n",
       "      <td>sexual-violence</td>\n",
       "      <td>1</td>\n",
       "      <td>3</td>\n",
       "    </tr>\n",
       "    <tr>\n",
       "      <th>10</th>\n",
       "      <td>EXIST2021</td>\n",
       "      <td>11</td>\n",
       "      <td>twitter</td>\n",
       "      <td>en</td>\n",
       "      <td>@hapyshoper79 @Dis_Critic @MairiJCam @cazadams...</td>\n",
       "      <td>sexist</td>\n",
       "      <td>ideological-inequality</td>\n",
       "      <td>1</td>\n",
       "      <td>0</td>\n",
       "    </tr>\n",
       "    <tr>\n",
       "      <th>15</th>\n",
       "      <td>EXIST2021</td>\n",
       "      <td>16</td>\n",
       "      <td>twitter</td>\n",
       "      <td>en</td>\n",
       "      <td>@Ponderer_O_Purg @BynameRose @GameOverRos @nat...</td>\n",
       "      <td>sexist</td>\n",
       "      <td>ideological-inequality</td>\n",
       "      <td>1</td>\n",
       "      <td>0</td>\n",
       "    </tr>\n",
       "  </tbody>\n",
       "</table>\n",
       "</div>"
      ],
      "text/plain": [
       "    test_case  id   source language  \\\n",
       "0   EXIST2021   1  twitter       en   \n",
       "2   EXIST2021   3  twitter       en   \n",
       "5   EXIST2021   6  twitter       en   \n",
       "10  EXIST2021  11  twitter       en   \n",
       "15  EXIST2021  16  twitter       en   \n",
       "\n",
       "                                                 text   task1  \\\n",
       "0   She calls herself \"anti-feminazi\" how about sh...  sexist   \n",
       "2   @CurvyBandida @Xalynne_B Wow, your skirt is ve...  sexist   \n",
       "5   @Smithcouple971 Hello....m raj....m with good ...  sexist   \n",
       "10  @hapyshoper79 @Dis_Critic @MairiJCam @cazadams...  sexist   \n",
       "15  @Ponderer_O_Purg @BynameRose @GameOverRos @nat...  sexist   \n",
       "\n",
       "                     task2  task1_encoding  task2_encoding  \n",
       "0   ideological-inequality               1               0  \n",
       "2          objectification               1               4  \n",
       "5          sexual-violence               1               3  \n",
       "10  ideological-inequality               1               0  \n",
       "15  ideological-inequality               1               0  "
      ]
     },
     "execution_count": 18,
     "metadata": {},
     "output_type": "execute_result"
    }
   ],
   "source": [
    "df_t2 = df.drop(df.loc[df['task1']=='non-sexist'].index)\n",
    "df_t2['task2_encoding'] = df_t2['task2'].replace({'ideological-inequality' : 0,\n",
    "                                                  'stereotyping-dominance' : 1, 'misogyny-non-sexual-violence': 2,\n",
    "                                                  'sexual-violence' : 3, 'objectification': 4})\n",
    "df_t2.head()"
   ]
  },
  {
   "cell_type": "markdown",
   "metadata": {
    "id": "z87FTYDu5fGG"
   },
   "source": [
    "* Split the datasets into spanish and english"
   ]
  },
  {
   "cell_type": "code",
   "execution_count": 19,
   "metadata": {
    "id": "QlAx0-Bo5fGG"
   },
   "outputs": [],
   "source": [
    "df_es = df[df['language'] == 'es']\n",
    "df_en = df[df['language'] == 'en']\n",
    "\n",
    "df_t2_es = df_t2[df_t2['language'] == 'es']\n",
    "df_t2_en = df_t2[df_t2['language'] == 'en']"
   ]
  },
  {
   "cell_type": "markdown",
   "metadata": {},
   "source": [
    "---"
   ]
  },
  {
   "cell_type": "markdown",
   "metadata": {},
   "source": [
    "# Fine tunning <a class=\"anchor\" id=\"fine-tunning\"></a>"
   ]
  },
  {
   "cell_type": "markdown",
   "metadata": {
    "id": "l9o3Kpi05fGH"
   },
   "source": [
    "## Fine tunning models Spanish <a class=\"anchor\" id=\"tunning-sp\"></a>"
   ]
  },
  {
   "cell_type": "markdown",
   "metadata": {
    "id": "zvBm_1P85fGH"
   },
   "source": [
    "#### Task1 <a class=\"anchor\" id=\"sp-t1\"></a>"
   ]
  },
  {
   "cell_type": "code",
   "execution_count": 20,
   "metadata": {
    "colab": {
     "base_uri": "https://localhost:8080/"
    },
    "id": "0hnY04VR5fGH",
    "outputId": "a357a325-5061-4e04-f7d9-ef4c2bfea40e",
    "scrolled": true
   },
   "outputs": [
    {
     "name": "stderr",
     "output_type": "stream",
     "text": [
      "<ipython-input-20-cf9e4adac03e>:3: SettingWithCopyWarning: \n",
      "A value is trying to be set on a copy of a slice from a DataFrame.\n",
      "Try using .loc[row_indexer,col_indexer] = value instead\n",
      "\n",
      "See the caveats in the documentation: https://pandas.pydata.org/pandas-docs/stable/user_guide/indexing.html#returning-a-view-versus-a-copy\n",
      "  df_es['text_clean'] = [clean_tweet(tw, special_tokens=True) for tw in df_es.text]\n"
     ]
    }
   ],
   "source": [
    "p.set_options(p.OPT.URL, p.OPT.MENTION, p.OPT.SMILEY, p.OPT.RESERVED) #, p.OPT.HASHTAG p.OPT.NUMBER)\n",
    "\n",
    "df_es['text_clean'] = [clean_tweet(tw, special_tokens=True) for tw in df_es.text]"
   ]
  },
  {
   "cell_type": "markdown",
   "metadata": {
    "id": "brQgJ_NZ5fGH"
   },
   "source": [
    "* We divide the train dataset in English into train, val and test"
   ]
  },
  {
   "cell_type": "code",
   "execution_count": 21,
   "metadata": {
    "colab": {
     "base_uri": "https://localhost:8080/"
    },
    "id": "PtdkSKUY5fGH",
    "outputId": "c041aefd-ec1c-4bc2-b5eb-4d1be4321d4f"
   },
   "outputs": [
    {
     "data": {
      "text/plain": [
       "((3186, 9), (177, 9), (178, 9))"
      ]
     },
     "execution_count": 21,
     "metadata": {},
     "output_type": "execute_result"
    }
   ],
   "source": [
    "df_train_es1, df_val_es1, df_test_es1 = data_split(df_es, stratify='task1_encoding')\n",
    "df_train_es1.shape, df_val_es1.shape, df_test_es1.shape"
   ]
  },
  {
   "cell_type": "markdown",
   "metadata": {
    "id": "1f-aiIeZ5fGI"
   },
   "source": [
    "* Choose the pre-trained BERT model and see the length distribution of the tokenized tweets"
   ]
  },
  {
   "cell_type": "code",
   "execution_count": 24,
   "metadata": {
    "id": "c-Wlpa585fGI",
    "scrolled": true
   },
   "outputs": [],
   "source": [
    "PRE_TRAINED_MODEL_NAME_ES1 = 'dccuchile/bert-base-spanish-wwm-cased'\n",
    "tokenizer_es1 = AutoTokenizer.from_pretrained(PRE_TRAINED_MODEL_NAME_ES1)"
   ]
  },
  {
   "cell_type": "code",
   "execution_count": 25,
   "metadata": {
    "colab": {
     "base_uri": "https://localhost:8080/",
     "height": 383
    },
    "id": "dUAhAJ8v5fGI",
    "outputId": "8d9e02e2-2590-4db3-98a6-b960b8549314"
   },
   "outputs": [
    {
     "data": {
      "image/png": "[encoded data removed]",
      "text/plain": [
       "<Figure size 360x360 with 1 Axes>"
      ]
     },
     "metadata": {
      "needs_background": "light"
     },
     "output_type": "display_data"
    }
   ],
   "source": [
    "plot_tokens_distrib(df_es, 'text_clean', tokenizer_es1)"
   ]
  },
  {
   "cell_type": "markdown",
   "metadata": {
    "id": "zVckVFbM5fGI"
   },
   "source": [
    "* Set a maximum length based on the previous results"
   ]
  },
  {
   "cell_type": "code",
   "execution_count": 26,
   "metadata": {
    "id": "4S-Nx9_Q5fGI"
   },
   "outputs": [],
   "source": [
    "MAX_LEN_ES1 = 155"
   ]
  },
  {
   "cell_type": "markdown",
   "metadata": {
    "id": "r5vmE3--5fGJ"
   },
   "source": [
    "* Create the data_loader with a chosen batch size"
   ]
  },
  {
   "cell_type": "code",
   "execution_count": 27,
   "metadata": {
    "id": "UYeoNLZ05fGJ"
   },
   "outputs": [],
   "source": [
    "BATCH_SIZE_ES1 = 16\n",
    "\n",
    "train_data_loader_es1 = create_data_loader(df_train_es1, 'text_clean', 'task1_encoding', tokenizer_es1, MAX_LEN_ES1, BATCH_SIZE_ES1)\n",
    "val_data_loader_es1 = create_data_loader(df_val_es1, 'text_clean', 'task1_encoding', tokenizer_es1, MAX_LEN_ES1, BATCH_SIZE_ES1)\n",
    "test_data_loader_es1 = create_data_loader(df_test_es1, 'text_clean', 'task1_encoding', tokenizer_es1, MAX_LEN_ES1, BATCH_SIZE_ES1)"
   ]
  },
  {
   "cell_type": "markdown",
   "metadata": {
    "id": "WGa5iYYG5fGJ"
   },
   "source": [
    "* Define the bert model with two classes"
   ]
  },
  {
   "cell_type": "code",
   "execution_count": 28,
   "metadata": {
    "colab": {
     "base_uri": "https://localhost:8080/"
    },
    "id": "7VoKWPRr5fGJ",
    "outputId": "9692b3fb-1c4b-4548-b16e-5f24b728d843"
   },
   "outputs": [
    {
     "name": "stderr",
     "output_type": "stream",
     "text": [
      "Some weights of BertModel were not initialized from the model checkpoint at dccuchile/bert-base-spanish-wwm-cased and are newly initialized: ['bert.pooler.dense.weight', 'bert.pooler.dense.bias']\n",
      "You should probably TRAIN this model on a down-stream task to be able to use it for predictions and inference.\n"
     ]
    }
   ],
   "source": [
    "model_es1 = BERTClassifier2(2, PRE_TRAINED_MODEL_NAME_ES1)\n",
    "model_es1 = model_es1.to(device)"
   ]
  },
  {
   "cell_type": "markdown",
   "metadata": {
    "id": "c70Ejg965fGJ"
   },
   "source": [
    "* Define the number of learning stages and obtain the optimizer, planner and the necessary loss function"
   ]
  },
  {
   "cell_type": "code",
   "execution_count": 29,
   "metadata": {
    "id": "18QYt0hp5fGJ"
   },
   "outputs": [],
   "source": [
    "EPOCHS_ES1 = 10\n",
    "\n",
    "optimizer_es1, scheduler_es1 = create_op_sch(model_es1, train_data_loader_es1, EPOCHS_ES1)\n",
    "loss_fn_es1 = get_loss_function().to(device)\n",
    "\n",
    "#loss_fn_es1 = nn.NLLLoss() "
   ]
  },
  {
   "cell_type": "markdown",
   "metadata": {
    "id": "JaEJ-Jl75fGK"
   },
   "source": [
    "* Put the data and necessary objects for the training of the model in dictionaries"
   ]
  },
  {
   "cell_type": "code",
   "execution_count": 30,
   "metadata": {
    "id": "M9Hma5f55fGK"
   },
   "outputs": [],
   "source": [
    "data_dic_es1 = {'train_data_loader': train_data_loader_es1,\n",
    "                'val_data_loader': val_data_loader_es1,\n",
    "                'df_train': df_train_es1,\n",
    "                'df_val': df_val_es1}\n",
    "\n",
    "tools_dic_es1 = {'loss_fn': loss_fn_es1,\n",
    "                 'optimizer': optimizer_es1,\n",
    "                 'scheduler': scheduler_es1}"
   ]
  },
  {
   "cell_type": "markdown",
   "metadata": {
    "id": "0hdT4eCW5fGK"
   },
   "source": [
    "* Train the model"
   ]
  },
  {
   "cell_type": "code",
   "execution_count": 31,
   "metadata": {
    "colab": {
     "base_uri": "https://localhost:8080/"
    },
    "id": "s4GyiOTC5fGK",
    "outputId": "06b10ff8-bf86-449e-b583-ec690072da51"
   },
   "outputs": [
    {
     "name": "stderr",
     "output_type": "stream",
     "text": [
      "Truncation was not explicitly activated but `max_length` is provided a specific value, please use `truncation=True` to explicitly truncate examples to max length. Defaulting to 'longest_first' truncation strategy. If you encode pairs of sequences (GLUE-style) with the tokenizer you can select this strategy more precisely by providing a specific strategy to `truncation`.\n"
     ]
    },
    {
     "name": "stdout",
     "output_type": "stream",
     "text": [
      "Epoch 1/10\n",
      "----------\n"
     ]
    },
    {
     "name": "stderr",
     "output_type": "stream",
     "text": [
      "c:\\python\\python39\\lib\\site-packages\\transformers\\tokenization_utils_base.py:2073: FutureWarning: The `pad_to_max_length` argument is deprecated and will be removed in a future version, use `padding=True` or `padding='longest'` to pad to the longest sequence in the batch, or use `padding='max_length'` to pad to a max length. In this case, you can give a specific length with `max_length` (e.g. `max_length=45`) or leave max_length to None to pad to the maximal input size of the model (e.g. 512 for Bert).\n",
      "  warnings.warn(\n"
     ]
    },
    {
     "name": "stdout",
     "output_type": "stream",
     "text": [
      "Train loss 0.5633366690576076 accuracy 0.7052730696798494\n",
      "Val   loss 0.6021323055028915 accuracy 0.7005649717514124\n",
      "\n",
      "Epoch 2/10\n",
      "----------\n",
      "Train loss 0.35106835022568705 accuracy 0.8615819209039549\n",
      "Val   loss 0.7105737378199896 accuracy 0.751412429378531\n",
      "\n",
      "Epoch 3/10\n",
      "----------\n",
      "Train loss 0.21216464810073377 accuracy 0.9337727558066542\n",
      "Val   loss 1.056621586283048 accuracy 0.7401129943502824\n",
      "\n",
      "Epoch 4/10\n",
      "----------\n",
      "Train loss 0.14335405827732756 accuracy 0.9588826114249843\n",
      "Val   loss 1.1656143392125766 accuracy 0.768361581920904\n",
      "\n",
      "Epoch 5/10\n",
      "----------\n",
      "Train loss 0.09306970047880896 accuracy 0.9742623979912116\n",
      "Val   loss 1.3337407757838566 accuracy 0.7627118644067796\n",
      "\n",
      "Epoch 6/10\n",
      "----------\n",
      "Train loss 0.059764649014687164 accuracy 0.9833647206528563\n",
      "Val   loss 1.5437449390689533 accuracy 0.751412429378531\n",
      "\n",
      "Epoch 7/10\n",
      "----------\n",
      "Train loss 0.043973578558652665 accuracy 0.9908976773383554\n",
      "Val   loss 1.797756351530552 accuracy 0.7288135593220338\n",
      "\n",
      "Epoch 8/10\n",
      "----------\n",
      "Train loss 0.03575340129202232 accuracy 0.9927809165097301\n",
      "Val   loss 1.7287539690732956 accuracy 0.7344632768361582\n",
      "\n",
      "Epoch 9/10\n",
      "----------\n",
      "Train loss 0.029395777766476384 accuracy 0.9934086629001884\n",
      "Val   loss 1.7389384731650352 accuracy 0.7344632768361582\n",
      "\n",
      "Epoch 10/10\n",
      "----------\n",
      "Train loss 0.024268092164129486 accuracy 0.9956057752667923\n",
      "Val   loss 1.810583693285783 accuracy 0.7231638418079096\n",
      "\n",
      "Wall time: 3min 50s\n"
     ]
    }
   ],
   "source": [
    "%%time\n",
    "train_eval_model(model_es1, data_dic_es1, tools_dic_es1, EPOCHS_ES1, 'task1_spanish')"
   ]
  },
  {
   "cell_type": "markdown",
   "metadata": {
    "id": "drti5_L65fGK"
   },
   "source": [
    "* Test and validate the model on the test subset"
   ]
  },
  {
   "cell_type": "code",
   "execution_count": 33,
   "metadata": {
    "colab": {
     "base_uri": "https://localhost:8080/"
    },
    "id": "lKX5HaJy5fGL",
    "outputId": "b2e6bce6-82ca-41fe-8c67-ecc6894cbaa6"
   },
   "outputs": [
    {
     "name": "stderr",
     "output_type": "stream",
     "text": [
      "Some weights of BertModel were not initialized from the model checkpoint at dccuchile/bert-base-spanish-wwm-cased and are newly initialized: ['bert.pooler.dense.weight', 'bert.pooler.dense.bias']\n",
      "You should probably TRAIN this model on a down-stream task to be able to use it for predictions and inference.\n"
     ]
    }
   ],
   "source": [
    "model_es1 = BERTClassifier2(2, PRE_TRAINED_MODEL_NAME_ES1)\n",
    "model_es1.load_state_dict(torch.load('../Models/task1_spanish.bin'))\n",
    "model_es1 = model_es1.to(device)"
   ]
  },
  {
   "cell_type": "code",
   "execution_count": 34,
   "metadata": {
    "colab": {
     "base_uri": "https://localhost:8080/"
    },
    "id": "6nFrZs3j5fGL",
    "outputId": "fd4d97c0-3167-4420-aca6-2ec2e56d1321"
   },
   "outputs": [],
   "source": [
    "y_tweets_es1, y_pred_es1, y_pred_probs_es1, y_test_es1 = get_predictions(model_es1, test_data_loader_es1)"
   ]
  },
  {
   "cell_type": "code",
   "execution_count": 35,
   "metadata": {
    "colab": {
     "base_uri": "https://localhost:8080/"
    },
    "id": "yfmjxmlw5fGL",
    "outputId": "640d7fad-db31-4c78-be79-693eb18f360f",
    "scrolled": false
   },
   "outputs": [
    {
     "name": "stdout",
     "output_type": "stream",
     "text": [
      "              precision    recall  f1-score   support\n",
      "\n",
      "           0       0.88      0.79      0.83        90\n",
      "           1       0.80      0.89      0.84        88\n",
      "\n",
      "    accuracy                           0.84       178\n",
      "   macro avg       0.84      0.84      0.84       178\n",
      "weighted avg       0.84      0.84      0.84       178\n",
      "\n"
     ]
    }
   ],
   "source": [
    "print(classification_report(y_test_es1, y_pred_es1))"
   ]
  },
  {
   "cell_type": "code",
   "execution_count": 36,
   "metadata": {
    "id": "5lTCCRpG5fGL"
   },
   "outputs": [],
   "source": [
    "torch.cuda.empty_cache()"
   ]
  },
  {
   "cell_type": "markdown",
   "metadata": {},
   "source": [
    "---"
   ]
  },
  {
   "cell_type": "markdown",
   "metadata": {
    "id": "2ElalS-95fGM"
   },
   "source": [
    "#### Task2 <a class=\"anchor\" id=\"sp-t2\"></a>"
   ]
  },
  {
   "cell_type": "code",
   "execution_count": 22,
   "metadata": {
    "colab": {
     "base_uri": "https://localhost:8080/"
    },
    "id": "JqGLP6A15fGM",
    "outputId": "58671206-c8d7-459d-a813-11871832eb85",
    "scrolled": true
   },
   "outputs": [
    {
     "name": "stderr",
     "output_type": "stream",
     "text": [
      "<ipython-input-22-1bc8e9d6bd4d>:3: SettingWithCopyWarning: \n",
      "A value is trying to be set on a copy of a slice from a DataFrame.\n",
      "Try using .loc[row_indexer,col_indexer] = value instead\n",
      "\n",
      "See the caveats in the documentation: https://pandas.pydata.org/pandas-docs/stable/user_guide/indexing.html#returning-a-view-versus-a-copy\n",
      "  df_t2_es['text_clean'] = [clean_tweet(tw, special_tokens=True) for tw in df_t2_es.text]\n"
     ]
    }
   ],
   "source": [
    "p.set_options(p.OPT.URL, p.OPT.MENTION, p.OPT.SMILEY, p.OPT.RESERVED) #, p.OPT.HASHTAG p.OPT.NUMBER)\n",
    "\n",
    "df_t2_es['text_clean'] = [clean_tweet(tw, special_tokens=True) for tw in df_t2_es.text]"
   ]
  },
  {
   "cell_type": "markdown",
   "metadata": {
    "id": "KIRJyGU85fGM"
   },
   "source": [
    "* Split the train dataset in English into train, val and test"
   ]
  },
  {
   "cell_type": "code",
   "execution_count": 23,
   "metadata": {
    "colab": {
     "base_uri": "https://localhost:8080/"
    },
    "id": "E9OLu1I05fGM",
    "outputId": "244bb28d-2033-4cf2-b315-7ea543cf1a14"
   },
   "outputs": [
    {
     "data": {
      "text/plain": [
       "((1566, 10), (87, 10), (88, 10))"
      ]
     },
     "execution_count": 23,
     "metadata": {},
     "output_type": "execute_result"
    }
   ],
   "source": [
    "df_train_es2, df_val_es2, df_test_es2 = data_split(df_t2_es)\n",
    "df_train_es2.shape, df_val_es2.shape, df_test_es2.shape"
   ]
  },
  {
   "cell_type": "markdown",
   "metadata": {
    "id": "5TwQ7Kph5fGN"
   },
   "source": [
    "* Choose the pre-trained BERT model and see the length distribution of the tokenized tweets"
   ]
  },
  {
   "cell_type": "code",
   "execution_count": 24,
   "metadata": {
    "colab": {
     "base_uri": "https://localhost:8080/",
     "height": 262,
     "referenced_widgets": [
      "416d868bcbb640278eaa127de13fcc00",
      "dbe24b56a69b4d3cbf0e156c698bb4f2",
      "4bba21196239472684f784d1ee1209d7",
      "e33f2dc7592946898487e17da7216ee5",
      "598f71e775b14f19994f625dcce5bcea",
      "45422dd063fd472b9b2436e0bfd34a1e",
      "fdaca2793ab5424491d0cca492f0468a",
      "1d9327db2534402f95abfcccd1ed3c72",
      "8efff1729ad64062b188a1ccd6ca427d",
      "fbf4deae2be64bc58aa9b05a298eb09f",
      "a91fe4cf25af42deb0fce6a524694dc8",
      "11b445171e2145b392098eb439c70ff5",
      "08bbc225ac9647659a007d894d38350c",
      "86a834927e154bbe8c4c298a433e0f19",
      "1842a368b4db46d4831df0f259c9986c",
      "7f39d68e00394bd4b2c2487dc5b72d96",
      "21f0c43271904529911ce9c6b9d6ee6a",
      "def6fc76aee4416a93794deef1fee816",
      "1ca1833fb8034dd3a861e403b053e6e3",
      "6a5c5295add341e2a011be3071dc24f6",
      "2084981d825a4a74889e4879d5e00546",
      "864a82f182e34a6aa18a1f505fea3da2",
      "db1fb4bf59264766a580594cf86498e5",
      "e537d98349b64bc38ee9212fd3961b6b",
      "122605c2bf894a74a9b5426b619f41b4",
      "5a1843a6026548058c0cfe210b5a878e",
      "2f4119d4f2ae4f60b45c2f0a6d3b5391",
      "ced2d264660542f79e66dd16ca2d53c0",
      "a593b6ca468c459ab2b5e37bdb8d0867",
      "5e45dc739dcf468b81c1b1c94df474fd",
      "5d47febe219f464fb502272c6639ff07",
      "6fc1e6b2601440deb58e4a16dd5e82fa",
      "d205e2df94d34cacb980afdcc550b32b",
      "3d8b35afa34f4a3fa15415536839467b",
      "4e2feb41cb564067a44e9f5b6efa1892",
      "ff76006f79b349e98822f004c9e84f70",
      "645c00fe6009438eb9110aafcfbb9cf4",
      "c613224583a14f4b8767489d782aab70",
      "786303bd48654b2aa98a056fb3da7d40",
      "317b6c3c26d049ea805f426cc54e5b32"
     ]
    },
    "id": "7K8NkPiI5fGN",
    "outputId": "b63eaa30-d985-46a7-f783-075b5e876bb9",
    "scrolled": true
   },
   "outputs": [],
   "source": [
    "PRE_TRAINED_MODEL_NAME_ES2 = 'dccuchile/bert-base-spanish-wwm-cased'\n",
    "tokenizer_es2 = AutoTokenizer.from_pretrained(PRE_TRAINED_MODEL_NAME_ES2)"
   ]
  },
  {
   "cell_type": "code",
   "execution_count": 25,
   "metadata": {
    "colab": {
     "base_uri": "https://localhost:8080/",
     "height": 383
    },
    "id": "yS1iQybO5fGN",
    "outputId": "12b8f043-e96f-415e-dba3-5baf4d89e069"
   },
   "outputs": [
    {
     "data": {
      "image/png": "[encoded data removed]",
      "text/plain": [
       "<Figure size 360x360 with 1 Axes>"
      ]
     },
     "metadata": {
      "needs_background": "light"
     },
     "output_type": "display_data"
    }
   ],
   "source": [
    "plot_tokens_distrib(df_t2_es, 'text_clean', tokenizer_es2)"
   ]
  },
  {
   "cell_type": "markdown",
   "metadata": {
    "id": "z8mnndCZ5fGN"
   },
   "source": [
    "* Set a maximum length based on the previous results"
   ]
  },
  {
   "cell_type": "code",
   "execution_count": 26,
   "metadata": {
    "id": "XPh_iTgw5fGN"
   },
   "outputs": [],
   "source": [
    "MAX_LEN_ES2 = 120"
   ]
  },
  {
   "cell_type": "markdown",
   "metadata": {
    "id": "JWqBGkc05fGO"
   },
   "source": [
    "* Create the data_loader with a chosen batch size"
   ]
  },
  {
   "cell_type": "code",
   "execution_count": 27,
   "metadata": {
    "id": "Olplzxpu5fGO"
   },
   "outputs": [],
   "source": [
    "BATCH_SIZE_ES2 = 16\n",
    "\n",
    "train_data_loader_es2 = create_data_loader(df_train_es2, 'text_clean', 'task2_encoding', tokenizer_es2, MAX_LEN_ES2, BATCH_SIZE_ES2)\n",
    "val_data_loader_es2 = create_data_loader(df_val_es2, 'text_clean', 'task2_encoding', tokenizer_es2, MAX_LEN_ES2, BATCH_SIZE_ES2)\n",
    "test_data_loader_es2 = create_data_loader(df_test_es2, 'text_clean', 'task2_encoding', tokenizer_es2, MAX_LEN_ES2, BATCH_SIZE_ES2)"
   ]
  },
  {
   "cell_type": "markdown",
   "metadata": {
    "id": "3XeSaAhR5fGO"
   },
   "source": [
    "* Define the bert model with five classes"
   ]
  },
  {
   "cell_type": "code",
   "execution_count": 28,
   "metadata": {
    "colab": {
     "base_uri": "https://localhost:8080/",
     "height": 120,
     "referenced_widgets": [
      "d1c5678c5b9646cdb8418bccf8164e7e",
      "137176fdfea34083b9e67083f13593dc",
      "8c04f60a60a441fd85cd7584bbe09243",
      "1809b5222b3042fc8fc9758e4794042e",
      "67dedaac34ff44eea6a6030ab84f5266",
      "685cf17cf9164467b04ed0d8966a3474",
      "855c817a4177498ba50ec3e3e066ffb7",
      "cf1b70026b184b22890b866c078855a6"
     ]
    },
    "id": "H-kUPvl55fGO",
    "outputId": "d2047d34-ccb2-41bf-9363-138632ccb462"
   },
   "outputs": [
    {
     "name": "stderr",
     "output_type": "stream",
     "text": [
      "Some weights of BertModel were not initialized from the model checkpoint at dccuchile/bert-base-spanish-wwm-cased and are newly initialized: ['bert.pooler.dense.weight', 'bert.pooler.dense.bias']\n",
      "You should probably TRAIN this model on a down-stream task to be able to use it for predictions and inference.\n"
     ]
    }
   ],
   "source": [
    "model_es2 = BERTClassifier2(5, PRE_TRAINED_MODEL_NAME_ES2)\n",
    "model_es2 = model_es2.to(device)"
   ]
  },
  {
   "cell_type": "markdown",
   "metadata": {
    "id": "0FaiDamN5fGO"
   },
   "source": [
    "* Define the number of learning stages and obtain the necessary optimizer, planner and loss function"
   ]
  },
  {
   "cell_type": "code",
   "execution_count": 32,
   "metadata": {
    "id": "bn3PsxBg5fGO"
   },
   "outputs": [],
   "source": [
    "EPOCHS_ES2 = 10\n",
    "\n",
    "optimizer_es2, scheduler_es2 = create_op_sch(model_es2, train_data_loader_es2, EPOCHS_ES2)\n",
    "#loss_fn_es2 = get_loss_function().to(device)\n",
    "loss_fn_es2 = get_loss_function(torch.FloatTensor([0.73, 0.8, 0.9, 2, 1.4])).to(device)"
   ]
  },
  {
   "cell_type": "markdown",
   "metadata": {
    "id": "gaKAxsVR5fGP"
   },
   "source": [
    "* Put the data and necessary objects for the training of the model in dictionaries"
   ]
  },
  {
   "cell_type": "code",
   "execution_count": 33,
   "metadata": {
    "id": "K-qoD6Y55fGP"
   },
   "outputs": [],
   "source": [
    "data_dic_es2 = {'train_data_loader': train_data_loader_es2,\n",
    "                'val_data_loader': val_data_loader_es2,\n",
    "                'df_train': df_train_es2,\n",
    "                'df_val': df_val_es2}\n",
    "\n",
    "tools_dic_es2 = {'loss_fn': loss_fn_es2,\n",
    "                 'optimizer': optimizer_es2,\n",
    "                 'scheduler': scheduler_es2}"
   ]
  },
  {
   "cell_type": "markdown",
   "metadata": {
    "id": "5gOQ7Xnu5fGP"
   },
   "source": [
    "* Train the model"
   ]
  },
  {
   "cell_type": "code",
   "execution_count": 34,
   "metadata": {
    "colab": {
     "base_uri": "https://localhost:8080/"
    },
    "id": "cmu4mU1v5fGP",
    "outputId": "dc168df9-18a7-40db-b024-227c002b2648",
    "scrolled": false
   },
   "outputs": [
    {
     "name": "stderr",
     "output_type": "stream",
     "text": [
      "Truncation was not explicitly activated but `max_length` is provided a specific value, please use `truncation=True` to explicitly truncate examples to max length. Defaulting to 'longest_first' truncation strategy. If you encode pairs of sequences (GLUE-style) with the tokenizer you can select this strategy more precisely by providing a specific strategy to `truncation`.\n"
     ]
    },
    {
     "name": "stdout",
     "output_type": "stream",
     "text": [
      "Epoch 1/10\n",
      "----------\n"
     ]
    },
    {
     "name": "stderr",
     "output_type": "stream",
     "text": [
      "c:\\python\\python39\\lib\\site-packages\\transformers\\tokenization_utils_base.py:2073: FutureWarning: The `pad_to_max_length` argument is deprecated and will be removed in a future version, use `padding=True` or `padding='longest'` to pad to the longest sequence in the batch, or use `padding='max_length'` to pad to a max length. In this case, you can give a specific length with `max_length` (e.g. `max_length=45`) or leave max_length to None to pad to the maximal input size of the model (e.g. 512 for Bert).\n",
      "  warnings.warn(\n"
     ]
    },
    {
     "name": "stdout",
     "output_type": "stream",
     "text": [
      "Train loss 1.206607527270609 accuracy 0.5287356321839081\n",
      "Val   loss 0.9404509862263998 accuracy 0.632183908045977\n",
      "\n",
      "Epoch 2/10\n",
      "----------\n",
      "Train loss 0.6993424317666462 accuracy 0.7579821200510856\n",
      "Val   loss 0.9232983589172363 accuracy 0.6436781609195402\n",
      "\n",
      "Epoch 3/10\n",
      "----------\n",
      "Train loss 0.41361049805976907 accuracy 0.8659003831417625\n",
      "Val   loss 0.940850963195165 accuracy 0.6781609195402298\n",
      "\n",
      "Epoch 4/10\n",
      "----------\n",
      "Train loss 0.26231602864453984 accuracy 0.9265644955300129\n",
      "Val   loss 1.170370360215505 accuracy 0.6666666666666666\n",
      "\n",
      "Epoch 5/10\n",
      "----------\n",
      "Train loss 0.1671185051376114 accuracy 0.9559386973180077\n",
      "Val   loss 1.266593724489212 accuracy 0.6896551724137931\n",
      "\n",
      "Epoch 6/10\n",
      "----------\n",
      "Train loss 0.1113760323757876 accuracy 0.9699872286079183\n",
      "Val   loss 1.349612255891164 accuracy 0.6666666666666666\n",
      "\n",
      "Epoch 7/10\n",
      "----------\n",
      "Train loss 0.0847315567032415 accuracy 0.9814814814814815\n",
      "Val   loss 1.661484162012736 accuracy 0.6091954022988506\n",
      "\n",
      "Epoch 8/10\n",
      "----------\n",
      "Train loss 0.06483172475151261 accuracy 0.9872286079182632\n",
      "Val   loss 1.7090628147125244 accuracy 0.632183908045977\n",
      "\n",
      "Epoch 9/10\n",
      "----------\n",
      "Train loss 0.048852881316893866 accuracy 0.9897828863346105\n",
      "Val   loss 1.7200303077697754 accuracy 0.6206896551724138\n",
      "\n",
      "Epoch 10/10\n",
      "----------\n",
      "Train loss 0.04114569780625859 accuracy 0.9897828863346105\n",
      "Val   loss 1.7757177750269573 accuracy 0.632183908045977\n",
      "\n",
      "Wall time: 1min 34s\n"
     ]
    }
   ],
   "source": [
    "%%time\n",
    "train_eval_model(model_es2, data_dic_es2, tools_dic_es2, EPOCHS_ES2, 'task2_spanish')"
   ]
  },
  {
   "cell_type": "markdown",
   "metadata": {
    "id": "01wbyqEw5fGP"
   },
   "source": [
    "* Test and validate the model on the test subset"
   ]
  },
  {
   "cell_type": "code",
   "execution_count": 39,
   "metadata": {
    "colab": {
     "base_uri": "https://localhost:8080/"
    },
    "id": "p2vl0RL35fGP",
    "outputId": "d7e40534-98be-4a12-970f-74ad3a17ea86"
   },
   "outputs": [
    {
     "name": "stderr",
     "output_type": "stream",
     "text": [
      "Some weights of BertModel were not initialized from the model checkpoint at dccuchile/bert-base-spanish-wwm-cased and are newly initialized: ['bert.pooler.dense.weight', 'bert.pooler.dense.bias']\n",
      "You should probably TRAIN this model on a down-stream task to be able to use it for predictions and inference.\n"
     ]
    }
   ],
   "source": [
    "model_es2 = BERTClassifier2(5, PRE_TRAINED_MODEL_NAME_ES2)\n",
    "model_es2.load_state_dict(torch.load('../Models/task2_spanish.bin'))\n",
    "model_es2 = model_es2.to(device)"
   ]
  },
  {
   "cell_type": "code",
   "execution_count": 40,
   "metadata": {
    "colab": {
     "base_uri": "https://localhost:8080/"
    },
    "id": "sU2Ohr5g5fGQ",
    "outputId": "3b8df490-fcf6-45d0-c9ac-6beefd887e3a"
   },
   "outputs": [
    {
     "name": "stderr",
     "output_type": "stream",
     "text": [
      "c:\\python\\python39\\lib\\site-packages\\transformers\\tokenization_utils_base.py:2073: FutureWarning: The `pad_to_max_length` argument is deprecated and will be removed in a future version, use `padding=True` or `padding='longest'` to pad to the longest sequence in the batch, or use `padding='max_length'` to pad to a max length. In this case, you can give a specific length with `max_length` (e.g. `max_length=45`) or leave max_length to None to pad to the maximal input size of the model (e.g. 512 for Bert).\n",
      "  warnings.warn(\n"
     ]
    }
   ],
   "source": [
    "y_tweets_es2, y_pred_es2, y_pred_probs_es2, y_test_es2 = get_predictions(model_es2, test_data_loader_es2)"
   ]
  },
  {
   "cell_type": "code",
   "execution_count": 41,
   "metadata": {
    "colab": {
     "base_uri": "https://localhost:8080/"
    },
    "id": "r5FvRwYi5fGQ",
    "outputId": "ba49e362-2d5c-4ab5-ea98-570eb8939201",
    "scrolled": false
   },
   "outputs": [
    {
     "name": "stdout",
     "output_type": "stream",
     "text": [
      "              precision    recall  f1-score   support\n",
      "\n",
      "           0       0.83      0.75      0.79        20\n",
      "           1       0.79      0.76      0.77        29\n",
      "           2       0.62      0.79      0.70        19\n",
      "           3       0.75      0.50      0.60        12\n",
      "           4       0.60      0.75      0.67         8\n",
      "\n",
      "    accuracy                           0.73        88\n",
      "   macro avg       0.72      0.71      0.71        88\n",
      "weighted avg       0.74      0.73      0.73        88\n",
      "\n"
     ]
    }
   ],
   "source": [
    "print(classification_report(y_test_es2, y_pred_es2))"
   ]
  },
  {
   "cell_type": "code",
   "execution_count": 37,
   "metadata": {},
   "outputs": [],
   "source": [
    "torch.cuda.empty_cache()"
   ]
  },
  {
   "cell_type": "markdown",
   "metadata": {
    "id": "fDmPVH-C5fGQ"
   },
   "source": [
    "---"
   ]
  },
  {
   "cell_type": "markdown",
   "metadata": {
    "id": "P7eH0Z9l5fGQ"
   },
   "source": [
    "### Fine tunning models English <a class=\"anchor\" id=\"tunning-en\"></a>"
   ]
  },
  {
   "cell_type": "markdown",
   "metadata": {
    "id": "tgh8zYzf5fGQ"
   },
   "source": [
    "#### Task1 <a class=\"anchor\" id=\"en-t1\"></a>"
   ]
  },
  {
   "cell_type": "code",
   "execution_count": 20,
   "metadata": {
    "colab": {
     "base_uri": "https://localhost:8080/"
    },
    "id": "l0X43gXH5fGR",
    "outputId": "bb250cb1-dbf9-4d3b-b0d5-6c8951453329",
    "scrolled": true
   },
   "outputs": [
    {
     "name": "stderr",
     "output_type": "stream",
     "text": [
      "<ipython-input-20-10a68f95080b>:2: SettingWithCopyWarning: \n",
      "A value is trying to be set on a copy of a slice from a DataFrame.\n",
      "Try using .loc[row_indexer,col_indexer] = value instead\n",
      "\n",
      "See the caveats in the documentation: https://pandas.pydata.org/pandas-docs/stable/user_guide/indexing.html#returning-a-view-versus-a-copy\n",
      "  df_en['text_clean'] = [clean_tweet(tw, special_tokens=True) for tw in df_en.text]\n"
     ]
    }
   ],
   "source": [
    "p.set_options(p.OPT.URL, p.OPT.MENTION, p.OPT.SMILEY, p.OPT.RESERVED, p.OPT.HASHTAG, p.OPT.NUMBER)\n",
    "df_en['text_clean'] = [clean_tweet(tw, special_tokens=True) for tw in df_en.text]"
   ]
  },
  {
   "cell_type": "markdown",
   "metadata": {
    "id": "7egumYSW5fGR"
   },
   "source": [
    "* Split the train dataset in English into train, val and test"
   ]
  },
  {
   "cell_type": "code",
   "execution_count": 21,
   "metadata": {
    "colab": {
     "base_uri": "https://localhost:8080/"
    },
    "id": "Cq8EGkSb5fGR",
    "outputId": "ed0a6c2a-86e5-4e7f-a557-9ae7793db6bd"
   },
   "outputs": [
    {
     "data": {
      "text/plain": [
       "((3092, 9), (172, 9), (172, 9))"
      ]
     },
     "execution_count": 21,
     "metadata": {},
     "output_type": "execute_result"
    }
   ],
   "source": [
    "df_train_en1, df_val_en1, df_test_en1 = data_split(df_en, stratify='task1_encoding')\n",
    "df_train_en1.shape, df_val_en1.shape, df_test_en1.shape"
   ]
  },
  {
   "cell_type": "markdown",
   "metadata": {
    "id": "EkeT0See5fGR"
   },
   "source": [
    "* Choose the pre-trained BERT model and see the length distribution of the tokenized tweets"
   ]
  },
  {
   "cell_type": "code",
   "execution_count": 22,
   "metadata": {
    "colab": {
     "base_uri": "https://localhost:8080/",
     "height": 164,
     "referenced_widgets": [
      "4b3a1b9c52464269ad2686f5898a3692",
      "1791c6e66e974793a12070afa4c92091",
      "4124d47f3dfe4bb7bb166f796fe30b44",
      "0da7e4836fe745ffa5b22127aa0c2818",
      "f2a9d1e1e98e4567843d636d7a5393e3",
      "7d62cd6b6e3b42838625d0aa92b7e6a1",
      "ad727bd6e6ab4c519537bce0b68a516a",
      "777ed717fc4e4f9a8ae9bad9aa116c60",
      "31e0a738859349dbac42b68d35c10822",
      "6f04d7a5a80e484ab1c4932e8eccd816",
      "7d77dc12ddd54aff8be298e366255081",
      "c11b627bad7246b5af9c872cc87b74da",
      "d9480deca0954bb6a15ee01cfdd00d47",
      "ae6848f0a415409683cff7c78589f5af",
      "90e2980fd3184b7ca38b492eb38152ad",
      "8f0e4525acce4ee8a8c931a9665917ab",
      "a15d99349ece42e1b7fe25331a1dc63e",
      "d93cd655c984404ebdaa045fff47e9fc",
      "3a95d6ab02854491896288d32d44dbd6",
      "7d7d8512f49243c797daf6deda8cbbf4",
      "ca41fe16268647c3a0a8c5ec888f88d3",
      "0d4dc9e462ec4bb6957a90389df19f3a",
      "70b86569b27d47eb8c71d77bc03946d7",
      "ab5a3df53c6c4625a5def529cc0f17b2"
     ]
    },
    "id": "ggGYBFrX5fGR",
    "outputId": "09923579-b2d5-46d4-c95b-4d684c167fa7"
   },
   "outputs": [],
   "source": [
    "#PRE_TRAINED_MODEL_NAME_EN1 = 'vinai/bertweet-base'\n",
    "PRE_TRAINED_MODEL_NAME_EN1 = 'cardiffnlp/twitter-roberta-base'\n",
    "\n",
    "#tokenizer_en1 = AutoTokenizer.from_pretrained(PRE_TRAINED_MODEL_NAME_EN1, normalization = True, use_fast = True)\n",
    "tokenizer_en1 = AutoTokenizer.from_pretrained(PRE_TRAINED_MODEL_NAME_EN1)"
   ]
  },
  {
   "cell_type": "code",
   "execution_count": 23,
   "metadata": {
    "colab": {
     "base_uri": "https://localhost:8080/",
     "height": 383
    },
    "id": "c1YO8r_q5fGR",
    "outputId": "9e183cf8-b2e8-4e35-96db-b6d97e14179e"
   },
   "outputs": [
    {
     "data": {
      "image/png": "[encoded data removed]",
      "text/plain": [
       "<Figure size 360x360 with 1 Axes>"
      ]
     },
     "metadata": {
      "needs_background": "light"
     },
     "output_type": "display_data"
    }
   ],
   "source": [
    "plot_tokens_distrib(df_en, 'text_clean', tokenizer_en1)"
   ]
  },
  {
   "cell_type": "markdown",
   "metadata": {
    "id": "OQ_Mnc-x5fGS"
   },
   "source": [
    "* Set a maximum length based on the previous results"
   ]
  },
  {
   "cell_type": "code",
   "execution_count": 24,
   "metadata": {
    "id": "IV5ESC_E5fGS"
   },
   "outputs": [],
   "source": [
    "MAX_LEN_EN1 = 170"
   ]
  },
  {
   "cell_type": "markdown",
   "metadata": {
    "id": "zMWRnz2L5fGS"
   },
   "source": [
    "* Create the data_loader with a chosen batch size"
   ]
  },
  {
   "cell_type": "code",
   "execution_count": 25,
   "metadata": {
    "id": "JV0y7YON5fGS"
   },
   "outputs": [],
   "source": [
    "BATCH_SIZE_EN1 = 8\n",
    "\n",
    "train_data_loader_en1 = create_data_loader(df_train_en1, 'text_clean', 'task1_encoding', tokenizer_en1, MAX_LEN_EN1, BATCH_SIZE_EN1)\n",
    "val_data_loader_en1 = create_data_loader(df_val_en1, 'text_clean', 'task1_encoding', tokenizer_en1, MAX_LEN_EN1, BATCH_SIZE_EN1)\n",
    "test_data_loader_en1 = create_data_loader(df_test_en1, 'text_clean', 'task1_encoding', tokenizer_en1, MAX_LEN_EN1, BATCH_SIZE_EN1)"
   ]
  },
  {
   "cell_type": "markdown",
   "metadata": {
    "id": "9tILPQHd5fGS"
   },
   "source": [
    "* Define the BERT model with two classes"
   ]
  },
  {
   "cell_type": "code",
   "execution_count": 26,
   "metadata": {
    "colab": {
     "base_uri": "https://localhost:8080/",
     "height": 66,
     "referenced_widgets": [
      "0d40d586a91c4e118815b051990fa734",
      "964a9e687e584467af80da8641aa7801",
      "3ff6a4cfad42485da2d4144021e436c4",
      "50301de2868d4a59b95361efa825698b",
      "1ae9ec1985ee4ed7aff01f9e23d06261",
      "215f2af92e75429289771dd39aedb435",
      "a3d90c66a10d4eb5996e67a37b337864",
      "8f3711f1896041ba9eb60e0480f028cb"
     ]
    },
    "id": "ATlWEUNl5fGS",
    "outputId": "b5b71df4-5859-4047-a701-5f8af76a438b"
   },
   "outputs": [],
   "source": [
    "model_en1 = BERTClassifier2(2, PRE_TRAINED_MODEL_NAME_EN1)\n",
    "model_en1 = model_en1.to(device)"
   ]
  },
  {
   "cell_type": "markdown",
   "metadata": {
    "id": "Nh-P6jTq5fGS"
   },
   "source": [
    "* Define the number of learning stages and obtain the necessary optimizer, planner and loss function"
   ]
  },
  {
   "cell_type": "code",
   "execution_count": 27,
   "metadata": {
    "id": "lKl7Ocyh5fGT"
   },
   "outputs": [],
   "source": [
    "EPOCHS_EN1 = 10\n",
    "\n",
    "optimizer_en1, scheduler_en1 = create_op_sch(model_en1, train_data_loader_en1, EPOCHS_EN1)\n",
    "#class_weigths = calc_class_weigths(df_en, 'task1')\n",
    "#loss_fn_en1 = get_loss_function(weights=class_weigths).to(device)\n",
    "loss_fn_en1 = get_loss_function().to(device)"
   ]
  },
  {
   "cell_type": "markdown",
   "metadata": {
    "id": "DVtznAnV5fGT"
   },
   "source": [
    "* Put the data and necessary objects for the training of the model in dictionaries"
   ]
  },
  {
   "cell_type": "code",
   "execution_count": 28,
   "metadata": {
    "id": "iCtpdcTL5fGT"
   },
   "outputs": [],
   "source": [
    "data_dic_en1 = {'train_data_loader': train_data_loader_en1,\n",
    "                'val_data_loader': val_data_loader_en1,\n",
    "                'df_train': df_train_en1,\n",
    "                'df_val': df_val_en1}\n",
    "\n",
    "tools_dic_en1 = {'loss_fn': loss_fn_en1,\n",
    "                 'optimizer': optimizer_en1,\n",
    "                 'scheduler': scheduler_en1}"
   ]
  },
  {
   "cell_type": "markdown",
   "metadata": {
    "id": "KPB8j4ik5fGT"
   },
   "source": [
    "* Train the model"
   ]
  },
  {
   "cell_type": "code",
   "execution_count": 30,
   "metadata": {},
   "outputs": [
    {
     "name": "stderr",
     "output_type": "stream",
     "text": [
      "Truncation was not explicitly activated but `max_length` is provided a specific value, please use `truncation=True` to explicitly truncate examples to max length. Defaulting to 'longest_first' truncation strategy. If you encode pairs of sequences (GLUE-style) with the tokenizer you can select this strategy more precisely by providing a specific strategy to `truncation`.\n"
     ]
    },
    {
     "name": "stdout",
     "output_type": "stream",
     "text": [
      "Epoch 1/10\n",
      "----------\n"
     ]
    },
    {
     "name": "stderr",
     "output_type": "stream",
     "text": [
      "c:\\python\\python39\\lib\\site-packages\\transformers\\tokenization_utils_base.py:2073: FutureWarning: The `pad_to_max_length` argument is deprecated and will be removed in a future version, use `padding=True` or `padding='longest'` to pad to the longest sequence in the batch, or use `padding='max_length'` to pad to a max length. In this case, you can give a specific length with `max_length` (e.g. `max_length=45`) or leave max_length to None to pad to the maximal input size of the model (e.g. 512 for Bert).\n",
      "  warnings.warn(\n"
     ]
    },
    {
     "name": "stdout",
     "output_type": "stream",
     "text": [
      "Train loss 0.5932536664390072 accuracy 0.6982535575679173\n",
      "Val   loss 0.4833324985070662 accuracy 0.7674418604651163\n",
      "\n",
      "Epoch 2/10\n",
      "----------\n",
      "Train loss 0.4310253822465533 accuracy 0.8082147477360933\n",
      "Val   loss 0.492377680811015 accuracy 0.7790697674418604\n",
      "\n",
      "Epoch 3/10\n",
      "----------\n",
      "Train loss 0.3136138118534666 accuracy 0.8800129366106081\n",
      "Val   loss 0.6518577432090585 accuracy 0.7441860465116279\n",
      "\n",
      "Epoch 4/10\n",
      "----------\n",
      "Train loss 0.23917592614505095 accuracy 0.9184993531694696\n",
      "Val   loss 0.6781427453864705 accuracy 0.7848837209302325\n",
      "\n",
      "Epoch 5/10\n",
      "----------\n",
      "Train loss 0.19425598562685484 accuracy 0.9427554980595085\n",
      "Val   loss 0.7623537562110207 accuracy 0.8023255813953488\n",
      "\n",
      "Epoch 6/10\n",
      "----------\n",
      "Train loss 0.14986794634443737 accuracy 0.9573091849935318\n",
      "Val   loss 0.7976913885636763 accuracy 0.8023255813953488\n",
      "\n",
      "Epoch 7/10\n",
      "----------\n",
      "Train loss 0.12610801618747874 accuracy 0.9650711513583442\n",
      "Val   loss 0.8509427309036255 accuracy 0.8023255813953488\n",
      "\n",
      "Epoch 8/10\n",
      "----------\n",
      "Train loss 0.11095283136549454 accuracy 0.9692755498059509\n",
      "Val   loss 0.8918393308466132 accuracy 0.8023255813953488\n",
      "\n",
      "Epoch 9/10\n",
      "----------\n",
      "Train loss 0.10078525881897465 accuracy 0.971862871927555\n",
      "Val   loss 0.9307498417117379 accuracy 0.8081395348837209\n",
      "\n",
      "Epoch 10/10\n",
      "----------\n",
      "Train loss 0.07824163479711284 accuracy 0.9783311772315654\n",
      "Val   loss 0.9477352120659568 accuracy 0.8023255813953488\n",
      "\n",
      "Wall time: 3min 18s\n"
     ]
    }
   ],
   "source": [
    "%%time\n",
    "train_eval_model(model_en1, data_dic_en1, tools_dic_en1, EPOCHS_EN1, 'task1_english')"
   ]
  },
  {
   "cell_type": "markdown",
   "metadata": {
    "id": "6Kz2g_-v5fGT"
   },
   "source": [
    "* Test and validate the model on the test subset"
   ]
  },
  {
   "cell_type": "code",
   "execution_count": 30,
   "metadata": {
    "id": "yhgm17e_5fGU"
   },
   "outputs": [],
   "source": [
    "model_en1 = BERTClassifier2(2, PRE_TRAINED_MODEL_NAME_EN1)\n",
    "model_en1.load_state_dict(torch.load('../Models/task1_english.bin'))\n",
    "model_en1 = model_en1.to(device)"
   ]
  },
  {
   "cell_type": "code",
   "execution_count": 31,
   "metadata": {
    "colab": {
     "base_uri": "https://localhost:8080/"
    },
    "id": "n6vmQkhb5fGU",
    "outputId": "5d2a4dea-6bc6-4d1f-e427-551f7ceaf37e"
   },
   "outputs": [],
   "source": [
    "y_tweets_en1, y_pred_en1, y_pred_probs_en1, y_test_en1 = get_predictions(model_en1, test_data_loader_en1)"
   ]
  },
  {
   "cell_type": "code",
   "execution_count": null,
   "metadata": {},
   "outputs": [],
   "source": [
    "print(classification_report(y_test_en1, y_pred_en1))"
   ]
  },
  {
   "cell_type": "code",
   "execution_count": 33,
   "metadata": {
    "colab": {
     "base_uri": "https://localhost:8080/"
    },
    "id": "V2E4DR6X5fGU",
    "outputId": "d9fd3c58-ed0d-485e-8faf-866773c3cd31",
    "scrolled": true
   },
   "outputs": [
    {
     "name": "stdout",
     "output_type": "stream",
     "text": [
      "              precision    recall  f1-score   support\n",
      "\n",
      "           0       0.88      0.78      0.82        90\n",
      "           1       0.78      0.88      0.83        82\n",
      "\n",
      "    accuracy                           0.83       172\n",
      "   macro avg       0.83      0.83      0.83       172\n",
      "weighted avg       0.83      0.83      0.83       172\n",
      "\n"
     ]
    }
   ],
   "source": [
    "print(classification_report(y_test_en1, y_pred_en1))"
   ]
  },
  {
   "cell_type": "code",
   "execution_count": 51,
   "metadata": {},
   "outputs": [],
   "source": [
    "torch.cuda.empty_cache()"
   ]
  },
  {
   "cell_type": "markdown",
   "metadata": {},
   "source": [
    "---"
   ]
  },
  {
   "cell_type": "markdown",
   "metadata": {
    "id": "3ACxE8xF5fGV"
   },
   "source": [
    "#### Task2 <a class=\"anchor\" id=\"en-t2\"></a>"
   ]
  },
  {
   "cell_type": "code",
   "execution_count": 21,
   "metadata": {
    "colab": {
     "base_uri": "https://localhost:8080/"
    },
    "id": "gM3UMRsA5fGV",
    "outputId": "65b75c43-6e25-4328-bb98-fc551ab4eff5",
    "scrolled": true
   },
   "outputs": [
    {
     "name": "stderr",
     "output_type": "stream",
     "text": [
      "<ipython-input-21-3ca45dfc2ad1>:2: SettingWithCopyWarning: \n",
      "A value is trying to be set on a copy of a slice from a DataFrame.\n",
      "Try using .loc[row_indexer,col_indexer] = value instead\n",
      "\n",
      "See the caveats in the documentation: https://pandas.pydata.org/pandas-docs/stable/user_guide/indexing.html#returning-a-view-versus-a-copy\n",
      "  df_t2_en['text_clean'] = [clean_tweet(tw, special_tokens=True) for tw in df_t2_en.text]\n"
     ]
    }
   ],
   "source": [
    "p.set_options(p.OPT.URL, p.OPT.MENTION, p.OPT.SMILEY, p.OPT.RESERVED, p.OPT.HASHTAG, p.OPT.NUMBER)\n",
    "df_t2_en['text_clean'] = [clean_tweet(tw, special_tokens=True) for tw in df_t2_en.text]"
   ]
  },
  {
   "cell_type": "markdown",
   "metadata": {
    "id": "EGNyOu0V5fGV"
   },
   "source": [
    "* Split the train dataset in English into train, val and test"
   ]
  },
  {
   "cell_type": "code",
   "execution_count": 22,
   "metadata": {
    "colab": {
     "base_uri": "https://localhost:8080/"
    },
    "id": "dTvqzrDD5fGV",
    "outputId": "9c8ac5d7-b6cb-4982-b535-5e32253338a3"
   },
   "outputs": [
    {
     "data": {
      "text/plain": [
       "((1472, 10), (82, 10), (82, 10))"
      ]
     },
     "execution_count": 22,
     "metadata": {},
     "output_type": "execute_result"
    }
   ],
   "source": [
    "df_train_en2, df_val_en2, df_test_en2 = data_split(df_t2_en)\n",
    "df_train_en2.shape, df_val_en2.shape, df_test_en2.shape"
   ]
  },
  {
   "cell_type": "markdown",
   "metadata": {
    "id": "FfvgvrQJ5fGV"
   },
   "source": [
    "* Choose the pre-trained BERT model and see the length distribution of the tokenized tweets"
   ]
  },
  {
   "cell_type": "code",
   "execution_count": 24,
   "metadata": {
    "id": "eoFERN0c5fGV",
    "scrolled": true
   },
   "outputs": [],
   "source": [
    "#PRE_TRAINED_MODEL_NAME_EN2 = 'vinai/bertweet-base'\n",
    "PRE_TRAINED_MODEL_NAME_EN2 = 'cardiffnlp/twitter-roberta-base'\n",
    "\n",
    "#tokenizer_en2 = AutoTokenizer.from_pretrained(PRE_TRAINED_MODEL_NAME_EN2, normalization = False, use_fast = False)\n",
    "tokenizer_en2 = AutoTokenizer.from_pretrained(PRE_TRAINED_MODEL_NAME_EN2)"
   ]
  },
  {
   "cell_type": "code",
   "execution_count": 25,
   "metadata": {
    "colab": {
     "base_uri": "https://localhost:8080/",
     "height": 383
    },
    "id": "5u988DYy5fGV",
    "outputId": "c01eba57-aa27-42a8-b7e8-e6ce54a2a8d7"
   },
   "outputs": [
    {
     "data": {
      "image/png": "[encoded data removed]",
      "text/plain": [
       "<Figure size 360x360 with 1 Axes>"
      ]
     },
     "metadata": {
      "needs_background": "light"
     },
     "output_type": "display_data"
    }
   ],
   "source": [
    "plot_tokens_distrib(df_t2_en, 'text_clean', tokenizer_en2)"
   ]
  },
  {
   "cell_type": "markdown",
   "metadata": {
    "id": "q5kPcR0D5fGW"
   },
   "source": [
    "* Set a maximum length based on the previous results"
   ]
  },
  {
   "cell_type": "code",
   "execution_count": 26,
   "metadata": {
    "id": "E1YUgPqO5fGW"
   },
   "outputs": [],
   "source": [
    "MAX_LEN_EN2 = 170"
   ]
  },
  {
   "cell_type": "markdown",
   "metadata": {
    "id": "Q_mDtOdo5fGW"
   },
   "source": [
    "* Create the data_loader with a chosen batch size"
   ]
  },
  {
   "cell_type": "code",
   "execution_count": 27,
   "metadata": {
    "id": "24tFrkeK5fGW"
   },
   "outputs": [],
   "source": [
    "BATCH_SIZE_EN2 = 16\n",
    "\n",
    "train_data_loader_en2 = create_data_loader(df_train_en2, 'text_clean', 'task2_encoding', tokenizer_en2, MAX_LEN_EN2, BATCH_SIZE_EN2)\n",
    "val_data_loader_en2 = create_data_loader(df_val_en2, 'text_clean', 'task2_encoding', tokenizer_en2, MAX_LEN_EN2, BATCH_SIZE_EN2)\n",
    "test_data_loader_en2 = create_data_loader(df_test_en2, 'text_clean', 'task2_encoding', tokenizer_en2, MAX_LEN_EN2, BATCH_SIZE_EN2)"
   ]
  },
  {
   "cell_type": "markdown",
   "metadata": {
    "id": "ij061H9p5fGW"
   },
   "source": [
    "* Define the BERT model with five classes"
   ]
  },
  {
   "cell_type": "code",
   "execution_count": 28,
   "metadata": {
    "id": "B0gVx0oz5fGW"
   },
   "outputs": [],
   "source": [
    "model_en2 = BERTClassifier2(5, PRE_TRAINED_MODEL_NAME_EN2)\n",
    "model_en2 = model_en2.to(device)"
   ]
  },
  {
   "cell_type": "markdown",
   "metadata": {
    "id": "P0TS9b2K5fGX"
   },
   "source": [
    "* Define the number of learning stages and obtain the necessary optimizer, planner and loss function"
   ]
  },
  {
   "cell_type": "code",
   "execution_count": 29,
   "metadata": {
    "id": "dIAwMAD15fGX"
   },
   "outputs": [],
   "source": [
    "EPOCHS_EN2 = 10\n",
    "\n",
    "optimizer_en2, scheduler_en2 = create_op_sch(model_en2, train_data_loader_en2, EPOCHS_EN2)\n",
    "#loss_fn_en2 = get_loss_function(calc_class_weigths(df_t2_en, 'task2_encoding')).to(device)\n",
    "loss_fn_en2 = get_loss_function(torch.FloatTensor([0.85, 0.9, 10, 1, 1.3])).to(device)"
   ]
  },
  {
   "cell_type": "markdown",
   "metadata": {
    "id": "CMzIh24X5fGX"
   },
   "source": [
    "* Put the data and necessary objects for the training of the model in dictionaries"
   ]
  },
  {
   "cell_type": "code",
   "execution_count": 30,
   "metadata": {
    "id": "p1d40Czu5fGX"
   },
   "outputs": [],
   "source": [
    "data_dic_en2 = {'train_data_loader': train_data_loader_en2,\n",
    "                'val_data_loader': val_data_loader_en2,\n",
    "                'df_train': df_train_en2,\n",
    "                'df_val': df_val_en2}\n",
    "\n",
    "tools_dic_en2 = {'loss_fn': loss_fn_en2,\n",
    "                 'optimizer': optimizer_en2,\n",
    "                 'scheduler': scheduler_en2}"
   ]
  },
  {
   "cell_type": "markdown",
   "metadata": {
    "id": "BeeoPI2_5fGX"
   },
   "source": [
    "* Train the model"
   ]
  },
  {
   "cell_type": "code",
   "execution_count": 29,
   "metadata": {
    "colab": {
     "base_uri": "https://localhost:8080/"
    },
    "id": "SuQIV4JA5fGX",
    "outputId": "f6818052-b694-407a-db0a-30bbead6d4ea",
    "scrolled": false
   },
   "outputs": [
    {
     "name": "stderr",
     "output_type": "stream",
     "text": [
      "Truncation was not explicitly activated but `max_length` is provided a specific value, please use `truncation=True` to explicitly truncate examples to max length. Defaulting to 'longest_first' truncation strategy. If you encode pairs of sequences (GLUE-style) with the tokenizer you can select this strategy more precisely by providing a specific strategy to `truncation`.\n"
     ]
    },
    {
     "name": "stdout",
     "output_type": "stream",
     "text": [
      "Epoch 1/10\n",
      "----------\n"
     ]
    },
    {
     "name": "stderr",
     "output_type": "stream",
     "text": [
      "c:\\python\\python39\\lib\\site-packages\\transformers\\tokenization_utils_base.py:2073: FutureWarning: The `pad_to_max_length` argument is deprecated and will be removed in a future version, use `padding=True` or `padding='longest'` to pad to the longest sequence in the batch, or use `padding='max_length'` to pad to a max length. In this case, you can give a specific length with `max_length` (e.g. `max_length=45`) or leave max_length to None to pad to the maximal input size of the model (e.g. 512 for Bert).\n",
      "  warnings.warn(\n"
     ]
    },
    {
     "name": "stdout",
     "output_type": "stream",
     "text": [
      "Train loss 1.1628043930167737 accuracy 0.21263586956521738\n",
      "Val   loss 1.170440932114919 accuracy 0.36585365853658536\n",
      "\n",
      "Epoch 2/10\n",
      "----------\n",
      "Train loss 0.8287416178247203 accuracy 0.4694293478260869\n",
      "Val   loss 1.317547579606374 accuracy 0.524390243902439\n",
      "\n",
      "Epoch 3/10\n",
      "----------\n",
      "Train loss 0.5619516667464505 accuracy 0.7085597826086957\n",
      "Val   loss 1.4839209169149399 accuracy 0.5853658536585367\n",
      "\n",
      "Epoch 4/10\n",
      "----------\n",
      "Train loss 0.4109485509764889 accuracy 0.7934782608695652\n",
      "Val   loss 1.5319766402244568 accuracy 0.6585365853658537\n",
      "\n",
      "Epoch 5/10\n",
      "----------\n",
      "Train loss 0.30728394432884193 accuracy 0.8403532608695652\n",
      "Val   loss 1.5982444683710735 accuracy 0.6097560975609756\n",
      "\n",
      "Epoch 6/10\n",
      "----------\n",
      "Train loss 0.2652300433863116 accuracy 0.8675271739130435\n",
      "Val   loss 1.6596036404371262 accuracy 0.6341463414634146\n",
      "\n",
      "Epoch 7/10\n",
      "----------\n",
      "Train loss 0.19967071918527718 accuracy 0.8987771739130435\n",
      "Val   loss 1.6153481304645538 accuracy 0.6585365853658537\n",
      "\n",
      "Epoch 8/10\n",
      "----------\n",
      "Train loss 0.17028289444177694 accuracy 0.9184782608695652\n",
      "Val   loss 1.513671765724818 accuracy 0.6341463414634146\n",
      "\n",
      "Epoch 9/10\n",
      "----------\n",
      "Train loss 0.1486467991793609 accuracy 0.9245923913043478\n",
      "Val   loss 1.607091873884201 accuracy 0.6707317073170732\n",
      "\n",
      "Epoch 10/10\n",
      "----------\n",
      "Train loss 0.12678647853191133 accuracy 0.9415760869565217\n",
      "Val   loss 1.6725264887015026 accuracy 0.6341463414634146\n",
      "\n",
      "Wall time: 1min 59s\n"
     ]
    }
   ],
   "source": [
    "%%time\n",
    "train_eval_model(model_en2, data_dic_en2, tools_dic_en2, EPOCHS_EN2, 'task2_english')"
   ]
  },
  {
   "cell_type": "markdown",
   "metadata": {
    "id": "CIjlUimk5fGY"
   },
   "source": [
    "* Test and validate the model on the test subset"
   ]
  },
  {
   "cell_type": "code",
   "execution_count": 32,
   "metadata": {
    "id": "NcvD7AUX5fGY"
   },
   "outputs": [],
   "source": [
    "model_en2 = BERTClassifier2(5, PRE_TRAINED_MODEL_NAME_EN2)\n",
    "model_en2.load_state_dict(torch.load('../Models/task2_english.bin'))\n",
    "model_en2 = model_en2.to(device)"
   ]
  },
  {
   "cell_type": "code",
   "execution_count": 33,
   "metadata": {
    "colab": {
     "base_uri": "https://localhost:8080/"
    },
    "id": "2ysVYero5fGY",
    "outputId": "b0823d7d-f974-4c71-c64a-a1cd37c88730"
   },
   "outputs": [],
   "source": [
    "y_tweets_en2, y_pred_en2, y_pred_probs_en2, y_test_en2 = get_predictions(model_en2, test_data_loader_en2)"
   ]
  },
  {
   "cell_type": "code",
   "execution_count": 32,
   "metadata": {},
   "outputs": [
    {
     "name": "stdout",
     "output_type": "stream",
     "text": [
      "              precision    recall  f1-score   support\n",
      "\n",
      "           0       0.79      0.79      0.79        14\n",
      "           1       0.82      0.64      0.72        22\n",
      "           2       0.33      0.33      0.33        15\n",
      "           3       0.71      0.67      0.69        18\n",
      "           4       0.68      1.00      0.81        13\n",
      "\n",
      "    accuracy                           0.67        82\n",
      "   macro avg       0.67      0.68      0.67        82\n",
      "weighted avg       0.68      0.67      0.67        82\n",
      "\n"
     ]
    }
   ],
   "source": [
    "print(classification_report(y_test_en2, y_pred_en2))"
   ]
  },
  {
   "cell_type": "code",
   "execution_count": 35,
   "metadata": {},
   "outputs": [],
   "source": [
    "torch.cuda.empty_cache()"
   ]
  },
  {
   "cell_type": "markdown",
   "metadata": {
    "id": "EYQBP2tw5fGY"
   },
   "source": [
    "---"
   ]
  }
 ],
 "metadata": {
  "accelerator": "GPU",
  "colab": {
   "collapsed_sections": [
    "MSe1bhGW5fFz",
    "kPa_TpLF5fF7"
   ],
   "name": "Untitled2.ipynb",
   "provenance": []
  },
  "kernelspec": {
   "display_name": "Python 3",
   "language": "python",
   "name": "python3"
  },
  "language_info": {
   "codemirror_mode": {
    "name": "ipython",
    "version": 3
   },
   "file_extension": ".py",
   "mimetype": "text/x-python",
   "name": "python",
   "nbconvert_exporter": "python",
   "pygments_lexer": "ipython3",
   "version": "3.8.6"
  },
  "widgets": {
   "application/vnd.jupyter.widget-state+json": {
    "08bbc225ac9647659a007d894d38350c": {
     "model_module": "@jupyter-widgets/controls",
     "model_name": "ProgressStyleModel",
     "state": {
      "_model_module": "@jupyter-widgets/controls",
      "_model_module_version": "1.5.0",
      "_model_name": "ProgressStyleModel",
      "_view_count": null,
      "_view_module": "@jupyter-widgets/base",
      "_view_module_version": "1.2.0",
      "_view_name": "StyleView",
      "bar_color": null,
      "description_width": "initial"
     }
    },
    "0d40d586a91c4e118815b051990fa734": {
     "model_module": "@jupyter-widgets/controls",
     "model_name": "HBoxModel",
     "state": {
      "_dom_classes": [],
      "_model_module": "@jupyter-widgets/controls",
      "_model_module_version": "1.5.0",
      "_model_name": "HBoxModel",
      "_view_count": null,
      "_view_module": "@jupyter-widgets/controls",
      "_view_module_version": "1.5.0",
      "_view_name": "HBoxView",
      "box_style": "",
      "children": [
       "IPY_MODEL_3ff6a4cfad42485da2d4144021e436c4",
       "IPY_MODEL_50301de2868d4a59b95361efa825698b"
      ],
      "layout": "IPY_MODEL_964a9e687e584467af80da8641aa7801"
     }
    },
    "0d4dc9e462ec4bb6957a90389df19f3a": {
     "model_module": "@jupyter-widgets/base",
     "model_name": "LayoutModel",
     "state": {
      "_model_module": "@jupyter-widgets/base",
      "_model_module_version": "1.2.0",
      "_model_name": "LayoutModel",
      "_view_count": null,
      "_view_module": "@jupyter-widgets/base",
      "_view_module_version": "1.2.0",
      "_view_name": "LayoutView",
      "align_content": null,
      "align_items": null,
      "align_self": null,
      "border": null,
      "bottom": null,
      "display": null,
      "flex": null,
      "flex_flow": null,
      "grid_area": null,
      "grid_auto_columns": null,
      "grid_auto_flow": null,
      "grid_auto_rows": null,
      "grid_column": null,
      "grid_gap": null,
      "grid_row": null,
      "grid_template_areas": null,
      "grid_template_columns": null,
      "grid_template_rows": null,
      "height": null,
      "justify_content": null,
      "justify_items": null,
      "left": null,
      "margin": null,
      "max_height": null,
      "max_width": null,
      "min_height": null,
      "min_width": null,
      "object_fit": null,
      "object_position": null,
      "order": null,
      "overflow": null,
      "overflow_x": null,
      "overflow_y": null,
      "padding": null,
      "right": null,
      "top": null,
      "visibility": null,
      "width": null
     }
    },
    "0da7e4836fe745ffa5b22127aa0c2818": {
     "model_module": "@jupyter-widgets/controls",
     "model_name": "HTMLModel",
     "state": {
      "_dom_classes": [],
      "_model_module": "@jupyter-widgets/controls",
      "_model_module_version": "1.5.0",
      "_model_name": "HTMLModel",
      "_view_count": null,
      "_view_module": "@jupyter-widgets/controls",
      "_view_module_version": "1.5.0",
      "_view_name": "HTMLView",
      "description": "",
      "description_tooltip": null,
      "layout": "IPY_MODEL_777ed717fc4e4f9a8ae9bad9aa116c60",
      "placeholder": "​",
      "style": "IPY_MODEL_ad727bd6e6ab4c519537bce0b68a516a",
      "value": " 565/565 [00:01&lt;00:00, 345B/s]"
     }
    },
    "11b445171e2145b392098eb439c70ff5": {
     "model_module": "@jupyter-widgets/controls",
     "model_name": "HTMLModel",
     "state": {
      "_dom_classes": [],
      "_model_module": "@jupyter-widgets/controls",
      "_model_module_version": "1.5.0",
      "_model_name": "HTMLModel",
      "_view_count": null,
      "_view_module": "@jupyter-widgets/controls",
      "_view_module_version": "1.5.0",
      "_view_name": "HTMLView",
      "description": "",
      "description_tooltip": null,
      "layout": "IPY_MODEL_7f39d68e00394bd4b2c2487dc5b72d96",
      "placeholder": "​",
      "style": "IPY_MODEL_1842a368b4db46d4831df0f259c9986c",
      "value": " 242k/242k [00:01&lt;00:00, 143kB/s]"
     }
    },
    "122605c2bf894a74a9b5426b619f41b4": {
     "model_module": "@jupyter-widgets/controls",
     "model_name": "HBoxModel",
     "state": {
      "_dom_classes": [],
      "_model_module": "@jupyter-widgets/controls",
      "_model_module_version": "1.5.0",
      "_model_name": "HBoxModel",
      "_view_count": null,
      "_view_module": "@jupyter-widgets/controls",
      "_view_module_version": "1.5.0",
      "_view_name": "HBoxView",
      "box_style": "",
      "children": [
       "IPY_MODEL_2f4119d4f2ae4f60b45c2f0a6d3b5391",
       "IPY_MODEL_ced2d264660542f79e66dd16ca2d53c0"
      ],
      "layout": "IPY_MODEL_5a1843a6026548058c0cfe210b5a878e"
     }
    },
    "137176fdfea34083b9e67083f13593dc": {
     "model_module": "@jupyter-widgets/base",
     "model_name": "LayoutModel",
     "state": {
      "_model_module": "@jupyter-widgets/base",
      "_model_module_version": "1.2.0",
      "_model_name": "LayoutModel",
      "_view_count": null,
      "_view_module": "@jupyter-widgets/base",
      "_view_module_version": "1.2.0",
      "_view_name": "LayoutView",
      "align_content": null,
      "align_items": null,
      "align_self": null,
      "border": null,
      "bottom": null,
      "display": null,
      "flex": null,
      "flex_flow": null,
      "grid_area": null,
      "grid_auto_columns": null,
      "grid_auto_flow": null,
      "grid_auto_rows": null,
      "grid_column": null,
      "grid_gap": null,
      "grid_row": null,
      "grid_template_areas": null,
      "grid_template_columns": null,
      "grid_template_rows": null,
      "height": null,
      "justify_content": null,
      "justify_items": null,
      "left": null,
      "margin": null,
      "max_height": null,
      "max_width": null,
      "min_height": null,
      "min_width": null,
      "object_fit": null,
      "object_position": null,
      "order": null,
      "overflow": null,
      "overflow_x": null,
      "overflow_y": null,
      "padding": null,
      "right": null,
      "top": null,
      "visibility": null,
      "width": null
     }
    },
    "1791c6e66e974793a12070afa4c92091": {
     "model_module": "@jupyter-widgets/base",
     "model_name": "LayoutModel",
     "state": {
      "_model_module": "@jupyter-widgets/base",
      "_model_module_version": "1.2.0",
      "_model_name": "LayoutModel",
      "_view_count": null,
      "_view_module": "@jupyter-widgets/base",
      "_view_module_version": "1.2.0",
      "_view_name": "LayoutView",
      "align_content": null,
      "align_items": null,
      "align_self": null,
      "border": null,
      "bottom": null,
      "display": null,
      "flex": null,
      "flex_flow": null,
      "grid_area": null,
      "grid_auto_columns": null,
      "grid_auto_flow": null,
      "grid_auto_rows": null,
      "grid_column": null,
      "grid_gap": null,
      "grid_row": null,
      "grid_template_areas": null,
      "grid_template_columns": null,
      "grid_template_rows": null,
      "height": null,
      "justify_content": null,
      "justify_items": null,
      "left": null,
      "margin": null,
      "max_height": null,
      "max_width": null,
      "min_height": null,
      "min_width": null,
      "object_fit": null,
      "object_position": null,
      "order": null,
      "overflow": null,
      "overflow_x": null,
      "overflow_y": null,
      "padding": null,
      "right": null,
      "top": null,
      "visibility": null,
      "width": null
     }
    },
    "1809b5222b3042fc8fc9758e4794042e": {
     "model_module": "@jupyter-widgets/controls",
     "model_name": "HTMLModel",
     "state": {
      "_dom_classes": [],
      "_model_module": "@jupyter-widgets/controls",
      "_model_module_version": "1.5.0",
      "_model_name": "HTMLModel",
      "_view_count": null,
      "_view_module": "@jupyter-widgets/controls",
      "_view_module_version": "1.5.0",
      "_view_name": "HTMLView",
      "description": "",
      "description_tooltip": null,
      "layout": "IPY_MODEL_cf1b70026b184b22890b866c078855a6",
      "placeholder": "​",
      "style": "IPY_MODEL_855c817a4177498ba50ec3e3e066ffb7",
      "value": " 440M/440M [00:08&lt;00:00, 49.6MB/s]"
     }
    },
    "1842a368b4db46d4831df0f259c9986c": {
     "model_module": "@jupyter-widgets/controls",
     "model_name": "DescriptionStyleModel",
     "state": {
      "_model_module": "@jupyter-widgets/controls",
      "_model_module_version": "1.5.0",
      "_model_name": "DescriptionStyleModel",
      "_view_count": null,
      "_view_module": "@jupyter-widgets/base",
      "_view_module_version": "1.2.0",
      "_view_name": "StyleView",
      "description_width": ""
     }
    },
    "1ae9ec1985ee4ed7aff01f9e23d06261": {
     "model_module": "@jupyter-widgets/controls",
     "model_name": "ProgressStyleModel",
     "state": {
      "_model_module": "@jupyter-widgets/controls",
      "_model_module_version": "1.5.0",
      "_model_name": "ProgressStyleModel",
      "_view_count": null,
      "_view_module": "@jupyter-widgets/base",
      "_view_module_version": "1.2.0",
      "_view_name": "StyleView",
      "bar_color": null,
      "description_width": "initial"
     }
    },
    "1ca1833fb8034dd3a861e403b053e6e3": {
     "model_module": "@jupyter-widgets/controls",
     "model_name": "FloatProgressModel",
     "state": {
      "_dom_classes": [],
      "_model_module": "@jupyter-widgets/controls",
      "_model_module_version": "1.5.0",
      "_model_name": "FloatProgressModel",
      "_view_count": null,
      "_view_module": "@jupyter-widgets/controls",
      "_view_module_version": "1.5.0",
      "_view_name": "ProgressView",
      "bar_style": "success",
      "description": "Downloading: 100%",
      "description_tooltip": null,
      "layout": "IPY_MODEL_864a82f182e34a6aa18a1f505fea3da2",
      "max": 480199,
      "min": 0,
      "orientation": "horizontal",
      "style": "IPY_MODEL_2084981d825a4a74889e4879d5e00546",
      "value": 480199
     }
    },
    "1d9327db2534402f95abfcccd1ed3c72": {
     "model_module": "@jupyter-widgets/base",
     "model_name": "LayoutModel",
     "state": {
      "_model_module": "@jupyter-widgets/base",
      "_model_module_version": "1.2.0",
      "_model_name": "LayoutModel",
      "_view_count": null,
      "_view_module": "@jupyter-widgets/base",
      "_view_module_version": "1.2.0",
      "_view_name": "LayoutView",
      "align_content": null,
      "align_items": null,
      "align_self": null,
      "border": null,
      "bottom": null,
      "display": null,
      "flex": null,
      "flex_flow": null,
      "grid_area": null,
      "grid_auto_columns": null,
      "grid_auto_flow": null,
      "grid_auto_rows": null,
      "grid_column": null,
      "grid_gap": null,
      "grid_row": null,
      "grid_template_areas": null,
      "grid_template_columns": null,
      "grid_template_rows": null,
      "height": null,
      "justify_content": null,
      "justify_items": null,
      "left": null,
      "margin": null,
      "max_height": null,
      "max_width": null,
      "min_height": null,
      "min_width": null,
      "object_fit": null,
      "object_position": null,
      "order": null,
      "overflow": null,
      "overflow_x": null,
      "overflow_y": null,
      "padding": null,
      "right": null,
      "top": null,
      "visibility": null,
      "width": null
     }
    },
    "2084981d825a4a74889e4879d5e00546": {
     "model_module": "@jupyter-widgets/controls",
     "model_name": "ProgressStyleModel",
     "state": {
      "_model_module": "@jupyter-widgets/controls",
      "_model_module_version": "1.5.0",
      "_model_name": "ProgressStyleModel",
      "_view_count": null,
      "_view_module": "@jupyter-widgets/base",
      "_view_module_version": "1.2.0",
      "_view_name": "StyleView",
      "bar_color": null,
      "description_width": "initial"
     }
    },
    "215f2af92e75429289771dd39aedb435": {
     "model_module": "@jupyter-widgets/base",
     "model_name": "LayoutModel",
     "state": {
      "_model_module": "@jupyter-widgets/base",
      "_model_module_version": "1.2.0",
      "_model_name": "LayoutModel",
      "_view_count": null,
      "_view_module": "@jupyter-widgets/base",
      "_view_module_version": "1.2.0",
      "_view_name": "LayoutView",
      "align_content": null,
      "align_items": null,
      "align_self": null,
      "border": null,
      "bottom": null,
      "display": null,
      "flex": null,
      "flex_flow": null,
      "grid_area": null,
      "grid_auto_columns": null,
      "grid_auto_flow": null,
      "grid_auto_rows": null,
      "grid_column": null,
      "grid_gap": null,
      "grid_row": null,
      "grid_template_areas": null,
      "grid_template_columns": null,
      "grid_template_rows": null,
      "height": null,
      "justify_content": null,
      "justify_items": null,
      "left": null,
      "margin": null,
      "max_height": null,
      "max_width": null,
      "min_height": null,
      "min_width": null,
      "object_fit": null,
      "object_position": null,
      "order": null,
      "overflow": null,
      "overflow_x": null,
      "overflow_y": null,
      "padding": null,
      "right": null,
      "top": null,
      "visibility": null,
      "width": null
     }
    },
    "21f0c43271904529911ce9c6b9d6ee6a": {
     "model_module": "@jupyter-widgets/controls",
     "model_name": "HBoxModel",
     "state": {
      "_dom_classes": [],
      "_model_module": "@jupyter-widgets/controls",
      "_model_module_version": "1.5.0",
      "_model_name": "HBoxModel",
      "_view_count": null,
      "_view_module": "@jupyter-widgets/controls",
      "_view_module_version": "1.5.0",
      "_view_name": "HBoxView",
      "box_style": "",
      "children": [
       "IPY_MODEL_1ca1833fb8034dd3a861e403b053e6e3",
       "IPY_MODEL_6a5c5295add341e2a011be3071dc24f6"
      ],
      "layout": "IPY_MODEL_def6fc76aee4416a93794deef1fee816"
     }
    },
    "2f4119d4f2ae4f60b45c2f0a6d3b5391": {
     "model_module": "@jupyter-widgets/controls",
     "model_name": "FloatProgressModel",
     "state": {
      "_dom_classes": [],
      "_model_module": "@jupyter-widgets/controls",
      "_model_module_version": "1.5.0",
      "_model_name": "FloatProgressModel",
      "_view_count": null,
      "_view_module": "@jupyter-widgets/controls",
      "_view_module_version": "1.5.0",
      "_view_name": "ProgressView",
      "bar_style": "success",
      "description": "Downloading: 100%",
      "description_tooltip": null,
      "layout": "IPY_MODEL_5e45dc739dcf468b81c1b1c94df474fd",
      "max": 134,
      "min": 0,
      "orientation": "horizontal",
      "style": "IPY_MODEL_a593b6ca468c459ab2b5e37bdb8d0867",
      "value": 134
     }
    },
    "317b6c3c26d049ea805f426cc54e5b32": {
     "model_module": "@jupyter-widgets/base",
     "model_name": "LayoutModel",
     "state": {
      "_model_module": "@jupyter-widgets/base",
      "_model_module_version": "1.2.0",
      "_model_name": "LayoutModel",
      "_view_count": null,
      "_view_module": "@jupyter-widgets/base",
      "_view_module_version": "1.2.0",
      "_view_name": "LayoutView",
      "align_content": null,
      "align_items": null,
      "align_self": null,
      "border": null,
      "bottom": null,
      "display": null,
      "flex": null,
      "flex_flow": null,
      "grid_area": null,
      "grid_auto_columns": null,
      "grid_auto_flow": null,
      "grid_auto_rows": null,
      "grid_column": null,
      "grid_gap": null,
      "grid_row": null,
      "grid_template_areas": null,
      "grid_template_columns": null,
      "grid_template_rows": null,
      "height": null,
      "justify_content": null,
      "justify_items": null,
      "left": null,
      "margin": null,
      "max_height": null,
      "max_width": null,
      "min_height": null,
      "min_width": null,
      "object_fit": null,
      "object_position": null,
      "order": null,
      "overflow": null,
      "overflow_x": null,
      "overflow_y": null,
      "padding": null,
      "right": null,
      "top": null,
      "visibility": null,
      "width": null
     }
    },
    "31e0a738859349dbac42b68d35c10822": {
     "model_module": "@jupyter-widgets/controls",
     "model_name": "HBoxModel",
     "state": {
      "_dom_classes": [],
      "_model_module": "@jupyter-widgets/controls",
      "_model_module_version": "1.5.0",
      "_model_name": "HBoxModel",
      "_view_count": null,
      "_view_module": "@jupyter-widgets/controls",
      "_view_module_version": "1.5.0",
      "_view_name": "HBoxView",
      "box_style": "",
      "children": [
       "IPY_MODEL_7d77dc12ddd54aff8be298e366255081",
       "IPY_MODEL_c11b627bad7246b5af9c872cc87b74da"
      ],
      "layout": "IPY_MODEL_6f04d7a5a80e484ab1c4932e8eccd816"
     }
    },
    "3a95d6ab02854491896288d32d44dbd6": {
     "model_module": "@jupyter-widgets/controls",
     "model_name": "FloatProgressModel",
     "state": {
      "_dom_classes": [],
      "_model_module": "@jupyter-widgets/controls",
      "_model_module_version": "1.5.0",
      "_model_name": "FloatProgressModel",
      "_view_count": null,
      "_view_module": "@jupyter-widgets/controls",
      "_view_module_version": "1.5.0",
      "_view_name": "ProgressView",
      "bar_style": "success",
      "description": "Downloading: 100%",
      "description_tooltip": null,
      "layout": "IPY_MODEL_0d4dc9e462ec4bb6957a90389df19f3a",
      "max": 456318,
      "min": 0,
      "orientation": "horizontal",
      "style": "IPY_MODEL_ca41fe16268647c3a0a8c5ec888f88d3",
      "value": 456318
     }
    },
    "3d8b35afa34f4a3fa15415536839467b": {
     "model_module": "@jupyter-widgets/base",
     "model_name": "LayoutModel",
     "state": {
      "_model_module": "@jupyter-widgets/base",
      "_model_module_version": "1.2.0",
      "_model_name": "LayoutModel",
      "_view_count": null,
      "_view_module": "@jupyter-widgets/base",
      "_view_module_version": "1.2.0",
      "_view_name": "LayoutView",
      "align_content": null,
      "align_items": null,
      "align_self": null,
      "border": null,
      "bottom": null,
      "display": null,
      "flex": null,
      "flex_flow": null,
      "grid_area": null,
      "grid_auto_columns": null,
      "grid_auto_flow": null,
      "grid_auto_rows": null,
      "grid_column": null,
      "grid_gap": null,
      "grid_row": null,
      "grid_template_areas": null,
      "grid_template_columns": null,
      "grid_template_rows": null,
      "height": null,
      "justify_content": null,
      "justify_items": null,
      "left": null,
      "margin": null,
      "max_height": null,
      "max_width": null,
      "min_height": null,
      "min_width": null,
      "object_fit": null,
      "object_position": null,
      "order": null,
      "overflow": null,
      "overflow_x": null,
      "overflow_y": null,
      "padding": null,
      "right": null,
      "top": null,
      "visibility": null,
      "width": null
     }
    },
    "3ff6a4cfad42485da2d4144021e436c4": {
     "model_module": "@jupyter-widgets/controls",
     "model_name": "FloatProgressModel",
     "state": {
      "_dom_classes": [],
      "_model_module": "@jupyter-widgets/controls",
      "_model_module_version": "1.5.0",
      "_model_name": "FloatProgressModel",
      "_view_count": null,
      "_view_module": "@jupyter-widgets/controls",
      "_view_module_version": "1.5.0",
      "_view_name": "ProgressView",
      "bar_style": "success",
      "description": "Downloading: 100%",
      "description_tooltip": null,
      "layout": "IPY_MODEL_215f2af92e75429289771dd39aedb435",
      "max": 501204462,
      "min": 0,
      "orientation": "horizontal",
      "style": "IPY_MODEL_1ae9ec1985ee4ed7aff01f9e23d06261",
      "value": 501204462
     }
    },
    "4124d47f3dfe4bb7bb166f796fe30b44": {
     "model_module": "@jupyter-widgets/controls",
     "model_name": "FloatProgressModel",
     "state": {
      "_dom_classes": [],
      "_model_module": "@jupyter-widgets/controls",
      "_model_module_version": "1.5.0",
      "_model_name": "FloatProgressModel",
      "_view_count": null,
      "_view_module": "@jupyter-widgets/controls",
      "_view_module_version": "1.5.0",
      "_view_name": "ProgressView",
      "bar_style": "success",
      "description": "Downloading: 100%",
      "description_tooltip": null,
      "layout": "IPY_MODEL_7d62cd6b6e3b42838625d0aa92b7e6a1",
      "max": 565,
      "min": 0,
      "orientation": "horizontal",
      "style": "IPY_MODEL_f2a9d1e1e98e4567843d636d7a5393e3",
      "value": 565
     }
    },
    "416d868bcbb640278eaa127de13fcc00": {
     "model_module": "@jupyter-widgets/controls",
     "model_name": "HBoxModel",
     "state": {
      "_dom_classes": [],
      "_model_module": "@jupyter-widgets/controls",
      "_model_module_version": "1.5.0",
      "_model_name": "HBoxModel",
      "_view_count": null,
      "_view_module": "@jupyter-widgets/controls",
      "_view_module_version": "1.5.0",
      "_view_name": "HBoxView",
      "box_style": "",
      "children": [
       "IPY_MODEL_4bba21196239472684f784d1ee1209d7",
       "IPY_MODEL_e33f2dc7592946898487e17da7216ee5"
      ],
      "layout": "IPY_MODEL_dbe24b56a69b4d3cbf0e156c698bb4f2"
     }
    },
    "45422dd063fd472b9b2436e0bfd34a1e": {
     "model_module": "@jupyter-widgets/base",
     "model_name": "LayoutModel",
     "state": {
      "_model_module": "@jupyter-widgets/base",
      "_model_module_version": "1.2.0",
      "_model_name": "LayoutModel",
      "_view_count": null,
      "_view_module": "@jupyter-widgets/base",
      "_view_module_version": "1.2.0",
      "_view_name": "LayoutView",
      "align_content": null,
      "align_items": null,
      "align_self": null,
      "border": null,
      "bottom": null,
      "display": null,
      "flex": null,
      "flex_flow": null,
      "grid_area": null,
      "grid_auto_columns": null,
      "grid_auto_flow": null,
      "grid_auto_rows": null,
      "grid_column": null,
      "grid_gap": null,
      "grid_row": null,
      "grid_template_areas": null,
      "grid_template_columns": null,
      "grid_template_rows": null,
      "height": null,
      "justify_content": null,
      "justify_items": null,
      "left": null,
      "margin": null,
      "max_height": null,
      "max_width": null,
      "min_height": null,
      "min_width": null,
      "object_fit": null,
      "object_position": null,
      "order": null,
      "overflow": null,
      "overflow_x": null,
      "overflow_y": null,
      "padding": null,
      "right": null,
      "top": null,
      "visibility": null,
      "width": null
     }
    },
    "4b3a1b9c52464269ad2686f5898a3692": {
     "model_module": "@jupyter-widgets/controls",
     "model_name": "HBoxModel",
     "state": {
      "_dom_classes": [],
      "_model_module": "@jupyter-widgets/controls",
      "_model_module_version": "1.5.0",
      "_model_name": "HBoxModel",
      "_view_count": null,
      "_view_module": "@jupyter-widgets/controls",
      "_view_module_version": "1.5.0",
      "_view_name": "HBoxView",
      "box_style": "",
      "children": [
       "IPY_MODEL_4124d47f3dfe4bb7bb166f796fe30b44",
       "IPY_MODEL_0da7e4836fe745ffa5b22127aa0c2818"
      ],
      "layout": "IPY_MODEL_1791c6e66e974793a12070afa4c92091"
     }
    },
    "4bba21196239472684f784d1ee1209d7": {
     "model_module": "@jupyter-widgets/controls",
     "model_name": "FloatProgressModel",
     "state": {
      "_dom_classes": [],
      "_model_module": "@jupyter-widgets/controls",
      "_model_module_version": "1.5.0",
      "_model_name": "FloatProgressModel",
      "_view_count": null,
      "_view_module": "@jupyter-widgets/controls",
      "_view_module_version": "1.5.0",
      "_view_name": "ProgressView",
      "bar_style": "success",
      "description": "Downloading: 100%",
      "description_tooltip": null,
      "layout": "IPY_MODEL_45422dd063fd472b9b2436e0bfd34a1e",
      "max": 648,
      "min": 0,
      "orientation": "horizontal",
      "style": "IPY_MODEL_598f71e775b14f19994f625dcce5bcea",
      "value": 648
     }
    },
    "4e2feb41cb564067a44e9f5b6efa1892": {
     "model_module": "@jupyter-widgets/controls",
     "model_name": "FloatProgressModel",
     "state": {
      "_dom_classes": [],
      "_model_module": "@jupyter-widgets/controls",
      "_model_module_version": "1.5.0",
      "_model_name": "FloatProgressModel",
      "_view_count": null,
      "_view_module": "@jupyter-widgets/controls",
      "_view_module_version": "1.5.0",
      "_view_name": "ProgressView",
      "bar_style": "success",
      "description": "Downloading: 100%",
      "description_tooltip": null,
      "layout": "IPY_MODEL_c613224583a14f4b8767489d782aab70",
      "max": 364,
      "min": 0,
      "orientation": "horizontal",
      "style": "IPY_MODEL_645c00fe6009438eb9110aafcfbb9cf4",
      "value": 364
     }
    },
    "50301de2868d4a59b95361efa825698b": {
     "model_module": "@jupyter-widgets/controls",
     "model_name": "HTMLModel",
     "state": {
      "_dom_classes": [],
      "_model_module": "@jupyter-widgets/controls",
      "_model_module_version": "1.5.0",
      "_model_name": "HTMLModel",
      "_view_count": null,
      "_view_module": "@jupyter-widgets/controls",
      "_view_module_version": "1.5.0",
      "_view_name": "HTMLView",
      "description": "",
      "description_tooltip": null,
      "layout": "IPY_MODEL_8f3711f1896041ba9eb60e0480f028cb",
      "placeholder": "​",
      "style": "IPY_MODEL_a3d90c66a10d4eb5996e67a37b337864",
      "value": " 501M/501M [01:14&lt;00:00, 6.68MB/s]"
     }
    },
    "598f71e775b14f19994f625dcce5bcea": {
     "model_module": "@jupyter-widgets/controls",
     "model_name": "ProgressStyleModel",
     "state": {
      "_model_module": "@jupyter-widgets/controls",
      "_model_module_version": "1.5.0",
      "_model_name": "ProgressStyleModel",
      "_view_count": null,
      "_view_module": "@jupyter-widgets/base",
      "_view_module_version": "1.2.0",
      "_view_name": "StyleView",
      "bar_color": null,
      "description_width": "initial"
     }
    },
    "5a1843a6026548058c0cfe210b5a878e": {
     "model_module": "@jupyter-widgets/base",
     "model_name": "LayoutModel",
     "state": {
      "_model_module": "@jupyter-widgets/base",
      "_model_module_version": "1.2.0",
      "_model_name": "LayoutModel",
      "_view_count": null,
      "_view_module": "@jupyter-widgets/base",
      "_view_module_version": "1.2.0",
      "_view_name": "LayoutView",
      "align_content": null,
      "align_items": null,
      "align_self": null,
      "border": null,
      "bottom": null,
      "display": null,
      "flex": null,
      "flex_flow": null,
      "grid_area": null,
      "grid_auto_columns": null,
      "grid_auto_flow": null,
      "grid_auto_rows": null,
      "grid_column": null,
      "grid_gap": null,
      "grid_row": null,
      "grid_template_areas": null,
      "grid_template_columns": null,
      "grid_template_rows": null,
      "height": null,
      "justify_content": null,
      "justify_items": null,
      "left": null,
      "margin": null,
      "max_height": null,
      "max_width": null,
      "min_height": null,
      "min_width": null,
      "object_fit": null,
      "object_position": null,
      "order": null,
      "overflow": null,
      "overflow_x": null,
      "overflow_y": null,
      "padding": null,
      "right": null,
      "top": null,
      "visibility": null,
      "width": null
     }
    },
    "5d47febe219f464fb502272c6639ff07": {
     "model_module": "@jupyter-widgets/controls",
     "model_name": "DescriptionStyleModel",
     "state": {
      "_model_module": "@jupyter-widgets/controls",
      "_model_module_version": "1.5.0",
      "_model_name": "DescriptionStyleModel",
      "_view_count": null,
      "_view_module": "@jupyter-widgets/base",
      "_view_module_version": "1.2.0",
      "_view_name": "StyleView",
      "description_width": ""
     }
    },
    "5e45dc739dcf468b81c1b1c94df474fd": {
     "model_module": "@jupyter-widgets/base",
     "model_name": "LayoutModel",
     "state": {
      "_model_module": "@jupyter-widgets/base",
      "_model_module_version": "1.2.0",
      "_model_name": "LayoutModel",
      "_view_count": null,
      "_view_module": "@jupyter-widgets/base",
      "_view_module_version": "1.2.0",
      "_view_name": "LayoutView",
      "align_content": null,
      "align_items": null,
      "align_self": null,
      "border": null,
      "bottom": null,
      "display": null,
      "flex": null,
      "flex_flow": null,
      "grid_area": null,
      "grid_auto_columns": null,
      "grid_auto_flow": null,
      "grid_auto_rows": null,
      "grid_column": null,
      "grid_gap": null,
      "grid_row": null,
      "grid_template_areas": null,
      "grid_template_columns": null,
      "grid_template_rows": null,
      "height": null,
      "justify_content": null,
      "justify_items": null,
      "left": null,
      "margin": null,
      "max_height": null,
      "max_width": null,
      "min_height": null,
      "min_width": null,
      "object_fit": null,
      "object_position": null,
      "order": null,
      "overflow": null,
      "overflow_x": null,
      "overflow_y": null,
      "padding": null,
      "right": null,
      "top": null,
      "visibility": null,
      "width": null
     }
    },
    "645c00fe6009438eb9110aafcfbb9cf4": {
     "model_module": "@jupyter-widgets/controls",
     "model_name": "ProgressStyleModel",
     "state": {
      "_model_module": "@jupyter-widgets/controls",
      "_model_module_version": "1.5.0",
      "_model_name": "ProgressStyleModel",
      "_view_count": null,
      "_view_module": "@jupyter-widgets/base",
      "_view_module_version": "1.2.0",
      "_view_name": "StyleView",
      "bar_color": null,
      "description_width": "initial"
     }
    },
    "67dedaac34ff44eea6a6030ab84f5266": {
     "model_module": "@jupyter-widgets/controls",
     "model_name": "ProgressStyleModel",
     "state": {
      "_model_module": "@jupyter-widgets/controls",
      "_model_module_version": "1.5.0",
      "_model_name": "ProgressStyleModel",
      "_view_count": null,
      "_view_module": "@jupyter-widgets/base",
      "_view_module_version": "1.2.0",
      "_view_name": "StyleView",
      "bar_color": null,
      "description_width": "initial"
     }
    },
    "685cf17cf9164467b04ed0d8966a3474": {
     "model_module": "@jupyter-widgets/base",
     "model_name": "LayoutModel",
     "state": {
      "_model_module": "@jupyter-widgets/base",
      "_model_module_version": "1.2.0",
      "_model_name": "LayoutModel",
      "_view_count": null,
      "_view_module": "@jupyter-widgets/base",
      "_view_module_version": "1.2.0",
      "_view_name": "LayoutView",
      "align_content": null,
      "align_items": null,
      "align_self": null,
      "border": null,
      "bottom": null,
      "display": null,
      "flex": null,
      "flex_flow": null,
      "grid_area": null,
      "grid_auto_columns": null,
      "grid_auto_flow": null,
      "grid_auto_rows": null,
      "grid_column": null,
      "grid_gap": null,
      "grid_row": null,
      "grid_template_areas": null,
      "grid_template_columns": null,
      "grid_template_rows": null,
      "height": null,
      "justify_content": null,
      "justify_items": null,
      "left": null,
      "margin": null,
      "max_height": null,
      "max_width": null,
      "min_height": null,
      "min_width": null,
      "object_fit": null,
      "object_position": null,
      "order": null,
      "overflow": null,
      "overflow_x": null,
      "overflow_y": null,
      "padding": null,
      "right": null,
      "top": null,
      "visibility": null,
      "width": null
     }
    },
    "6a5c5295add341e2a011be3071dc24f6": {
     "model_module": "@jupyter-widgets/controls",
     "model_name": "HTMLModel",
     "state": {
      "_dom_classes": [],
      "_model_module": "@jupyter-widgets/controls",
      "_model_module_version": "1.5.0",
      "_model_name": "HTMLModel",
      "_view_count": null,
      "_view_module": "@jupyter-widgets/controls",
      "_view_module_version": "1.5.0",
      "_view_name": "HTMLView",
      "description": "",
      "description_tooltip": null,
      "layout": "IPY_MODEL_e537d98349b64bc38ee9212fd3961b6b",
      "placeholder": "​",
      "style": "IPY_MODEL_db1fb4bf59264766a580594cf86498e5",
      "value": " 480k/480k [00:00&lt;00:00, 488kB/s]"
     }
    },
    "6f04d7a5a80e484ab1c4932e8eccd816": {
     "model_module": "@jupyter-widgets/base",
     "model_name": "LayoutModel",
     "state": {
      "_model_module": "@jupyter-widgets/base",
      "_model_module_version": "1.2.0",
      "_model_name": "LayoutModel",
      "_view_count": null,
      "_view_module": "@jupyter-widgets/base",
      "_view_module_version": "1.2.0",
      "_view_name": "LayoutView",
      "align_content": null,
      "align_items": null,
      "align_self": null,
      "border": null,
      "bottom": null,
      "display": null,
      "flex": null,
      "flex_flow": null,
      "grid_area": null,
      "grid_auto_columns": null,
      "grid_auto_flow": null,
      "grid_auto_rows": null,
      "grid_column": null,
      "grid_gap": null,
      "grid_row": null,
      "grid_template_areas": null,
      "grid_template_columns": null,
      "grid_template_rows": null,
      "height": null,
      "justify_content": null,
      "justify_items": null,
      "left": null,
      "margin": null,
      "max_height": null,
      "max_width": null,
      "min_height": null,
      "min_width": null,
      "object_fit": null,
      "object_position": null,
      "order": null,
      "overflow": null,
      "overflow_x": null,
      "overflow_y": null,
      "padding": null,
      "right": null,
      "top": null,
      "visibility": null,
      "width": null
     }
    },
    "6fc1e6b2601440deb58e4a16dd5e82fa": {
     "model_module": "@jupyter-widgets/base",
     "model_name": "LayoutModel",
     "state": {
      "_model_module": "@jupyter-widgets/base",
      "_model_module_version": "1.2.0",
      "_model_name": "LayoutModel",
      "_view_count": null,
      "_view_module": "@jupyter-widgets/base",
      "_view_module_version": "1.2.0",
      "_view_name": "LayoutView",
      "align_content": null,
      "align_items": null,
      "align_self": null,
      "border": null,
      "bottom": null,
      "display": null,
      "flex": null,
      "flex_flow": null,
      "grid_area": null,
      "grid_auto_columns": null,
      "grid_auto_flow": null,
      "grid_auto_rows": null,
      "grid_column": null,
      "grid_gap": null,
      "grid_row": null,
      "grid_template_areas": null,
      "grid_template_columns": null,
      "grid_template_rows": null,
      "height": null,
      "justify_content": null,
      "justify_items": null,
      "left": null,
      "margin": null,
      "max_height": null,
      "max_width": null,
      "min_height": null,
      "min_width": null,
      "object_fit": null,
      "object_position": null,
      "order": null,
      "overflow": null,
      "overflow_x": null,
      "overflow_y": null,
      "padding": null,
      "right": null,
      "top": null,
      "visibility": null,
      "width": null
     }
    },
    "70b86569b27d47eb8c71d77bc03946d7": {
     "model_module": "@jupyter-widgets/controls",
     "model_name": "DescriptionStyleModel",
     "state": {
      "_model_module": "@jupyter-widgets/controls",
      "_model_module_version": "1.5.0",
      "_model_name": "DescriptionStyleModel",
      "_view_count": null,
      "_view_module": "@jupyter-widgets/base",
      "_view_module_version": "1.2.0",
      "_view_name": "StyleView",
      "description_width": ""
     }
    },
    "777ed717fc4e4f9a8ae9bad9aa116c60": {
     "model_module": "@jupyter-widgets/base",
     "model_name": "LayoutModel",
     "state": {
      "_model_module": "@jupyter-widgets/base",
      "_model_module_version": "1.2.0",
      "_model_name": "LayoutModel",
      "_view_count": null,
      "_view_module": "@jupyter-widgets/base",
      "_view_module_version": "1.2.0",
      "_view_name": "LayoutView",
      "align_content": null,
      "align_items": null,
      "align_self": null,
      "border": null,
      "bottom": null,
      "display": null,
      "flex": null,
      "flex_flow": null,
      "grid_area": null,
      "grid_auto_columns": null,
      "grid_auto_flow": null,
      "grid_auto_rows": null,
      "grid_column": null,
      "grid_gap": null,
      "grid_row": null,
      "grid_template_areas": null,
      "grid_template_columns": null,
      "grid_template_rows": null,
      "height": null,
      "justify_content": null,
      "justify_items": null,
      "left": null,
      "margin": null,
      "max_height": null,
      "max_width": null,
      "min_height": null,
      "min_width": null,
      "object_fit": null,
      "object_position": null,
      "order": null,
      "overflow": null,
      "overflow_x": null,
      "overflow_y": null,
      "padding": null,
      "right": null,
      "top": null,
      "visibility": null,
      "width": null
     }
    },
    "786303bd48654b2aa98a056fb3da7d40": {
     "model_module": "@jupyter-widgets/controls",
     "model_name": "DescriptionStyleModel",
     "state": {
      "_model_module": "@jupyter-widgets/controls",
      "_model_module_version": "1.5.0",
      "_model_name": "DescriptionStyleModel",
      "_view_count": null,
      "_view_module": "@jupyter-widgets/base",
      "_view_module_version": "1.2.0",
      "_view_name": "StyleView",
      "description_width": ""
     }
    },
    "7d62cd6b6e3b42838625d0aa92b7e6a1": {
     "model_module": "@jupyter-widgets/base",
     "model_name": "LayoutModel",
     "state": {
      "_model_module": "@jupyter-widgets/base",
      "_model_module_version": "1.2.0",
      "_model_name": "LayoutModel",
      "_view_count": null,
      "_view_module": "@jupyter-widgets/base",
      "_view_module_version": "1.2.0",
      "_view_name": "LayoutView",
      "align_content": null,
      "align_items": null,
      "align_self": null,
      "border": null,
      "bottom": null,
      "display": null,
      "flex": null,
      "flex_flow": null,
      "grid_area": null,
      "grid_auto_columns": null,
      "grid_auto_flow": null,
      "grid_auto_rows": null,
      "grid_column": null,
      "grid_gap": null,
      "grid_row": null,
      "grid_template_areas": null,
      "grid_template_columns": null,
      "grid_template_rows": null,
      "height": null,
      "justify_content": null,
      "justify_items": null,
      "left": null,
      "margin": null,
      "max_height": null,
      "max_width": null,
      "min_height": null,
      "min_width": null,
      "object_fit": null,
      "object_position": null,
      "order": null,
      "overflow": null,
      "overflow_x": null,
      "overflow_y": null,
      "padding": null,
      "right": null,
      "top": null,
      "visibility": null,
      "width": null
     }
    },
    "7d77dc12ddd54aff8be298e366255081": {
     "model_module": "@jupyter-widgets/controls",
     "model_name": "FloatProgressModel",
     "state": {
      "_dom_classes": [],
      "_model_module": "@jupyter-widgets/controls",
      "_model_module_version": "1.5.0",
      "_model_name": "FloatProgressModel",
      "_view_count": null,
      "_view_module": "@jupyter-widgets/controls",
      "_view_module_version": "1.5.0",
      "_view_name": "ProgressView",
      "bar_style": "success",
      "description": "Downloading: 100%",
      "description_tooltip": null,
      "layout": "IPY_MODEL_ae6848f0a415409683cff7c78589f5af",
      "max": 898823,
      "min": 0,
      "orientation": "horizontal",
      "style": "IPY_MODEL_d9480deca0954bb6a15ee01cfdd00d47",
      "value": 898823
     }
    },
    "7d7d8512f49243c797daf6deda8cbbf4": {
     "model_module": "@jupyter-widgets/controls",
     "model_name": "HTMLModel",
     "state": {
      "_dom_classes": [],
      "_model_module": "@jupyter-widgets/controls",
      "_model_module_version": "1.5.0",
      "_model_name": "HTMLModel",
      "_view_count": null,
      "_view_module": "@jupyter-widgets/controls",
      "_view_module_version": "1.5.0",
      "_view_name": "HTMLView",
      "description": "",
      "description_tooltip": null,
      "layout": "IPY_MODEL_ab5a3df53c6c4625a5def529cc0f17b2",
      "placeholder": "​",
      "style": "IPY_MODEL_70b86569b27d47eb8c71d77bc03946d7",
      "value": " 456k/456k [00:01&lt;00:00, 380kB/s]"
     }
    },
    "7f39d68e00394bd4b2c2487dc5b72d96": {
     "model_module": "@jupyter-widgets/base",
     "model_name": "LayoutModel",
     "state": {
      "_model_module": "@jupyter-widgets/base",
      "_model_module_version": "1.2.0",
      "_model_name": "LayoutModel",
      "_view_count": null,
      "_view_module": "@jupyter-widgets/base",
      "_view_module_version": "1.2.0",
      "_view_name": "LayoutView",
      "align_content": null,
      "align_items": null,
      "align_self": null,
      "border": null,
      "bottom": null,
      "display": null,
      "flex": null,
      "flex_flow": null,
      "grid_area": null,
      "grid_auto_columns": null,
      "grid_auto_flow": null,
      "grid_auto_rows": null,
      "grid_column": null,
      "grid_gap": null,
      "grid_row": null,
      "grid_template_areas": null,
      "grid_template_columns": null,
      "grid_template_rows": null,
      "height": null,
      "justify_content": null,
      "justify_items": null,
      "left": null,
      "margin": null,
      "max_height": null,
      "max_width": null,
      "min_height": null,
      "min_width": null,
      "object_fit": null,
      "object_position": null,
      "order": null,
      "overflow": null,
      "overflow_x": null,
      "overflow_y": null,
      "padding": null,
      "right": null,
      "top": null,
      "visibility": null,
      "width": null
     }
    },
    "855c817a4177498ba50ec3e3e066ffb7": {
     "model_module": "@jupyter-widgets/controls",
     "model_name": "DescriptionStyleModel",
     "state": {
      "_model_module": "@jupyter-widgets/controls",
      "_model_module_version": "1.5.0",
      "_model_name": "DescriptionStyleModel",
      "_view_count": null,
      "_view_module": "@jupyter-widgets/base",
      "_view_module_version": "1.2.0",
      "_view_name": "StyleView",
      "description_width": ""
     }
    },
    "864a82f182e34a6aa18a1f505fea3da2": {
     "model_module": "@jupyter-widgets/base",
     "model_name": "LayoutModel",
     "state": {
      "_model_module": "@jupyter-widgets/base",
      "_model_module_version": "1.2.0",
      "_model_name": "LayoutModel",
      "_view_count": null,
      "_view_module": "@jupyter-widgets/base",
      "_view_module_version": "1.2.0",
      "_view_name": "LayoutView",
      "align_content": null,
      "align_items": null,
      "align_self": null,
      "border": null,
      "bottom": null,
      "display": null,
      "flex": null,
      "flex_flow": null,
      "grid_area": null,
      "grid_auto_columns": null,
      "grid_auto_flow": null,
      "grid_auto_rows": null,
      "grid_column": null,
      "grid_gap": null,
      "grid_row": null,
      "grid_template_areas": null,
      "grid_template_columns": null,
      "grid_template_rows": null,
      "height": null,
      "justify_content": null,
      "justify_items": null,
      "left": null,
      "margin": null,
      "max_height": null,
      "max_width": null,
      "min_height": null,
      "min_width": null,
      "object_fit": null,
      "object_position": null,
      "order": null,
      "overflow": null,
      "overflow_x": null,
      "overflow_y": null,
      "padding": null,
      "right": null,
      "top": null,
      "visibility": null,
      "width": null
     }
    },
    "86a834927e154bbe8c4c298a433e0f19": {
     "model_module": "@jupyter-widgets/base",
     "model_name": "LayoutModel",
     "state": {
      "_model_module": "@jupyter-widgets/base",
      "_model_module_version": "1.2.0",
      "_model_name": "LayoutModel",
      "_view_count": null,
      "_view_module": "@jupyter-widgets/base",
      "_view_module_version": "1.2.0",
      "_view_name": "LayoutView",
      "align_content": null,
      "align_items": null,
      "align_self": null,
      "border": null,
      "bottom": null,
      "display": null,
      "flex": null,
      "flex_flow": null,
      "grid_area": null,
      "grid_auto_columns": null,
      "grid_auto_flow": null,
      "grid_auto_rows": null,
      "grid_column": null,
      "grid_gap": null,
      "grid_row": null,
      "grid_template_areas": null,
      "grid_template_columns": null,
      "grid_template_rows": null,
      "height": null,
      "justify_content": null,
      "justify_items": null,
      "left": null,
      "margin": null,
      "max_height": null,
      "max_width": null,
      "min_height": null,
      "min_width": null,
      "object_fit": null,
      "object_position": null,
      "order": null,
      "overflow": null,
      "overflow_x": null,
      "overflow_y": null,
      "padding": null,
      "right": null,
      "top": null,
      "visibility": null,
      "width": null
     }
    },
    "8c04f60a60a441fd85cd7584bbe09243": {
     "model_module": "@jupyter-widgets/controls",
     "model_name": "FloatProgressModel",
     "state": {
      "_dom_classes": [],
      "_model_module": "@jupyter-widgets/controls",
      "_model_module_version": "1.5.0",
      "_model_name": "FloatProgressModel",
      "_view_count": null,
      "_view_module": "@jupyter-widgets/controls",
      "_view_module_version": "1.5.0",
      "_view_name": "ProgressView",
      "bar_style": "success",
      "description": "Downloading: 100%",
      "description_tooltip": null,
      "layout": "IPY_MODEL_685cf17cf9164467b04ed0d8966a3474",
      "max": 439621341,
      "min": 0,
      "orientation": "horizontal",
      "style": "IPY_MODEL_67dedaac34ff44eea6a6030ab84f5266",
      "value": 439621341
     }
    },
    "8efff1729ad64062b188a1ccd6ca427d": {
     "model_module": "@jupyter-widgets/controls",
     "model_name": "HBoxModel",
     "state": {
      "_dom_classes": [],
      "_model_module": "@jupyter-widgets/controls",
      "_model_module_version": "1.5.0",
      "_model_name": "HBoxModel",
      "_view_count": null,
      "_view_module": "@jupyter-widgets/controls",
      "_view_module_version": "1.5.0",
      "_view_name": "HBoxView",
      "box_style": "",
      "children": [
       "IPY_MODEL_a91fe4cf25af42deb0fce6a524694dc8",
       "IPY_MODEL_11b445171e2145b392098eb439c70ff5"
      ],
      "layout": "IPY_MODEL_fbf4deae2be64bc58aa9b05a298eb09f"
     }
    },
    "8f0e4525acce4ee8a8c931a9665917ab": {
     "model_module": "@jupyter-widgets/base",
     "model_name": "LayoutModel",
     "state": {
      "_model_module": "@jupyter-widgets/base",
      "_model_module_version": "1.2.0",
      "_model_name": "LayoutModel",
      "_view_count": null,
      "_view_module": "@jupyter-widgets/base",
      "_view_module_version": "1.2.0",
      "_view_name": "LayoutView",
      "align_content": null,
      "align_items": null,
      "align_self": null,
      "border": null,
      "bottom": null,
      "display": null,
      "flex": null,
      "flex_flow": null,
      "grid_area": null,
      "grid_auto_columns": null,
      "grid_auto_flow": null,
      "grid_auto_rows": null,
      "grid_column": null,
      "grid_gap": null,
      "grid_row": null,
      "grid_template_areas": null,
      "grid_template_columns": null,
      "grid_template_rows": null,
      "height": null,
      "justify_content": null,
      "justify_items": null,
      "left": null,
      "margin": null,
      "max_height": null,
      "max_width": null,
      "min_height": null,
      "min_width": null,
      "object_fit": null,
      "object_position": null,
      "order": null,
      "overflow": null,
      "overflow_x": null,
      "overflow_y": null,
      "padding": null,
      "right": null,
      "top": null,
      "visibility": null,
      "width": null
     }
    },
    "8f3711f1896041ba9eb60e0480f028cb": {
     "model_module": "@jupyter-widgets/base",
     "model_name": "LayoutModel",
     "state": {
      "_model_module": "@jupyter-widgets/base",
      "_model_module_version": "1.2.0",
      "_model_name": "LayoutModel",
      "_view_count": null,
      "_view_module": "@jupyter-widgets/base",
      "_view_module_version": "1.2.0",
      "_view_name": "LayoutView",
      "align_content": null,
      "align_items": null,
      "align_self": null,
      "border": null,
      "bottom": null,
      "display": null,
      "flex": null,
      "flex_flow": null,
      "grid_area": null,
      "grid_auto_columns": null,
      "grid_auto_flow": null,
      "grid_auto_rows": null,
      "grid_column": null,
      "grid_gap": null,
      "grid_row": null,
      "grid_template_areas": null,
      "grid_template_columns": null,
      "grid_template_rows": null,
      "height": null,
      "justify_content": null,
      "justify_items": null,
      "left": null,
      "margin": null,
      "max_height": null,
      "max_width": null,
      "min_height": null,
      "min_width": null,
      "object_fit": null,
      "object_position": null,
      "order": null,
      "overflow": null,
      "overflow_x": null,
      "overflow_y": null,
      "padding": null,
      "right": null,
      "top": null,
      "visibility": null,
      "width": null
     }
    },
    "90e2980fd3184b7ca38b492eb38152ad": {
     "model_module": "@jupyter-widgets/controls",
     "model_name": "DescriptionStyleModel",
     "state": {
      "_model_module": "@jupyter-widgets/controls",
      "_model_module_version": "1.5.0",
      "_model_name": "DescriptionStyleModel",
      "_view_count": null,
      "_view_module": "@jupyter-widgets/base",
      "_view_module_version": "1.2.0",
      "_view_name": "StyleView",
      "description_width": ""
     }
    },
    "964a9e687e584467af80da8641aa7801": {
     "model_module": "@jupyter-widgets/base",
     "model_name": "LayoutModel",
     "state": {
      "_model_module": "@jupyter-widgets/base",
      "_model_module_version": "1.2.0",
      "_model_name": "LayoutModel",
      "_view_count": null,
      "_view_module": "@jupyter-widgets/base",
      "_view_module_version": "1.2.0",
      "_view_name": "LayoutView",
      "align_content": null,
      "align_items": null,
      "align_self": null,
      "border": null,
      "bottom": null,
      "display": null,
      "flex": null,
      "flex_flow": null,
      "grid_area": null,
      "grid_auto_columns": null,
      "grid_auto_flow": null,
      "grid_auto_rows": null,
      "grid_column": null,
      "grid_gap": null,
      "grid_row": null,
      "grid_template_areas": null,
      "grid_template_columns": null,
      "grid_template_rows": null,
      "height": null,
      "justify_content": null,
      "justify_items": null,
      "left": null,
      "margin": null,
      "max_height": null,
      "max_width": null,
      "min_height": null,
      "min_width": null,
      "object_fit": null,
      "object_position": null,
      "order": null,
      "overflow": null,
      "overflow_x": null,
      "overflow_y": null,
      "padding": null,
      "right": null,
      "top": null,
      "visibility": null,
      "width": null
     }
    },
    "a15d99349ece42e1b7fe25331a1dc63e": {
     "model_module": "@jupyter-widgets/controls",
     "model_name": "HBoxModel",
     "state": {
      "_dom_classes": [],
      "_model_module": "@jupyter-widgets/controls",
      "_model_module_version": "1.5.0",
      "_model_name": "HBoxModel",
      "_view_count": null,
      "_view_module": "@jupyter-widgets/controls",
      "_view_module_version": "1.5.0",
      "_view_name": "HBoxView",
      "box_style": "",
      "children": [
       "IPY_MODEL_3a95d6ab02854491896288d32d44dbd6",
       "IPY_MODEL_7d7d8512f49243c797daf6deda8cbbf4"
      ],
      "layout": "IPY_MODEL_d93cd655c984404ebdaa045fff47e9fc"
     }
    },
    "a3d90c66a10d4eb5996e67a37b337864": {
     "model_module": "@jupyter-widgets/controls",
     "model_name": "DescriptionStyleModel",
     "state": {
      "_model_module": "@jupyter-widgets/controls",
      "_model_module_version": "1.5.0",
      "_model_name": "DescriptionStyleModel",
      "_view_count": null,
      "_view_module": "@jupyter-widgets/base",
      "_view_module_version": "1.2.0",
      "_view_name": "StyleView",
      "description_width": ""
     }
    },
    "a593b6ca468c459ab2b5e37bdb8d0867": {
     "model_module": "@jupyter-widgets/controls",
     "model_name": "ProgressStyleModel",
     "state": {
      "_model_module": "@jupyter-widgets/controls",
      "_model_module_version": "1.5.0",
      "_model_name": "ProgressStyleModel",
      "_view_count": null,
      "_view_module": "@jupyter-widgets/base",
      "_view_module_version": "1.2.0",
      "_view_name": "StyleView",
      "bar_color": null,
      "description_width": "initial"
     }
    },
    "a91fe4cf25af42deb0fce6a524694dc8": {
     "model_module": "@jupyter-widgets/controls",
     "model_name": "FloatProgressModel",
     "state": {
      "_dom_classes": [],
      "_model_module": "@jupyter-widgets/controls",
      "_model_module_version": "1.5.0",
      "_model_name": "FloatProgressModel",
      "_view_count": null,
      "_view_module": "@jupyter-widgets/controls",
      "_view_module_version": "1.5.0",
      "_view_name": "ProgressView",
      "bar_style": "success",
      "description": "Downloading: 100%",
      "description_tooltip": null,
      "layout": "IPY_MODEL_86a834927e154bbe8c4c298a433e0f19",
      "max": 241796,
      "min": 0,
      "orientation": "horizontal",
      "style": "IPY_MODEL_08bbc225ac9647659a007d894d38350c",
      "value": 241796
     }
    },
    "ab5a3df53c6c4625a5def529cc0f17b2": {
     "model_module": "@jupyter-widgets/base",
     "model_name": "LayoutModel",
     "state": {
      "_model_module": "@jupyter-widgets/base",
      "_model_module_version": "1.2.0",
      "_model_name": "LayoutModel",
      "_view_count": null,
      "_view_module": "@jupyter-widgets/base",
      "_view_module_version": "1.2.0",
      "_view_name": "LayoutView",
      "align_content": null,
      "align_items": null,
      "align_self": null,
      "border": null,
      "bottom": null,
      "display": null,
      "flex": null,
      "flex_flow": null,
      "grid_area": null,
      "grid_auto_columns": null,
      "grid_auto_flow": null,
      "grid_auto_rows": null,
      "grid_column": null,
      "grid_gap": null,
      "grid_row": null,
      "grid_template_areas": null,
      "grid_template_columns": null,
      "grid_template_rows": null,
      "height": null,
      "justify_content": null,
      "justify_items": null,
      "left": null,
      "margin": null,
      "max_height": null,
      "max_width": null,
      "min_height": null,
      "min_width": null,
      "object_fit": null,
      "object_position": null,
      "order": null,
      "overflow": null,
      "overflow_x": null,
      "overflow_y": null,
      "padding": null,
      "right": null,
      "top": null,
      "visibility": null,
      "width": null
     }
    },
    "ad727bd6e6ab4c519537bce0b68a516a": {
     "model_module": "@jupyter-widgets/controls",
     "model_name": "DescriptionStyleModel",
     "state": {
      "_model_module": "@jupyter-widgets/controls",
      "_model_module_version": "1.5.0",
      "_model_name": "DescriptionStyleModel",
      "_view_count": null,
      "_view_module": "@jupyter-widgets/base",
      "_view_module_version": "1.2.0",
      "_view_name": "StyleView",
      "description_width": ""
     }
    },
    "ae6848f0a415409683cff7c78589f5af": {
     "model_module": "@jupyter-widgets/base",
     "model_name": "LayoutModel",
     "state": {
      "_model_module": "@jupyter-widgets/base",
      "_model_module_version": "1.2.0",
      "_model_name": "LayoutModel",
      "_view_count": null,
      "_view_module": "@jupyter-widgets/base",
      "_view_module_version": "1.2.0",
      "_view_name": "LayoutView",
      "align_content": null,
      "align_items": null,
      "align_self": null,
      "border": null,
      "bottom": null,
      "display": null,
      "flex": null,
      "flex_flow": null,
      "grid_area": null,
      "grid_auto_columns": null,
      "grid_auto_flow": null,
      "grid_auto_rows": null,
      "grid_column": null,
      "grid_gap": null,
      "grid_row": null,
      "grid_template_areas": null,
      "grid_template_columns": null,
      "grid_template_rows": null,
      "height": null,
      "justify_content": null,
      "justify_items": null,
      "left": null,
      "margin": null,
      "max_height": null,
      "max_width": null,
      "min_height": null,
      "min_width": null,
      "object_fit": null,
      "object_position": null,
      "order": null,
      "overflow": null,
      "overflow_x": null,
      "overflow_y": null,
      "padding": null,
      "right": null,
      "top": null,
      "visibility": null,
      "width": null
     }
    },
    "c11b627bad7246b5af9c872cc87b74da": {
     "model_module": "@jupyter-widgets/controls",
     "model_name": "HTMLModel",
     "state": {
      "_dom_classes": [],
      "_model_module": "@jupyter-widgets/controls",
      "_model_module_version": "1.5.0",
      "_model_name": "HTMLModel",
      "_view_count": null,
      "_view_module": "@jupyter-widgets/controls",
      "_view_module_version": "1.5.0",
      "_view_name": "HTMLView",
      "description": "",
      "description_tooltip": null,
      "layout": "IPY_MODEL_8f0e4525acce4ee8a8c931a9665917ab",
      "placeholder": "​",
      "style": "IPY_MODEL_90e2980fd3184b7ca38b492eb38152ad",
      "value": " 899k/899k [00:01&lt;00:00, 775kB/s]"
     }
    },
    "c613224583a14f4b8767489d782aab70": {
     "model_module": "@jupyter-widgets/base",
     "model_name": "LayoutModel",
     "state": {
      "_model_module": "@jupyter-widgets/base",
      "_model_module_version": "1.2.0",
      "_model_name": "LayoutModel",
      "_view_count": null,
      "_view_module": "@jupyter-widgets/base",
      "_view_module_version": "1.2.0",
      "_view_name": "LayoutView",
      "align_content": null,
      "align_items": null,
      "align_self": null,
      "border": null,
      "bottom": null,
      "display": null,
      "flex": null,
      "flex_flow": null,
      "grid_area": null,
      "grid_auto_columns": null,
      "grid_auto_flow": null,
      "grid_auto_rows": null,
      "grid_column": null,
      "grid_gap": null,
      "grid_row": null,
      "grid_template_areas": null,
      "grid_template_columns": null,
      "grid_template_rows": null,
      "height": null,
      "justify_content": null,
      "justify_items": null,
      "left": null,
      "margin": null,
      "max_height": null,
      "max_width": null,
      "min_height": null,
      "min_width": null,
      "object_fit": null,
      "object_position": null,
      "order": null,
      "overflow": null,
      "overflow_x": null,
      "overflow_y": null,
      "padding": null,
      "right": null,
      "top": null,
      "visibility": null,
      "width": null
     }
    },
    "ca41fe16268647c3a0a8c5ec888f88d3": {
     "model_module": "@jupyter-widgets/controls",
     "model_name": "ProgressStyleModel",
     "state": {
      "_model_module": "@jupyter-widgets/controls",
      "_model_module_version": "1.5.0",
      "_model_name": "ProgressStyleModel",
      "_view_count": null,
      "_view_module": "@jupyter-widgets/base",
      "_view_module_version": "1.2.0",
      "_view_name": "StyleView",
      "bar_color": null,
      "description_width": "initial"
     }
    },
    "ced2d264660542f79e66dd16ca2d53c0": {
     "model_module": "@jupyter-widgets/controls",
     "model_name": "HTMLModel",
     "state": {
      "_dom_classes": [],
      "_model_module": "@jupyter-widgets/controls",
      "_model_module_version": "1.5.0",
      "_model_name": "HTMLModel",
      "_view_count": null,
      "_view_module": "@jupyter-widgets/controls",
      "_view_module_version": "1.5.0",
      "_view_name": "HTMLView",
      "description": "",
      "description_tooltip": null,
      "layout": "IPY_MODEL_6fc1e6b2601440deb58e4a16dd5e82fa",
      "placeholder": "​",
      "style": "IPY_MODEL_5d47febe219f464fb502272c6639ff07",
      "value": " 134/134 [00:02&lt;00:00, 55.2B/s]"
     }
    },
    "cf1b70026b184b22890b866c078855a6": {
     "model_module": "@jupyter-widgets/base",
     "model_name": "LayoutModel",
     "state": {
      "_model_module": "@jupyter-widgets/base",
      "_model_module_version": "1.2.0",
      "_model_name": "LayoutModel",
      "_view_count": null,
      "_view_module": "@jupyter-widgets/base",
      "_view_module_version": "1.2.0",
      "_view_name": "LayoutView",
      "align_content": null,
      "align_items": null,
      "align_self": null,
      "border": null,
      "bottom": null,
      "display": null,
      "flex": null,
      "flex_flow": null,
      "grid_area": null,
      "grid_auto_columns": null,
      "grid_auto_flow": null,
      "grid_auto_rows": null,
      "grid_column": null,
      "grid_gap": null,
      "grid_row": null,
      "grid_template_areas": null,
      "grid_template_columns": null,
      "grid_template_rows": null,
      "height": null,
      "justify_content": null,
      "justify_items": null,
      "left": null,
      "margin": null,
      "max_height": null,
      "max_width": null,
      "min_height": null,
      "min_width": null,
      "object_fit": null,
      "object_position": null,
      "order": null,
      "overflow": null,
      "overflow_x": null,
      "overflow_y": null,
      "padding": null,
      "right": null,
      "top": null,
      "visibility": null,
      "width": null
     }
    },
    "d1c5678c5b9646cdb8418bccf8164e7e": {
     "model_module": "@jupyter-widgets/controls",
     "model_name": "HBoxModel",
     "state": {
      "_dom_classes": [],
      "_model_module": "@jupyter-widgets/controls",
      "_model_module_version": "1.5.0",
      "_model_name": "HBoxModel",
      "_view_count": null,
      "_view_module": "@jupyter-widgets/controls",
      "_view_module_version": "1.5.0",
      "_view_name": "HBoxView",
      "box_style": "",
      "children": [
       "IPY_MODEL_8c04f60a60a441fd85cd7584bbe09243",
       "IPY_MODEL_1809b5222b3042fc8fc9758e4794042e"
      ],
      "layout": "IPY_MODEL_137176fdfea34083b9e67083f13593dc"
     }
    },
    "d205e2df94d34cacb980afdcc550b32b": {
     "model_module": "@jupyter-widgets/controls",
     "model_name": "HBoxModel",
     "state": {
      "_dom_classes": [],
      "_model_module": "@jupyter-widgets/controls",
      "_model_module_version": "1.5.0",
      "_model_name": "HBoxModel",
      "_view_count": null,
      "_view_module": "@jupyter-widgets/controls",
      "_view_module_version": "1.5.0",
      "_view_name": "HBoxView",
      "box_style": "",
      "children": [
       "IPY_MODEL_4e2feb41cb564067a44e9f5b6efa1892",
       "IPY_MODEL_ff76006f79b349e98822f004c9e84f70"
      ],
      "layout": "IPY_MODEL_3d8b35afa34f4a3fa15415536839467b"
     }
    },
    "d93cd655c984404ebdaa045fff47e9fc": {
     "model_module": "@jupyter-widgets/base",
     "model_name": "LayoutModel",
     "state": {
      "_model_module": "@jupyter-widgets/base",
      "_model_module_version": "1.2.0",
      "_model_name": "LayoutModel",
      "_view_count": null,
      "_view_module": "@jupyter-widgets/base",
      "_view_module_version": "1.2.0",
      "_view_name": "LayoutView",
      "align_content": null,
      "align_items": null,
      "align_self": null,
      "border": null,
      "bottom": null,
      "display": null,
      "flex": null,
      "flex_flow": null,
      "grid_area": null,
      "grid_auto_columns": null,
      "grid_auto_flow": null,
      "grid_auto_rows": null,
      "grid_column": null,
      "grid_gap": null,
      "grid_row": null,
      "grid_template_areas": null,
      "grid_template_columns": null,
      "grid_template_rows": null,
      "height": null,
      "justify_content": null,
      "justify_items": null,
      "left": null,
      "margin": null,
      "max_height": null,
      "max_width": null,
      "min_height": null,
      "min_width": null,
      "object_fit": null,
      "object_position": null,
      "order": null,
      "overflow": null,
      "overflow_x": null,
      "overflow_y": null,
      "padding": null,
      "right": null,
      "top": null,
      "visibility": null,
      "width": null
     }
    },
    "d9480deca0954bb6a15ee01cfdd00d47": {
     "model_module": "@jupyter-widgets/controls",
     "model_name": "ProgressStyleModel",
     "state": {
      "_model_module": "@jupyter-widgets/controls",
      "_model_module_version": "1.5.0",
      "_model_name": "ProgressStyleModel",
      "_view_count": null,
      "_view_module": "@jupyter-widgets/base",
      "_view_module_version": "1.2.0",
      "_view_name": "StyleView",
      "bar_color": null,
      "description_width": "initial"
     }
    },
    "db1fb4bf59264766a580594cf86498e5": {
     "model_module": "@jupyter-widgets/controls",
     "model_name": "DescriptionStyleModel",
     "state": {
      "_model_module": "@jupyter-widgets/controls",
      "_model_module_version": "1.5.0",
      "_model_name": "DescriptionStyleModel",
      "_view_count": null,
      "_view_module": "@jupyter-widgets/base",
      "_view_module_version": "1.2.0",
      "_view_name": "StyleView",
      "description_width": ""
     }
    },
    "dbe24b56a69b4d3cbf0e156c698bb4f2": {
     "model_module": "@jupyter-widgets/base",
     "model_name": "LayoutModel",
     "state": {
      "_model_module": "@jupyter-widgets/base",
      "_model_module_version": "1.2.0",
      "_model_name": "LayoutModel",
      "_view_count": null,
      "_view_module": "@jupyter-widgets/base",
      "_view_module_version": "1.2.0",
      "_view_name": "LayoutView",
      "align_content": null,
      "align_items": null,
      "align_self": null,
      "border": null,
      "bottom": null,
      "display": null,
      "flex": null,
      "flex_flow": null,
      "grid_area": null,
      "grid_auto_columns": null,
      "grid_auto_flow": null,
      "grid_auto_rows": null,
      "grid_column": null,
      "grid_gap": null,
      "grid_row": null,
      "grid_template_areas": null,
      "grid_template_columns": null,
      "grid_template_rows": null,
      "height": null,
      "justify_content": null,
      "justify_items": null,
      "left": null,
      "margin": null,
      "max_height": null,
      "max_width": null,
      "min_height": null,
      "min_width": null,
      "object_fit": null,
      "object_position": null,
      "order": null,
      "overflow": null,
      "overflow_x": null,
      "overflow_y": null,
      "padding": null,
      "right": null,
      "top": null,
      "visibility": null,
      "width": null
     }
    },
    "def6fc76aee4416a93794deef1fee816": {
     "model_module": "@jupyter-widgets/base",
     "model_name": "LayoutModel",
     "state": {
      "_model_module": "@jupyter-widgets/base",
      "_model_module_version": "1.2.0",
      "_model_name": "LayoutModel",
      "_view_count": null,
      "_view_module": "@jupyter-widgets/base",
      "_view_module_version": "1.2.0",
      "_view_name": "LayoutView",
      "align_content": null,
      "align_items": null,
      "align_self": null,
      "border": null,
      "bottom": null,
      "display": null,
      "flex": null,
      "flex_flow": null,
      "grid_area": null,
      "grid_auto_columns": null,
      "grid_auto_flow": null,
      "grid_auto_rows": null,
      "grid_column": null,
      "grid_gap": null,
      "grid_row": null,
      "grid_template_areas": null,
      "grid_template_columns": null,
      "grid_template_rows": null,
      "height": null,
      "justify_content": null,
      "justify_items": null,
      "left": null,
      "margin": null,
      "max_height": null,
      "max_width": null,
      "min_height": null,
      "min_width": null,
      "object_fit": null,
      "object_position": null,
      "order": null,
      "overflow": null,
      "overflow_x": null,
      "overflow_y": null,
      "padding": null,
      "right": null,
      "top": null,
      "visibility": null,
      "width": null
     }
    },
    "e33f2dc7592946898487e17da7216ee5": {
     "model_module": "@jupyter-widgets/controls",
     "model_name": "HTMLModel",
     "state": {
      "_dom_classes": [],
      "_model_module": "@jupyter-widgets/controls",
      "_model_module_version": "1.5.0",
      "_model_name": "HTMLModel",
      "_view_count": null,
      "_view_module": "@jupyter-widgets/controls",
      "_view_module_version": "1.5.0",
      "_view_name": "HTMLView",
      "description": "",
      "description_tooltip": null,
      "layout": "IPY_MODEL_1d9327db2534402f95abfcccd1ed3c72",
      "placeholder": "​",
      "style": "IPY_MODEL_fdaca2793ab5424491d0cca492f0468a",
      "value": " 648/648 [00:00&lt;00:00, 3.67kB/s]"
     }
    },
    "e537d98349b64bc38ee9212fd3961b6b": {
     "model_module": "@jupyter-widgets/base",
     "model_name": "LayoutModel",
     "state": {
      "_model_module": "@jupyter-widgets/base",
      "_model_module_version": "1.2.0",
      "_model_name": "LayoutModel",
      "_view_count": null,
      "_view_module": "@jupyter-widgets/base",
      "_view_module_version": "1.2.0",
      "_view_name": "LayoutView",
      "align_content": null,
      "align_items": null,
      "align_self": null,
      "border": null,
      "bottom": null,
      "display": null,
      "flex": null,
      "flex_flow": null,
      "grid_area": null,
      "grid_auto_columns": null,
      "grid_auto_flow": null,
      "grid_auto_rows": null,
      "grid_column": null,
      "grid_gap": null,
      "grid_row": null,
      "grid_template_areas": null,
      "grid_template_columns": null,
      "grid_template_rows": null,
      "height": null,
      "justify_content": null,
      "justify_items": null,
      "left": null,
      "margin": null,
      "max_height": null,
      "max_width": null,
      "min_height": null,
      "min_width": null,
      "object_fit": null,
      "object_position": null,
      "order": null,
      "overflow": null,
      "overflow_x": null,
      "overflow_y": null,
      "padding": null,
      "right": null,
      "top": null,
      "visibility": null,
      "width": null
     }
    },
    "f2a9d1e1e98e4567843d636d7a5393e3": {
     "model_module": "@jupyter-widgets/controls",
     "model_name": "ProgressStyleModel",
     "state": {
      "_model_module": "@jupyter-widgets/controls",
      "_model_module_version": "1.5.0",
      "_model_name": "ProgressStyleModel",
      "_view_count": null,
      "_view_module": "@jupyter-widgets/base",
      "_view_module_version": "1.2.0",
      "_view_name": "StyleView",
      "bar_color": null,
      "description_width": "initial"
     }
    },
    "fbf4deae2be64bc58aa9b05a298eb09f": {
     "model_module": "@jupyter-widgets/base",
     "model_name": "LayoutModel",
     "state": {
      "_model_module": "@jupyter-widgets/base",
      "_model_module_version": "1.2.0",
      "_model_name": "LayoutModel",
      "_view_count": null,
      "_view_module": "@jupyter-widgets/base",
      "_view_module_version": "1.2.0",
      "_view_name": "LayoutView",
      "align_content": null,
      "align_items": null,
      "align_self": null,
      "border": null,
      "bottom": null,
      "display": null,
      "flex": null,
      "flex_flow": null,
      "grid_area": null,
      "grid_auto_columns": null,
      "grid_auto_flow": null,
      "grid_auto_rows": null,
      "grid_column": null,
      "grid_gap": null,
      "grid_row": null,
      "grid_template_areas": null,
      "grid_template_columns": null,
      "grid_template_rows": null,
      "height": null,
      "justify_content": null,
      "justify_items": null,
      "left": null,
      "margin": null,
      "max_height": null,
      "max_width": null,
      "min_height": null,
      "min_width": null,
      "object_fit": null,
      "object_position": null,
      "order": null,
      "overflow": null,
      "overflow_x": null,
      "overflow_y": null,
      "padding": null,
      "right": null,
      "top": null,
      "visibility": null,
      "width": null
     }
    },
    "fdaca2793ab5424491d0cca492f0468a": {
     "model_module": "@jupyter-widgets/controls",
     "model_name": "DescriptionStyleModel",
     "state": {
      "_model_module": "@jupyter-widgets/controls",
      "_model_module_version": "1.5.0",
      "_model_name": "DescriptionStyleModel",
      "_view_count": null,
      "_view_module": "@jupyter-widgets/base",
      "_view_module_version": "1.2.0",
      "_view_name": "StyleView",
      "description_width": ""
     }
    },
    "ff76006f79b349e98822f004c9e84f70": {
     "model_module": "@jupyter-widgets/controls",
     "model_name": "HTMLModel",
     "state": {
      "_dom_classes": [],
      "_model_module": "@jupyter-widgets/controls",
      "_model_module_version": "1.5.0",
      "_model_name": "HTMLModel",
      "_view_count": null,
      "_view_module": "@jupyter-widgets/controls",
      "_view_module_version": "1.5.0",
      "_view_name": "HTMLView",
      "description": "",
      "description_tooltip": null,
      "layout": "IPY_MODEL_317b6c3c26d049ea805f426cc54e5b32",
      "placeholder": "​",
      "style": "IPY_MODEL_786303bd48654b2aa98a056fb3da7d40",
      "value": " 364/364 [00:01&lt;00:00, 195B/s]"
     }
    }
   }
  }
 },
 "nbformat": 4,
 "nbformat_minor": 5
}
