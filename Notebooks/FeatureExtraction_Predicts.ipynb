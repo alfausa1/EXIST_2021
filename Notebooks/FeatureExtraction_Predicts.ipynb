{
 "cells": [
  {
   "cell_type": "markdown",
   "metadata": {},
   "source": [
    "# EXIST 2021 - Feature extraction predicts <a class=\"anchor\" id=\"feat-preds\"></a>\n",
    "\n",
    "    ÁLVARO FAUBEL SANCHIS\n",
    "    CLARA MARTÍ TORREGROSA"
   ]
  },
  {
   "cell_type": "markdown",
   "metadata": {},
   "source": [
    "#####  Table of contents :\n",
    "- [Requiered functions](#functions)\n",
    " * [Required libraries and configuration](#libraries)\n",
    " * [Pre-processing](#pre-pro)\n",
    " * [Feature extraction](#feat)\n",
    "     \n",
    "- [EXIST Task](#exist)\n",
    " * [Data load](#data-load)\n",
    " * [Predictions](#preds)\n",
    "     - [IDF](#idf)\n",
    "         - [Task 1](#idf-t1)\n",
    "         - [Task 2](#idf-t2)\n",
    "     - [Word Embeddings](#word-emb)\n",
    "         - [Task 1](#we-t1)\n",
    "         - [Task 2](#we-t2)\n",
    " * [Submission results](#submission)\n",
    "      - [IDF](#sub-idf)\n",
    "      - [Word Embeddings](#sub-idf)\n",
    "\n",
    "\n",
    "\n"
   ]
  },
  {
   "cell_type": "markdown",
   "metadata": {},
   "source": [
    "### Required functions <a class=\"anchor\" id=\"functions\"></a>"
   ]
  },
  {
   "cell_type": "markdown",
   "metadata": {},
   "source": [
    "#### Required libraries and configuration <a class=\"anchor\" id=\"libraries\"></a>"
   ]
  },
  {
   "cell_type": "code",
   "execution_count": null,
   "metadata": {},
   "outputs": [],
   "source": [
    "# Data\n",
    "import pandas as pd\n",
    "import numpy as np\n",
    "\n",
    "# Pre-processing\n",
    "import preprocessor as p\n",
    "import re\n",
    "import nltk\n",
    "from nltk.corpus import stopwords\n",
    "from nltk.tokenize import TweetTokenizer\n",
    "from nltk.stem import PorterStemmer, WordNetLemmatizer, SnowballStemmer\n",
    "\n",
    "# Feature extraction\n",
    "from sklearn.feature_extraction.text import CountVectorizer, TfidfTransformer, TfidfVectorizer\n",
    "from gensim.models import word2vec\n",
    "import gensim.downloader as api\n",
    "\n",
    "# Models\n",
    "from sklearn.model_selection import train_test_split, cross_val_score, KFold, GridSearchCV\n",
    "from sklearn.metrics import classification_report, confusion_matrix, accuracy_score, f1_score\n",
    "from sklearn.linear_model import LogisticRegression\n",
    "from sklearn.ensemble import RandomForestClassifier, BaggingClassifier, AdaBoostClassifier, StackingClassifier\n",
    "from sklearn import svm\n",
    "from sklearn import tree"
   ]
  },
  {
   "cell_type": "markdown",
   "metadata": {},
   "source": [
    "#### Pre-processing <a class=\"anchor\" id=\"pre-pro\"></a>"
   ]
  },
  {
   "cell_type": "code",
   "execution_count": 2,
   "metadata": {},
   "outputs": [],
   "source": [
    "def preprocess_tweets(l_tweets, l_langs, keep_hastags = False):\n",
    "    tweets_res = []\n",
    "    tweets_stem = []\n",
    "    tw_tknz = TweetTokenizer()\n",
    "    stem_sp = SnowballStemmer('spanish')\n",
    "    lem_en = WordNetLemmatizer()\n",
    "    stopwords_es_en = set(stopwords.words(['english', 'spanish']))\n",
    "    p.set_options(p.OPT.URL, p.OPT.MENTION, p.OPT.RESERVED,  \n",
    "                  p.OPT.SMILEY, p.OPT.HASHTAG)\n",
    "    if keep_hastags:\n",
    "        p.set_options(p.OPT.URL, p.OPT.MENTION, p.OPT.RESERVED,\n",
    "                      p.OPT.SMILEY)\n",
    "    \n",
    "    def clean(tweet):\n",
    "        clean_tw = p.clean(tweet.lower())\n",
    "        clean_numbers =  re.sub(r'(?:\\d+)(?:\\w)*', ' ', clean_tw)\n",
    "        separe_compound = re.sub(r'-', ' ', clean_numbers)\n",
    "        clean_punct = re.sub(r'[^a-zñáéíóúü#\\s]', ' ', separe_compound)\n",
    "        clean_spaces = re.sub(' +', ' ', clean_punct)\n",
    "        return clean_spaces.strip()\n",
    "\n",
    "    def tokenize(tweet_clean):\n",
    "        return tw_tknz.tokenize(tweet_clean)\n",
    "    \n",
    "    def del_stopwords(tweet_token, l_stopwords):\n",
    "        return [w for w in tweet_token if w not in l_stopwords]\n",
    "    \n",
    "    def do_stemming(tweet_token_nstop, stemer):\n",
    "        return [stemer.stem(w) for w in tweet_token_nstop]\n",
    "\n",
    "    def do_lemmatization(tweet_token_nstop, lemmatizer):\n",
    "        return [lemmatizer.lemmatize(w) for w in tweet_token_nstop]\n",
    "    \n",
    "    for tw, lang in zip(l_tweets, l_langs):\n",
    "        tw_clean = clean(tw)\n",
    "        tw_token = tokenize(tw_clean)\n",
    "        tw_nstop = del_stopwords(tw_token, stopwords_es_en)\n",
    "        if lang == 'es':\n",
    "            tweets_stem.append(do_stemming(tw_nstop, stem_sp))\n",
    "        elif lang == 'en':\n",
    "            tweets_stem.append(do_lemmatization(tw_nstop, lem_en))\n",
    "        tweets_res.append(tw_nstop)\n",
    "        \n",
    "    return tweets_res, tweets_stem"
   ]
  },
  {
   "cell_type": "markdown",
   "metadata": {},
   "source": [
    "#### Feature extraction <a class=\"anchor\" id=\"feat\"></a>"
   ]
  },
  {
   "cell_type": "markdown",
   "metadata": {},
   "source": [
    "* TF-IDF"
   ]
  },
  {
   "cell_type": "code",
   "execution_count": 3,
   "metadata": {},
   "outputs": [],
   "source": [
    "def codify_tfidf_vec(l_docs, idf=True, analyzer_type = 'word', ngram=1):\n",
    "    if analyzer_type != 'word':\n",
    "        l_docs = [' '.join(tw) for tw in l_docs]\n",
    "    tfidf_vectorizer = TfidfVectorizer(tokenizer=lambda doc: doc, lowercase=False, \n",
    "                                       smooth_idf=True, use_idf=idf,\n",
    "                                       analyzer=analyzer_type,\n",
    "                                       ngram_range=(ngram,ngram))\n",
    "    counts = tfidf_vectorizer.fit_transform(l_docs)\n",
    "    #df_counts = pd.DataFrame(counts.toarray(), columns=tfidf_vectorizer.get_feature_names())\n",
    "    return tfidf_vectorizer, counts"
   ]
  },
  {
   "cell_type": "markdown",
   "metadata": {},
   "source": [
    "* Word embeddings"
   ]
  },
  {
   "cell_type": "code",
   "execution_count": 4,
   "metadata": {},
   "outputs": [],
   "source": [
    "def get_vectors_embeddings(model_pretrained, model_data, l_tweets):\n",
    "    vectors = []\n",
    "    for i,tw in enumerate(l_tweets):\n",
    "        tw_vector = []\n",
    "        for w in tw:\n",
    "            try:\n",
    "                tw_vector.append(model_pretrained.get_vector(w))\n",
    "            except KeyError:\n",
    "                try:\n",
    "                    tw_vector.append(model_data.wv.get_vector(w))\n",
    "                except KeyError:\n",
    "                    pass\n",
    "        sum_vec = sum(tw_vector)\n",
    "        if type(sum_vec) == int:\n",
    "            vectors.append(np.zeros(200))\n",
    "        else:\n",
    "            vectors.append(sum_vec/len(tw))\n",
    "    return np.array(vectors)"
   ]
  },
  {
   "cell_type": "markdown",
   "metadata": {},
   "source": [
    "---"
   ]
  },
  {
   "cell_type": "markdown",
   "metadata": {},
   "source": [
    "# EXIST Task <a class=\"anchor\" id=\"exist\"></a>"
   ]
  },
  {
   "cell_type": "markdown",
   "metadata": {},
   "source": [
    "## Data load <a class=\"anchor\" id=\"data-load\"></a>"
   ]
  },
  {
   "cell_type": "markdown",
   "metadata": {},
   "source": [
    "#### Train data"
   ]
  },
  {
   "cell_type": "code",
   "execution_count": 5,
   "metadata": {},
   "outputs": [
    {
     "data": {
      "text/html": [
       "<div>\n",
       "<style scoped>\n",
       "    .dataframe tbody tr th:only-of-type {\n",
       "        vertical-align: middle;\n",
       "    }\n",
       "\n",
       "    .dataframe tbody tr th {\n",
       "        vertical-align: top;\n",
       "    }\n",
       "\n",
       "    .dataframe thead th {\n",
       "        text-align: right;\n",
       "    }\n",
       "</style>\n",
       "<table border=\"1\" class=\"dataframe\">\n",
       "  <thead>\n",
       "    <tr style=\"text-align: right;\">\n",
       "      <th></th>\n",
       "      <th>test_case</th>\n",
       "      <th>id</th>\n",
       "      <th>source</th>\n",
       "      <th>language</th>\n",
       "      <th>text</th>\n",
       "      <th>task1</th>\n",
       "      <th>task2</th>\n",
       "      <th>task1_encoding</th>\n",
       "    </tr>\n",
       "  </thead>\n",
       "  <tbody>\n",
       "    <tr>\n",
       "      <th>0</th>\n",
       "      <td>EXIST2021</td>\n",
       "      <td>1</td>\n",
       "      <td>twitter</td>\n",
       "      <td>en</td>\n",
       "      <td>She calls herself \"anti-feminazi\" how about sh...</td>\n",
       "      <td>sexist</td>\n",
       "      <td>ideological-inequality</td>\n",
       "      <td>1</td>\n",
       "    </tr>\n",
       "    <tr>\n",
       "      <th>1</th>\n",
       "      <td>EXIST2021</td>\n",
       "      <td>2</td>\n",
       "      <td>twitter</td>\n",
       "      <td>en</td>\n",
       "      <td>Now, back to these women, the brave and the be...</td>\n",
       "      <td>non-sexist</td>\n",
       "      <td>non-sexist</td>\n",
       "      <td>0</td>\n",
       "    </tr>\n",
       "    <tr>\n",
       "      <th>2</th>\n",
       "      <td>EXIST2021</td>\n",
       "      <td>3</td>\n",
       "      <td>twitter</td>\n",
       "      <td>en</td>\n",
       "      <td>@CurvyBandida @Xalynne_B Wow, your skirt is ve...</td>\n",
       "      <td>sexist</td>\n",
       "      <td>objectification</td>\n",
       "      <td>1</td>\n",
       "    </tr>\n",
       "    <tr>\n",
       "      <th>3</th>\n",
       "      <td>EXIST2021</td>\n",
       "      <td>4</td>\n",
       "      <td>twitter</td>\n",
       "      <td>en</td>\n",
       "      <td>@AurelieGuiboud Incredible!  Beautiful!But I l...</td>\n",
       "      <td>non-sexist</td>\n",
       "      <td>non-sexist</td>\n",
       "      <td>0</td>\n",
       "    </tr>\n",
       "    <tr>\n",
       "      <th>4</th>\n",
       "      <td>EXIST2021</td>\n",
       "      <td>5</td>\n",
       "      <td>twitter</td>\n",
       "      <td>en</td>\n",
       "      <td>i find it extremely hard to believe that kelly...</td>\n",
       "      <td>non-sexist</td>\n",
       "      <td>non-sexist</td>\n",
       "      <td>0</td>\n",
       "    </tr>\n",
       "  </tbody>\n",
       "</table>\n",
       "</div>"
      ],
      "text/plain": [
       "   test_case  id   source language  \\\n",
       "0  EXIST2021   1  twitter       en   \n",
       "1  EXIST2021   2  twitter       en   \n",
       "2  EXIST2021   3  twitter       en   \n",
       "3  EXIST2021   4  twitter       en   \n",
       "4  EXIST2021   5  twitter       en   \n",
       "\n",
       "                                                text       task1  \\\n",
       "0  She calls herself \"anti-feminazi\" how about sh...      sexist   \n",
       "1  Now, back to these women, the brave and the be...  non-sexist   \n",
       "2  @CurvyBandida @Xalynne_B Wow, your skirt is ve...      sexist   \n",
       "3  @AurelieGuiboud Incredible!  Beautiful!But I l...  non-sexist   \n",
       "4  i find it extremely hard to believe that kelly...  non-sexist   \n",
       "\n",
       "                    task2  task1_encoding  \n",
       "0  ideological-inequality               1  \n",
       "1              non-sexist               0  \n",
       "2         objectification               1  \n",
       "3              non-sexist               0  \n",
       "4              non-sexist               0  "
      ]
     },
     "execution_count": 5,
     "metadata": {},
     "output_type": "execute_result"
    }
   ],
   "source": [
    "df = pd.read_csv('../EXIST2021_dataset/training/EXIST2021_training.tsv', sep='\\t')\n",
    "\n",
    "df['task1_encoding'] = df['task1'].replace({'sexist': 1, 'non-sexist':  0})      # Codificamos la variable a numérica\n",
    "\n",
    "df.head()"
   ]
  },
  {
   "cell_type": "markdown",
   "metadata": {},
   "source": [
    "* Separate the data for task 2"
   ]
  },
  {
   "cell_type": "code",
   "execution_count": 6,
   "metadata": {},
   "outputs": [
    {
     "data": {
      "text/html": [
       "<div>\n",
       "<style scoped>\n",
       "    .dataframe tbody tr th:only-of-type {\n",
       "        vertical-align: middle;\n",
       "    }\n",
       "\n",
       "    .dataframe tbody tr th {\n",
       "        vertical-align: top;\n",
       "    }\n",
       "\n",
       "    .dataframe thead th {\n",
       "        text-align: right;\n",
       "    }\n",
       "</style>\n",
       "<table border=\"1\" class=\"dataframe\">\n",
       "  <thead>\n",
       "    <tr style=\"text-align: right;\">\n",
       "      <th></th>\n",
       "      <th>test_case</th>\n",
       "      <th>id</th>\n",
       "      <th>source</th>\n",
       "      <th>language</th>\n",
       "      <th>text</th>\n",
       "      <th>task1</th>\n",
       "      <th>task2</th>\n",
       "      <th>task1_encoding</th>\n",
       "      <th>task2_encoding</th>\n",
       "    </tr>\n",
       "  </thead>\n",
       "  <tbody>\n",
       "    <tr>\n",
       "      <th>0</th>\n",
       "      <td>EXIST2021</td>\n",
       "      <td>1</td>\n",
       "      <td>twitter</td>\n",
       "      <td>en</td>\n",
       "      <td>She calls herself \"anti-feminazi\" how about sh...</td>\n",
       "      <td>sexist</td>\n",
       "      <td>ideological-inequality</td>\n",
       "      <td>1</td>\n",
       "      <td>0</td>\n",
       "    </tr>\n",
       "    <tr>\n",
       "      <th>2</th>\n",
       "      <td>EXIST2021</td>\n",
       "      <td>3</td>\n",
       "      <td>twitter</td>\n",
       "      <td>en</td>\n",
       "      <td>@CurvyBandida @Xalynne_B Wow, your skirt is ve...</td>\n",
       "      <td>sexist</td>\n",
       "      <td>objectification</td>\n",
       "      <td>1</td>\n",
       "      <td>4</td>\n",
       "    </tr>\n",
       "    <tr>\n",
       "      <th>5</th>\n",
       "      <td>EXIST2021</td>\n",
       "      <td>6</td>\n",
       "      <td>twitter</td>\n",
       "      <td>en</td>\n",
       "      <td>@Smithcouple971 Hello....m raj....m with good ...</td>\n",
       "      <td>sexist</td>\n",
       "      <td>sexual-violence</td>\n",
       "      <td>1</td>\n",
       "      <td>3</td>\n",
       "    </tr>\n",
       "    <tr>\n",
       "      <th>10</th>\n",
       "      <td>EXIST2021</td>\n",
       "      <td>11</td>\n",
       "      <td>twitter</td>\n",
       "      <td>en</td>\n",
       "      <td>@hapyshoper79 @Dis_Critic @MairiJCam @cazadams...</td>\n",
       "      <td>sexist</td>\n",
       "      <td>ideological-inequality</td>\n",
       "      <td>1</td>\n",
       "      <td>0</td>\n",
       "    </tr>\n",
       "    <tr>\n",
       "      <th>15</th>\n",
       "      <td>EXIST2021</td>\n",
       "      <td>16</td>\n",
       "      <td>twitter</td>\n",
       "      <td>en</td>\n",
       "      <td>@Ponderer_O_Purg @BynameRose @GameOverRos @nat...</td>\n",
       "      <td>sexist</td>\n",
       "      <td>ideological-inequality</td>\n",
       "      <td>1</td>\n",
       "      <td>0</td>\n",
       "    </tr>\n",
       "  </tbody>\n",
       "</table>\n",
       "</div>"
      ],
      "text/plain": [
       "    test_case  id   source language  \\\n",
       "0   EXIST2021   1  twitter       en   \n",
       "2   EXIST2021   3  twitter       en   \n",
       "5   EXIST2021   6  twitter       en   \n",
       "10  EXIST2021  11  twitter       en   \n",
       "15  EXIST2021  16  twitter       en   \n",
       "\n",
       "                                                 text   task1  \\\n",
       "0   She calls herself \"anti-feminazi\" how about sh...  sexist   \n",
       "2   @CurvyBandida @Xalynne_B Wow, your skirt is ve...  sexist   \n",
       "5   @Smithcouple971 Hello....m raj....m with good ...  sexist   \n",
       "10  @hapyshoper79 @Dis_Critic @MairiJCam @cazadams...  sexist   \n",
       "15  @Ponderer_O_Purg @BynameRose @GameOverRos @nat...  sexist   \n",
       "\n",
       "                     task2  task1_encoding  task2_encoding  \n",
       "0   ideological-inequality               1               0  \n",
       "2          objectification               1               4  \n",
       "5          sexual-violence               1               3  \n",
       "10  ideological-inequality               1               0  \n",
       "15  ideological-inequality               1               0  "
      ]
     },
     "execution_count": 6,
     "metadata": {},
     "output_type": "execute_result"
    }
   ],
   "source": [
    "df_t2 = df.drop(df.loc[df['task1']=='non-sexist'].index)\n",
    "\n",
    "df_t2['task2_encoding'] = df_t2['task2'].replace({'ideological-inequality' : 0,\n",
    "                                                  'stereotyping-dominance' : 1, 'misogyny-non-sexual-violence': 2,\n",
    "                                                  'sexual-violence' : 3, 'objectification': 4})\n",
    "df_t2.head()"
   ]
  },
  {
   "cell_type": "markdown",
   "metadata": {},
   "source": [
    "* Process and clean the texts"
   ]
  },
  {
   "cell_type": "code",
   "execution_count": 7,
   "metadata": {},
   "outputs": [],
   "source": [
    "tweets_clean_token, tweets_stem = preprocess_tweets(df['text'], df['language'], keep_hastags=False)\n",
    "tweets_clean = [' '.join(tw) for tw in tweets_clean_token]"
   ]
  },
  {
   "cell_type": "code",
   "execution_count": 8,
   "metadata": {},
   "outputs": [],
   "source": [
    "tweets_clean_token2, tweets_stem2 = preprocess_tweets(df_t2['text'], df_t2['language'], keep_hastags=False)\n",
    "tweets_clean2 = [' '.join(tw) for tw in tweets_clean_token2]"
   ]
  },
  {
   "cell_type": "markdown",
   "metadata": {},
   "source": [
    "#### Test data"
   ]
  },
  {
   "cell_type": "code",
   "execution_count": 9,
   "metadata": {},
   "outputs": [
    {
     "data": {
      "text/html": [
       "<div>\n",
       "<style scoped>\n",
       "    .dataframe tbody tr th:only-of-type {\n",
       "        vertical-align: middle;\n",
       "    }\n",
       "\n",
       "    .dataframe tbody tr th {\n",
       "        vertical-align: top;\n",
       "    }\n",
       "\n",
       "    .dataframe thead th {\n",
       "        text-align: right;\n",
       "    }\n",
       "</style>\n",
       "<table border=\"1\" class=\"dataframe\">\n",
       "  <thead>\n",
       "    <tr style=\"text-align: right;\">\n",
       "      <th></th>\n",
       "      <th>test_case</th>\n",
       "      <th>id</th>\n",
       "      <th>source</th>\n",
       "      <th>language</th>\n",
       "      <th>text</th>\n",
       "    </tr>\n",
       "  </thead>\n",
       "  <tbody>\n",
       "    <tr>\n",
       "      <th>0</th>\n",
       "      <td>EXIST2021</td>\n",
       "      <td>6978</td>\n",
       "      <td>gab</td>\n",
       "      <td>en</td>\n",
       "      <td>Pennsylvania State Rep horrifies with opening ...</td>\n",
       "    </tr>\n",
       "    <tr>\n",
       "      <th>1</th>\n",
       "      <td>EXIST2021</td>\n",
       "      <td>6979</td>\n",
       "      <td>twitter</td>\n",
       "      <td>en</td>\n",
       "      <td>@iilovegrapes He sounds like as ass, and very ...</td>\n",
       "    </tr>\n",
       "    <tr>\n",
       "      <th>2</th>\n",
       "      <td>EXIST2021</td>\n",
       "      <td>6980</td>\n",
       "      <td>twitter</td>\n",
       "      <td>en</td>\n",
       "      <td>@averyangryskel1 @4ARealistParty LOL! \"This be...</td>\n",
       "    </tr>\n",
       "    <tr>\n",
       "      <th>3</th>\n",
       "      <td>EXIST2021</td>\n",
       "      <td>6981</td>\n",
       "      <td>twitter</td>\n",
       "      <td>en</td>\n",
       "      <td>@WanderOrange @stalliontwink Rights?I mean yea...</td>\n",
       "    </tr>\n",
       "    <tr>\n",
       "      <th>4</th>\n",
       "      <td>EXIST2021</td>\n",
       "      <td>6982</td>\n",
       "      <td>twitter</td>\n",
       "      <td>en</td>\n",
       "      <td>the jack manifold appreciation i’m seeing is o...</td>\n",
       "    </tr>\n",
       "  </tbody>\n",
       "</table>\n",
       "</div>"
      ],
      "text/plain": [
       "   test_case    id   source language  \\\n",
       "0  EXIST2021  6978      gab       en   \n",
       "1  EXIST2021  6979  twitter       en   \n",
       "2  EXIST2021  6980  twitter       en   \n",
       "3  EXIST2021  6981  twitter       en   \n",
       "4  EXIST2021  6982  twitter       en   \n",
       "\n",
       "                                                text  \n",
       "0  Pennsylvania State Rep horrifies with opening ...  \n",
       "1  @iilovegrapes He sounds like as ass, and very ...  \n",
       "2  @averyangryskel1 @4ARealistParty LOL! \"This be...  \n",
       "3  @WanderOrange @stalliontwink Rights?I mean yea...  \n",
       "4  the jack manifold appreciation i’m seeing is o...  "
      ]
     },
     "execution_count": 9,
     "metadata": {},
     "output_type": "execute_result"
    }
   ],
   "source": [
    "df_test = pd.read_csv('../EXIST2021_dataset/test/EXIST2021_test.tsv', sep='\\t')\n",
    "\n",
    "df_test.head()"
   ]
  },
  {
   "cell_type": "markdown",
   "metadata": {},
   "source": [
    "* Process and clean the texts"
   ]
  },
  {
   "cell_type": "code",
   "execution_count": 10,
   "metadata": {},
   "outputs": [],
   "source": [
    "tweets_clean_token_test, tweets_stem_test = preprocess_tweets(df_test['text'], df_test['language'], keep_hastags=False)\n",
    "tweets_clean_test = [' '.join(tw) for tw in tweets_clean_token_test]"
   ]
  },
  {
   "cell_type": "markdown",
   "metadata": {},
   "source": [
    "---"
   ]
  },
  {
   "cell_type": "markdown",
   "metadata": {},
   "source": [
    "## Predictions <a class=\"anchor\" id=\"preds\"></a>"
   ]
  },
  {
   "cell_type": "markdown",
   "metadata": {},
   "source": [
    "### IDF <a class=\"anchor\" id=\"idf\"></a>"
   ]
  },
  {
   "cell_type": "markdown",
   "metadata": {},
   "source": [
    "#### Task1 <a class=\"anchor\" id=\"idf-t1\"></a>"
   ]
  },
  {
   "cell_type": "markdown",
   "metadata": {},
   "source": [
    "* We fit the best model to the whole train data"
   ]
  },
  {
   "cell_type": "code",
   "execution_count": 54,
   "metadata": {},
   "outputs": [],
   "source": [
    "idf_vect1, idf_matrix1 = codify_tfidf_vec(tweets_stem + tweets_stem_test)\n",
    "idf_df1 = pd.DataFrame(idf_matrix1.toarray(), columns=idf_vect1.get_feature_names())"
   ]
  },
  {
   "cell_type": "code",
   "execution_count": 55,
   "metadata": {},
   "outputs": [],
   "source": [
    "Xtrain_idf1 = idf_matrix1[:len(df),]\n",
    "ytrain_idf1 = df.task1_encoding"
   ]
  },
  {
   "cell_type": "code",
   "execution_count": 56,
   "metadata": {},
   "outputs": [
    {
     "data": {
      "text/plain": [
       "BaggingClassifier(base_estimator=LogisticRegression(C=1))"
      ]
     },
     "execution_count": 56,
     "metadata": {},
     "output_type": "execute_result"
    }
   ],
   "source": [
    "clf_idf1 = LogisticRegression(C=1, penalty='l2')\n",
    "bagging_idf1 = BaggingClassifier(base_estimator=clf_idf1, n_estimators=10)\n",
    "bagging_idf1.fit(Xtrain_idf1, ytrain_idf1)"
   ]
  },
  {
   "cell_type": "markdown",
   "metadata": {},
   "source": [
    "* Predict over test dataset"
   ]
  },
  {
   "cell_type": "code",
   "execution_count": 57,
   "metadata": {},
   "outputs": [],
   "source": [
    "Xtest_idf1 = idf_matrix1[len(df):,]\n",
    "preds_idf1 = bagging_idf1.predict(Xtest_idf1)"
   ]
  },
  {
   "cell_type": "code",
   "execution_count": 58,
   "metadata": {},
   "outputs": [],
   "source": [
    "df_test_idf = df_test\n",
    "df_test_idf['task1_encoding'] = preds_idf1"
   ]
  },
  {
   "cell_type": "markdown",
   "metadata": {},
   "source": [
    "---"
   ]
  },
  {
   "cell_type": "markdown",
   "metadata": {},
   "source": [
    "#### Task2"
   ]
  },
  {
   "cell_type": "markdown",
   "metadata": {},
   "source": [
    "* Remove the examples classified as non-sexist"
   ]
  },
  {
   "cell_type": "code",
   "execution_count": 59,
   "metadata": {},
   "outputs": [],
   "source": [
    "df_test2_idf = df_test_idf.drop(df_test_idf.loc[df_test_idf['task1_encoding']==0].index)"
   ]
  },
  {
   "cell_type": "code",
   "execution_count": 60,
   "metadata": {},
   "outputs": [],
   "source": [
    "tweets_clean_token_test2, tweets_stem_test2 = preprocess_tweets(df_test2_idf['text'], df_test2_idf['language'], keep_hastags=False)\n",
    "tweets_clean_test2 = [' '.join(tw) for tw in tweets_clean_token_test2]"
   ]
  },
  {
   "cell_type": "markdown",
   "metadata": {},
   "source": [
    "* We fit the best model to the whole train data"
   ]
  },
  {
   "cell_type": "code",
   "execution_count": 61,
   "metadata": {},
   "outputs": [],
   "source": [
    "idf_vect2, idf_matrix2 = codify_tfidf_vec(tweets_stem2 + tweets_stem_test2)\n",
    "idf_df2 = pd.DataFrame(idf_matrix2.toarray(), columns=idf_vect2.get_feature_names())"
   ]
  },
  {
   "cell_type": "code",
   "execution_count": 62,
   "metadata": {},
   "outputs": [],
   "source": [
    "Xtrain_idf2 = idf_matrix2[:len(df_t2),]\n",
    "ytrain_idf2 = np.array(df_t2.task2_encoding)"
   ]
  },
  {
   "cell_type": "code",
   "execution_count": 63,
   "metadata": {},
   "outputs": [
    {
     "name": "stderr",
     "output_type": "stream",
     "text": [
      "c:\\python\\python39\\lib\\site-packages\\sklearn\\linear_model\\_logistic.py:763: ConvergenceWarning: lbfgs failed to converge (status=1):\n",
      "STOP: TOTAL NO. of ITERATIONS REACHED LIMIT.\n",
      "\n",
      "Increase the number of iterations (max_iter) or scale the data as shown in:\n",
      "    https://scikit-learn.org/stable/modules/preprocessing.html\n",
      "Please also refer to the documentation for alternative solver options:\n",
      "    https://scikit-learn.org/stable/modules/linear_model.html#logistic-regression\n",
      "  n_iter_i = _check_optimize_result(\n"
     ]
    },
    {
     "data": {
      "text/plain": [
       "StackingClassifier(estimators=[('svm', SVC(C=10, gamma=0.1))],\n",
       "                   final_estimator=LogisticRegression(C=1))"
      ]
     },
     "execution_count": 63,
     "metadata": {},
     "output_type": "execute_result"
    }
   ],
   "source": [
    "clf_idf21 = svm.SVC(C=10, gamma=0.1, kernel='rbf')\n",
    "clf_idf22 = LogisticRegression(C=1, penalty='l2')\n",
    "\n",
    "stack_idf2 = StackingClassifier(estimators=[('svm', clf_idf21)], final_estimator=clf_idf22)\n",
    "stack_idf2.fit(Xtrain_idf2, ytrain_idf2)"
   ]
  },
  {
   "cell_type": "markdown",
   "metadata": {},
   "source": [
    "* Predict over the test dataset"
   ]
  },
  {
   "cell_type": "code",
   "execution_count": 64,
   "metadata": {},
   "outputs": [],
   "source": [
    "Xtest_idf2 = idf_matrix2[len(df_t2):,]\n",
    "preds_idf2 = stack_idf2.predict(Xtest_idf2)"
   ]
  },
  {
   "cell_type": "code",
   "execution_count": 65,
   "metadata": {},
   "outputs": [],
   "source": [
    "df_test2_idf['task2_encoding'] = preds_idf2"
   ]
  },
  {
   "cell_type": "markdown",
   "metadata": {},
   "source": [
    "---"
   ]
  },
  {
   "cell_type": "markdown",
   "metadata": {},
   "source": [
    "### Word embeddings <a class=\"anchor\" id=\"word-emb\"></a>"
   ]
  },
  {
   "cell_type": "markdown",
   "metadata": {},
   "source": [
    "#### Task1 <a class=\"anchor\" id=\"we-t1\"></a>"
   ]
  },
  {
   "cell_type": "markdown",
   "metadata": {},
   "source": [
    "* We fit the best model to the whole train data"
   ]
  },
  {
   "cell_type": "code",
   "execution_count": 67,
   "metadata": {},
   "outputs": [],
   "source": [
    "#glove_twitter = api.load(\"glove-twitter-200\")\n",
    "w2v_data1 = word2vec.Word2Vec(tweets_clean_token, vector_size=200)\n",
    "\n",
    "vec_train1 = get_vectors_embeddings(glove_twitter, w2v_data1, tweets_clean_token)"
   ]
  },
  {
   "cell_type": "code",
   "execution_count": 68,
   "metadata": {},
   "outputs": [],
   "source": [
    "X_train_we1 = vec_train1\n",
    "y_train_we1 = df.task1_encoding"
   ]
  },
  {
   "cell_type": "code",
   "execution_count": 69,
   "metadata": {},
   "outputs": [
    {
     "data": {
      "text/plain": [
       "StackingClassifier(estimators=[('svm', SVC(C=1, gamma=0.1))],\n",
       "                   final_estimator=LogisticRegression(C=0.1))"
      ]
     },
     "execution_count": 69,
     "metadata": {},
     "output_type": "execute_result"
    }
   ],
   "source": [
    "clf_we11 = svm.SVC(C=1, gamma=0.1, kernel='rbf')\n",
    "clf_we12 = LogisticRegression(C=0.1, penalty='l2')\n",
    "\n",
    "stack_we1 = StackingClassifier(estimators=[('svm', clf_we11)], final_estimator=clf_we12)\n",
    "stack_we1.fit(X_train_we1, y_train_we1)"
   ]
  },
  {
   "cell_type": "markdown",
   "metadata": {},
   "source": [
    "* Predict over the test dataset"
   ]
  },
  {
   "cell_type": "code",
   "execution_count": 70,
   "metadata": {},
   "outputs": [],
   "source": [
    "vec_test1 = get_vectors_embeddings(glove_twitter, w2v_data1, tweets_clean_token_test)"
   ]
  },
  {
   "cell_type": "code",
   "execution_count": 71,
   "metadata": {},
   "outputs": [],
   "source": [
    "Xtest_we1 = vec_test1\n",
    "preds_we1 = stack_we1.predict(Xtest_we1)"
   ]
  },
  {
   "cell_type": "code",
   "execution_count": 72,
   "metadata": {},
   "outputs": [],
   "source": [
    "df_test_we = df_test\n",
    "df_test_we['task1_encoding'] = preds_we1"
   ]
  },
  {
   "cell_type": "markdown",
   "metadata": {},
   "source": [
    "#### Task2 <a class=\"anchor\" id=\"we-t2\"></a>"
   ]
  },
  {
   "cell_type": "markdown",
   "metadata": {},
   "source": [
    "* We remove the examples classified as non-sexist"
   ]
  },
  {
   "cell_type": "code",
   "execution_count": 74,
   "metadata": {},
   "outputs": [],
   "source": [
    "df_test2_we = df_test_we.drop(df_test_we.loc[df_test_we['task1_encoding']==0].index)"
   ]
  },
  {
   "cell_type": "code",
   "execution_count": 75,
   "metadata": {},
   "outputs": [],
   "source": [
    "tweets_clean_token_test2, tweets_stem_test2 = preprocess_tweets(df_test2_we['text'], df_test2_we['language'], keep_hastags=False)\n",
    "tweets_clean_test2 = [' '.join(tw) for tw in tweets_clean_token_test2]"
   ]
  },
  {
   "cell_type": "markdown",
   "metadata": {},
   "source": [
    "* We fit the best model to the whole train data"
   ]
  },
  {
   "cell_type": "code",
   "execution_count": 76,
   "metadata": {},
   "outputs": [],
   "source": [
    "w2v_data2 = word2vec.Word2Vec(tweets_clean_token2, vector_size=200)\n",
    "\n",
    "vec_train2 = get_vectors_embeddings(glove_twitter, w2v_data2, tweets_clean_token2)"
   ]
  },
  {
   "cell_type": "code",
   "execution_count": 77,
   "metadata": {},
   "outputs": [],
   "source": [
    "X_train_we2 = vec_train2\n",
    "y_train_we2 = np.array(df_t2.task2_encoding)"
   ]
  },
  {
   "cell_type": "code",
   "execution_count": 78,
   "metadata": {},
   "outputs": [
    {
     "data": {
      "text/plain": [
       "StackingClassifier(estimators=[('svm', SVC(C=10, gamma=0.1))],\n",
       "                   final_estimator=LogisticRegression(C=1))"
      ]
     },
     "execution_count": 78,
     "metadata": {},
     "output_type": "execute_result"
    }
   ],
   "source": [
    "clf_we21 = svm.SVC(C=10, gamma=0.1, kernel='rbf')\n",
    "clf_we22 = LogisticRegression(C=1, penalty='l2')\n",
    "\n",
    "stack_we2 = StackingClassifier(estimators=[('svm', clf_we21)], final_estimator=clf_we22)\n",
    "stack_we2.fit(X_train_we2, y_train_we2)"
   ]
  },
  {
   "cell_type": "markdown",
   "metadata": {},
   "source": [
    "* Predict over the test dataset"
   ]
  },
  {
   "cell_type": "code",
   "execution_count": 79,
   "metadata": {},
   "outputs": [],
   "source": [
    "vec_test2 = get_vectors_embeddings(glove_twitter, w2v_data2, tweets_clean_token_test2)"
   ]
  },
  {
   "cell_type": "code",
   "execution_count": 80,
   "metadata": {},
   "outputs": [],
   "source": [
    "Xtest_we2 = vec_test2\n",
    "preds_we2 = stack_we1.predict(Xtest_we2)"
   ]
  },
  {
   "cell_type": "code",
   "execution_count": 81,
   "metadata": {},
   "outputs": [],
   "source": [
    "df_test2_we['task2_encoding'] = preds_we2"
   ]
  },
  {
   "cell_type": "markdown",
   "metadata": {},
   "source": [
    "---"
   ]
  },
  {
   "cell_type": "markdown",
   "metadata": {},
   "source": [
    "## Submission results <a class=\"anchor\" id=\"submission\"></a>"
   ]
  },
  {
   "cell_type": "markdown",
   "metadata": {},
   "source": [
    "### IDF <a class=\"anchor\" id=\"sub-idf\"></a>"
   ]
  },
  {
   "cell_type": "markdown",
   "metadata": {},
   "source": [
    "* Concatenate the dataframes obtained"
   ]
  },
  {
   "cell_type": "code",
   "execution_count": 99,
   "metadata": {},
   "outputs": [
    {
     "data": {
      "text/html": [
       "<div>\n",
       "<style scoped>\n",
       "    .dataframe tbody tr th:only-of-type {\n",
       "        vertical-align: middle;\n",
       "    }\n",
       "\n",
       "    .dataframe tbody tr th {\n",
       "        vertical-align: top;\n",
       "    }\n",
       "\n",
       "    .dataframe thead th {\n",
       "        text-align: right;\n",
       "    }\n",
       "</style>\n",
       "<table border=\"1\" class=\"dataframe\">\n",
       "  <thead>\n",
       "    <tr style=\"text-align: right;\">\n",
       "      <th></th>\n",
       "      <th>test_case</th>\n",
       "      <th>id</th>\n",
       "      <th>source</th>\n",
       "      <th>language</th>\n",
       "      <th>text</th>\n",
       "      <th>task1_encoding</th>\n",
       "      <th>task2_encoding</th>\n",
       "      <th>task1</th>\n",
       "      <th>task2</th>\n",
       "    </tr>\n",
       "  </thead>\n",
       "  <tbody>\n",
       "    <tr>\n",
       "      <th>0</th>\n",
       "      <td>EXIST2021</td>\n",
       "      <td>6978</td>\n",
       "      <td>gab</td>\n",
       "      <td>en</td>\n",
       "      <td>Pennsylvania State Rep horrifies with opening ...</td>\n",
       "      <td>0</td>\n",
       "      <td>non-sexist</td>\n",
       "      <td>non-sexist</td>\n",
       "      <td>non-sexist</td>\n",
       "    </tr>\n",
       "    <tr>\n",
       "      <th>1</th>\n",
       "      <td>EXIST2021</td>\n",
       "      <td>6979</td>\n",
       "      <td>twitter</td>\n",
       "      <td>en</td>\n",
       "      <td>@iilovegrapes He sounds like as ass, and very ...</td>\n",
       "      <td>0</td>\n",
       "      <td>non-sexist</td>\n",
       "      <td>non-sexist</td>\n",
       "      <td>non-sexist</td>\n",
       "    </tr>\n",
       "    <tr>\n",
       "      <th>2</th>\n",
       "      <td>EXIST2021</td>\n",
       "      <td>6980</td>\n",
       "      <td>twitter</td>\n",
       "      <td>en</td>\n",
       "      <td>@averyangryskel1 @4ARealistParty LOL! \"This be...</td>\n",
       "      <td>1</td>\n",
       "      <td>0.0</td>\n",
       "      <td>sexist</td>\n",
       "      <td>ideological-inequality</td>\n",
       "    </tr>\n",
       "    <tr>\n",
       "      <th>3</th>\n",
       "      <td>EXIST2021</td>\n",
       "      <td>6981</td>\n",
       "      <td>twitter</td>\n",
       "      <td>en</td>\n",
       "      <td>@WanderOrange @stalliontwink Rights?I mean yea...</td>\n",
       "      <td>1</td>\n",
       "      <td>1.0</td>\n",
       "      <td>sexist</td>\n",
       "      <td>stereotyping-dominance</td>\n",
       "    </tr>\n",
       "    <tr>\n",
       "      <th>4</th>\n",
       "      <td>EXIST2021</td>\n",
       "      <td>6982</td>\n",
       "      <td>twitter</td>\n",
       "      <td>en</td>\n",
       "      <td>the jack manifold appreciation i’m seeing is o...</td>\n",
       "      <td>0</td>\n",
       "      <td>non-sexist</td>\n",
       "      <td>non-sexist</td>\n",
       "      <td>non-sexist</td>\n",
       "    </tr>\n",
       "  </tbody>\n",
       "</table>\n",
       "</div>"
      ],
      "text/plain": [
       "   test_case    id   source language  \\\n",
       "0  EXIST2021  6978      gab       en   \n",
       "1  EXIST2021  6979  twitter       en   \n",
       "2  EXIST2021  6980  twitter       en   \n",
       "3  EXIST2021  6981  twitter       en   \n",
       "4  EXIST2021  6982  twitter       en   \n",
       "\n",
       "                                                text  task1_encoding  \\\n",
       "0  Pennsylvania State Rep horrifies with opening ...               0   \n",
       "1  @iilovegrapes He sounds like as ass, and very ...               0   \n",
       "2  @averyangryskel1 @4ARealistParty LOL! \"This be...               1   \n",
       "3  @WanderOrange @stalliontwink Rights?I mean yea...               1   \n",
       "4  the jack manifold appreciation i’m seeing is o...               0   \n",
       "\n",
       "  task2_encoding       task1                   task2  \n",
       "0     non-sexist  non-sexist              non-sexist  \n",
       "1     non-sexist  non-sexist              non-sexist  \n",
       "2            0.0      sexist  ideological-inequality  \n",
       "3            1.0      sexist  stereotyping-dominance  \n",
       "4     non-sexist  non-sexist              non-sexist  "
      ]
     },
     "execution_count": 99,
     "metadata": {},
     "output_type": "execute_result"
    }
   ],
   "source": [
    "df_both_idf = pd.merge(df_test_idf, df_test2_idf[['id', 'task2_encoding']], left_on='id',  right_on='id', how='outer')\n",
    "\n",
    "df_both_idf['task2_encoding'] = df_both_idf['task2_encoding'].fillna('non-sexist')\n",
    "df_both_idf['task1'] = df_both_idf['task1_encoding'].replace({0: 'non-sexist',\n",
    "                                                      1: 'sexist'})\n",
    "\n",
    "df_both_idf['task2'] = df_both_idf['task2_encoding'].replace({0: 'ideological-inequality',\n",
    "                                                      1: 'stereotyping-dominance',\n",
    "                                                      2: 'misogyny-non-sexual-violence',\n",
    "                                                      3: 'sexual-violence', \n",
    "                                                      4: 'objectification'})\n",
    "df_both_idf.head()"
   ]
  },
  {
   "cell_type": "markdown",
   "metadata": {},
   "source": [
    "* Format the results for submission"
   ]
  },
  {
   "cell_type": "code",
   "execution_count": 90,
   "metadata": {},
   "outputs": [
    {
     "data": {
      "text/html": [
       "<div>\n",
       "<style scoped>\n",
       "    .dataframe tbody tr th:only-of-type {\n",
       "        vertical-align: middle;\n",
       "    }\n",
       "\n",
       "    .dataframe tbody tr th {\n",
       "        vertical-align: top;\n",
       "    }\n",
       "\n",
       "    .dataframe thead th {\n",
       "        text-align: right;\n",
       "    }\n",
       "</style>\n",
       "<table border=\"1\" class=\"dataframe\">\n",
       "  <thead>\n",
       "    <tr style=\"text-align: right;\">\n",
       "      <th></th>\n",
       "      <th>test_case</th>\n",
       "      <th>id</th>\n",
       "      <th>task1</th>\n",
       "    </tr>\n",
       "  </thead>\n",
       "  <tbody>\n",
       "    <tr>\n",
       "      <th>0</th>\n",
       "      <td>EXIST2021</td>\n",
       "      <td>006978</td>\n",
       "      <td>non-sexist</td>\n",
       "    </tr>\n",
       "    <tr>\n",
       "      <th>1</th>\n",
       "      <td>EXIST2021</td>\n",
       "      <td>006979</td>\n",
       "      <td>non-sexist</td>\n",
       "    </tr>\n",
       "    <tr>\n",
       "      <th>2</th>\n",
       "      <td>EXIST2021</td>\n",
       "      <td>006980</td>\n",
       "      <td>sexist</td>\n",
       "    </tr>\n",
       "    <tr>\n",
       "      <th>3</th>\n",
       "      <td>EXIST2021</td>\n",
       "      <td>006981</td>\n",
       "      <td>sexist</td>\n",
       "    </tr>\n",
       "    <tr>\n",
       "      <th>4</th>\n",
       "      <td>EXIST2021</td>\n",
       "      <td>006982</td>\n",
       "      <td>non-sexist</td>\n",
       "    </tr>\n",
       "  </tbody>\n",
       "</table>\n",
       "</div>"
      ],
      "text/plain": [
       "   test_case      id       task1\n",
       "0  EXIST2021  006978  non-sexist\n",
       "1  EXIST2021  006979  non-sexist\n",
       "2  EXIST2021  006980      sexist\n",
       "3  EXIST2021  006981      sexist\n",
       "4  EXIST2021  006982  non-sexist"
      ]
     },
     "execution_count": 90,
     "metadata": {},
     "output_type": "execute_result"
    }
   ],
   "source": [
    "df_final1_idf = pd.DataFrame({'test_case': df_both_idf['test_case'],\n",
    "                             'id': df_both_idf['id'].apply(lambda x: str(x).zfill(6)),\n",
    "                             'task1': df_both_idf['task1']})\n",
    "df_final1_idf.head()"
   ]
  },
  {
   "cell_type": "code",
   "execution_count": 91,
   "metadata": {},
   "outputs": [],
   "source": [
    "df_final1_idf.to_csv('../Submission/exist2021_Alclatos/task1_Alclatos_2.tsv', sep='\\t', header=None, index=False)"
   ]
  },
  {
   "cell_type": "code",
   "execution_count": 92,
   "metadata": {},
   "outputs": [
    {
     "data": {
      "text/html": [
       "<div>\n",
       "<style scoped>\n",
       "    .dataframe tbody tr th:only-of-type {\n",
       "        vertical-align: middle;\n",
       "    }\n",
       "\n",
       "    .dataframe tbody tr th {\n",
       "        vertical-align: top;\n",
       "    }\n",
       "\n",
       "    .dataframe thead th {\n",
       "        text-align: right;\n",
       "    }\n",
       "</style>\n",
       "<table border=\"1\" class=\"dataframe\">\n",
       "  <thead>\n",
       "    <tr style=\"text-align: right;\">\n",
       "      <th></th>\n",
       "      <th>test_case</th>\n",
       "      <th>id</th>\n",
       "      <th>task2</th>\n",
       "    </tr>\n",
       "  </thead>\n",
       "  <tbody>\n",
       "    <tr>\n",
       "      <th>0</th>\n",
       "      <td>EXIST2021</td>\n",
       "      <td>006978</td>\n",
       "      <td>non-sexist</td>\n",
       "    </tr>\n",
       "    <tr>\n",
       "      <th>1</th>\n",
       "      <td>EXIST2021</td>\n",
       "      <td>006979</td>\n",
       "      <td>non-sexist</td>\n",
       "    </tr>\n",
       "    <tr>\n",
       "      <th>2</th>\n",
       "      <td>EXIST2021</td>\n",
       "      <td>006980</td>\n",
       "      <td>ideological-inequality</td>\n",
       "    </tr>\n",
       "    <tr>\n",
       "      <th>3</th>\n",
       "      <td>EXIST2021</td>\n",
       "      <td>006981</td>\n",
       "      <td>stereotyping-dominance</td>\n",
       "    </tr>\n",
       "    <tr>\n",
       "      <th>4</th>\n",
       "      <td>EXIST2021</td>\n",
       "      <td>006982</td>\n",
       "      <td>non-sexist</td>\n",
       "    </tr>\n",
       "  </tbody>\n",
       "</table>\n",
       "</div>"
      ],
      "text/plain": [
       "   test_case      id                   task2\n",
       "0  EXIST2021  006978              non-sexist\n",
       "1  EXIST2021  006979              non-sexist\n",
       "2  EXIST2021  006980  ideological-inequality\n",
       "3  EXIST2021  006981  stereotyping-dominance\n",
       "4  EXIST2021  006982              non-sexist"
      ]
     },
     "execution_count": 92,
     "metadata": {},
     "output_type": "execute_result"
    }
   ],
   "source": [
    "df_final2_idf = pd.DataFrame({'test_case': df_both_idf['test_case'],\n",
    "                             'id': df_both_idf['id'].apply(lambda x: str(x).zfill(6)),\n",
    "                             'task2': df_both_idf['task2']})\n",
    "df_final2_idf.head()"
   ]
  },
  {
   "cell_type": "code",
   "execution_count": 93,
   "metadata": {},
   "outputs": [],
   "source": [
    "df_final2_idf.to_csv('../Submission/exist2021_Alclatos/task2_Alclatos_2.tsv', sep='\\t', header=None, index=False)"
   ]
  },
  {
   "cell_type": "markdown",
   "metadata": {},
   "source": [
    "---"
   ]
  },
  {
   "cell_type": "markdown",
   "metadata": {},
   "source": [
    "### Word embeddings <a class=\"anchor\" id=\"sub-we\"></a>"
   ]
  },
  {
   "cell_type": "markdown",
   "metadata": {},
   "source": [
    "* Concatenate the dataframes obtained"
   ]
  },
  {
   "cell_type": "code",
   "execution_count": 98,
   "metadata": {},
   "outputs": [
    {
     "data": {
      "text/html": [
       "<div>\n",
       "<style scoped>\n",
       "    .dataframe tbody tr th:only-of-type {\n",
       "        vertical-align: middle;\n",
       "    }\n",
       "\n",
       "    .dataframe tbody tr th {\n",
       "        vertical-align: top;\n",
       "    }\n",
       "\n",
       "    .dataframe thead th {\n",
       "        text-align: right;\n",
       "    }\n",
       "</style>\n",
       "<table border=\"1\" class=\"dataframe\">\n",
       "  <thead>\n",
       "    <tr style=\"text-align: right;\">\n",
       "      <th></th>\n",
       "      <th>test_case</th>\n",
       "      <th>id</th>\n",
       "      <th>source</th>\n",
       "      <th>language</th>\n",
       "      <th>text</th>\n",
       "      <th>task1_encoding</th>\n",
       "      <th>task2_encoding</th>\n",
       "      <th>task1</th>\n",
       "      <th>task2</th>\n",
       "    </tr>\n",
       "  </thead>\n",
       "  <tbody>\n",
       "    <tr>\n",
       "      <th>0</th>\n",
       "      <td>EXIST2021</td>\n",
       "      <td>6978</td>\n",
       "      <td>gab</td>\n",
       "      <td>en</td>\n",
       "      <td>Pennsylvania State Rep horrifies with opening ...</td>\n",
       "      <td>0</td>\n",
       "      <td>non-sexist</td>\n",
       "      <td>non-sexist</td>\n",
       "      <td>non-sexist</td>\n",
       "    </tr>\n",
       "    <tr>\n",
       "      <th>1</th>\n",
       "      <td>EXIST2021</td>\n",
       "      <td>6979</td>\n",
       "      <td>twitter</td>\n",
       "      <td>en</td>\n",
       "      <td>@iilovegrapes He sounds like as ass, and very ...</td>\n",
       "      <td>0</td>\n",
       "      <td>non-sexist</td>\n",
       "      <td>non-sexist</td>\n",
       "      <td>non-sexist</td>\n",
       "    </tr>\n",
       "    <tr>\n",
       "      <th>2</th>\n",
       "      <td>EXIST2021</td>\n",
       "      <td>6980</td>\n",
       "      <td>twitter</td>\n",
       "      <td>en</td>\n",
       "      <td>@averyangryskel1 @4ARealistParty LOL! \"This be...</td>\n",
       "      <td>1</td>\n",
       "      <td>1.0</td>\n",
       "      <td>sexist</td>\n",
       "      <td>stereotyping-dominance</td>\n",
       "    </tr>\n",
       "    <tr>\n",
       "      <th>3</th>\n",
       "      <td>EXIST2021</td>\n",
       "      <td>6981</td>\n",
       "      <td>twitter</td>\n",
       "      <td>en</td>\n",
       "      <td>@WanderOrange @stalliontwink Rights?I mean yea...</td>\n",
       "      <td>1</td>\n",
       "      <td>1.0</td>\n",
       "      <td>sexist</td>\n",
       "      <td>stereotyping-dominance</td>\n",
       "    </tr>\n",
       "    <tr>\n",
       "      <th>4</th>\n",
       "      <td>EXIST2021</td>\n",
       "      <td>6982</td>\n",
       "      <td>twitter</td>\n",
       "      <td>en</td>\n",
       "      <td>the jack manifold appreciation i’m seeing is o...</td>\n",
       "      <td>0</td>\n",
       "      <td>non-sexist</td>\n",
       "      <td>non-sexist</td>\n",
       "      <td>non-sexist</td>\n",
       "    </tr>\n",
       "  </tbody>\n",
       "</table>\n",
       "</div>"
      ],
      "text/plain": [
       "   test_case    id   source language  \\\n",
       "0  EXIST2021  6978      gab       en   \n",
       "1  EXIST2021  6979  twitter       en   \n",
       "2  EXIST2021  6980  twitter       en   \n",
       "3  EXIST2021  6981  twitter       en   \n",
       "4  EXIST2021  6982  twitter       en   \n",
       "\n",
       "                                                text  task1_encoding  \\\n",
       "0  Pennsylvania State Rep horrifies with opening ...               0   \n",
       "1  @iilovegrapes He sounds like as ass, and very ...               0   \n",
       "2  @averyangryskel1 @4ARealistParty LOL! \"This be...               1   \n",
       "3  @WanderOrange @stalliontwink Rights?I mean yea...               1   \n",
       "4  the jack manifold appreciation i’m seeing is o...               0   \n",
       "\n",
       "  task2_encoding       task1                   task2  \n",
       "0     non-sexist  non-sexist              non-sexist  \n",
       "1     non-sexist  non-sexist              non-sexist  \n",
       "2            1.0      sexist  stereotyping-dominance  \n",
       "3            1.0      sexist  stereotyping-dominance  \n",
       "4     non-sexist  non-sexist              non-sexist  "
      ]
     },
     "execution_count": 98,
     "metadata": {},
     "output_type": "execute_result"
    }
   ],
   "source": [
    "df_both_we = pd.merge(df_test_we, df_test2_we[['id', 'task2_encoding']], left_on='id',  right_on='id', how='outer')\n",
    "\n",
    "df_both_we['task2_encoding'] = df_both_we['task2_encoding'].fillna('non-sexist')\n",
    "df_both_we['task1'] = df_both_we['task1_encoding'].replace({0: 'non-sexist',\n",
    "                                                      1: 'sexist'})\n",
    "\n",
    "df_both_we['task2'] = df_both_we['task2_encoding'].replace({0: 'ideological-inequality',\n",
    "                                                      1: 'stereotyping-dominance',\n",
    "                                                      2: 'misogyny-non-sexual-violence',\n",
    "                                                      3: 'sexual-violence', \n",
    "                                                      4: 'objectification'})\n",
    "df_both_we.head()"
   ]
  },
  {
   "cell_type": "markdown",
   "metadata": {},
   "source": [
    "* Format the results for submission"
   ]
  },
  {
   "cell_type": "code",
   "execution_count": 94,
   "metadata": {},
   "outputs": [
    {
     "data": {
      "text/html": [
       "<div>\n",
       "<style scoped>\n",
       "    .dataframe tbody tr th:only-of-type {\n",
       "        vertical-align: middle;\n",
       "    }\n",
       "\n",
       "    .dataframe tbody tr th {\n",
       "        vertical-align: top;\n",
       "    }\n",
       "\n",
       "    .dataframe thead th {\n",
       "        text-align: right;\n",
       "    }\n",
       "</style>\n",
       "<table border=\"1\" class=\"dataframe\">\n",
       "  <thead>\n",
       "    <tr style=\"text-align: right;\">\n",
       "      <th></th>\n",
       "      <th>test_case</th>\n",
       "      <th>id</th>\n",
       "      <th>task1</th>\n",
       "    </tr>\n",
       "  </thead>\n",
       "  <tbody>\n",
       "    <tr>\n",
       "      <th>0</th>\n",
       "      <td>EXIST2021</td>\n",
       "      <td>006978</td>\n",
       "      <td>non-sexist</td>\n",
       "    </tr>\n",
       "    <tr>\n",
       "      <th>1</th>\n",
       "      <td>EXIST2021</td>\n",
       "      <td>006979</td>\n",
       "      <td>non-sexist</td>\n",
       "    </tr>\n",
       "    <tr>\n",
       "      <th>2</th>\n",
       "      <td>EXIST2021</td>\n",
       "      <td>006980</td>\n",
       "      <td>sexist</td>\n",
       "    </tr>\n",
       "    <tr>\n",
       "      <th>3</th>\n",
       "      <td>EXIST2021</td>\n",
       "      <td>006981</td>\n",
       "      <td>sexist</td>\n",
       "    </tr>\n",
       "    <tr>\n",
       "      <th>4</th>\n",
       "      <td>EXIST2021</td>\n",
       "      <td>006982</td>\n",
       "      <td>non-sexist</td>\n",
       "    </tr>\n",
       "  </tbody>\n",
       "</table>\n",
       "</div>"
      ],
      "text/plain": [
       "   test_case      id       task1\n",
       "0  EXIST2021  006978  non-sexist\n",
       "1  EXIST2021  006979  non-sexist\n",
       "2  EXIST2021  006980      sexist\n",
       "3  EXIST2021  006981      sexist\n",
       "4  EXIST2021  006982  non-sexist"
      ]
     },
     "execution_count": 94,
     "metadata": {},
     "output_type": "execute_result"
    }
   ],
   "source": [
    "df_final1_we = pd.DataFrame({'test_case': df_both_we['test_case'],\n",
    "                             'id': df_both_we['id'].apply(lambda x: str(x).zfill(6)),\n",
    "                             'task1': df_both_we['task1']})\n",
    "df_final1_we.head()"
   ]
  },
  {
   "cell_type": "code",
   "execution_count": 95,
   "metadata": {},
   "outputs": [],
   "source": [
    "df_final1_we.to_csv('../Submission/exist2021_Alclatos/task1_Alclatos_3.tsv', sep='\\t', header=None, index=False)"
   ]
  },
  {
   "cell_type": "code",
   "execution_count": 96,
   "metadata": {},
   "outputs": [
    {
     "data": {
      "text/html": [
       "<div>\n",
       "<style scoped>\n",
       "    .dataframe tbody tr th:only-of-type {\n",
       "        vertical-align: middle;\n",
       "    }\n",
       "\n",
       "    .dataframe tbody tr th {\n",
       "        vertical-align: top;\n",
       "    }\n",
       "\n",
       "    .dataframe thead th {\n",
       "        text-align: right;\n",
       "    }\n",
       "</style>\n",
       "<table border=\"1\" class=\"dataframe\">\n",
       "  <thead>\n",
       "    <tr style=\"text-align: right;\">\n",
       "      <th></th>\n",
       "      <th>test_case</th>\n",
       "      <th>id</th>\n",
       "      <th>task2</th>\n",
       "    </tr>\n",
       "  </thead>\n",
       "  <tbody>\n",
       "    <tr>\n",
       "      <th>0</th>\n",
       "      <td>EXIST2021</td>\n",
       "      <td>006978</td>\n",
       "      <td>non-sexist</td>\n",
       "    </tr>\n",
       "    <tr>\n",
       "      <th>1</th>\n",
       "      <td>EXIST2021</td>\n",
       "      <td>006979</td>\n",
       "      <td>non-sexist</td>\n",
       "    </tr>\n",
       "    <tr>\n",
       "      <th>2</th>\n",
       "      <td>EXIST2021</td>\n",
       "      <td>006980</td>\n",
       "      <td>stereotyping-dominance</td>\n",
       "    </tr>\n",
       "    <tr>\n",
       "      <th>3</th>\n",
       "      <td>EXIST2021</td>\n",
       "      <td>006981</td>\n",
       "      <td>stereotyping-dominance</td>\n",
       "    </tr>\n",
       "    <tr>\n",
       "      <th>4</th>\n",
       "      <td>EXIST2021</td>\n",
       "      <td>006982</td>\n",
       "      <td>non-sexist</td>\n",
       "    </tr>\n",
       "  </tbody>\n",
       "</table>\n",
       "</div>"
      ],
      "text/plain": [
       "   test_case      id                   task2\n",
       "0  EXIST2021  006978              non-sexist\n",
       "1  EXIST2021  006979              non-sexist\n",
       "2  EXIST2021  006980  stereotyping-dominance\n",
       "3  EXIST2021  006981  stereotyping-dominance\n",
       "4  EXIST2021  006982              non-sexist"
      ]
     },
     "execution_count": 96,
     "metadata": {},
     "output_type": "execute_result"
    }
   ],
   "source": [
    "df_final2_we = pd.DataFrame({'test_case': df_both_we['test_case'],\n",
    "                             'id': df_both_we['id'].apply(lambda x: str(x).zfill(6)),\n",
    "                             'task2': df_both_we['task2']})\n",
    "df_final2_we.head()"
   ]
  },
  {
   "cell_type": "code",
   "execution_count": 97,
   "metadata": {},
   "outputs": [],
   "source": [
    "df_final2_we.to_csv('../Submission/exist2021_Alclatos/task2_Alclatos_3.tsv', sep='\\t', header=None, index=False)"
   ]
  },
  {
   "cell_type": "markdown",
   "metadata": {},
   "source": [
    "---"
   ]
  }
 ],
 "metadata": {
  "kernelspec": {
   "display_name": "Python 3",
   "language": "python",
   "name": "python3"
  },
  "language_info": {
   "codemirror_mode": {
    "name": "ipython",
    "version": 3
   },
   "file_extension": ".py",
   "mimetype": "text/x-python",
   "name": "python",
   "nbconvert_exporter": "python",
   "pygments_lexer": "ipython3",
   "version": "3.8.6"
  }
 },
 "nbformat": 4,
 "nbformat_minor": 5
}
